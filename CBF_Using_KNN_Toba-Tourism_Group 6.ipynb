{
  "cells": [
    {
      "cell_type": "markdown",
      "source": [
        "# **Recommendation System Project - Toba Tourism | Progress II**"
      ],
      "metadata": {
        "id": "iyn5EUd8HroM"
      }
    },
    {
      "cell_type": "markdown",
      "source": [
        "Group 06 :\n",
        "\n",
        "*   12S21016 - Kevin Unedo Samosir\n",
        "*   12S21023 - Bintang Situmorang\n",
        "*   12S21027 - Rebecca Sihombing\n",
        "\n"
      ],
      "metadata": {
        "id": "KOKVoIepH7Xj"
      }
    },
    {
      "cell_type": "markdown",
      "source": [
        "## Content-based Filtering - Model Pembanding | **K-Nearest Neighbors (KNN)**"
      ],
      "metadata": {
        "id": "h2ovSCEGIAQC"
      }
    },
    {
      "cell_type": "markdown",
      "source": [
        "### 1. Library Installation and Imports"
      ],
      "metadata": {
        "id": "0rTG1duJM8FA"
      }
    },
    {
      "cell_type": "code",
      "execution_count": 1,
      "metadata": {
        "colab": {
          "base_uri": "https://localhost:8080/"
        },
        "id": "Jzt-7UH0MSW3",
        "outputId": "04d281aa-0c1d-4e34-f6fd-c0eb128945fe"
      },
      "outputs": [
        {
          "output_type": "stream",
          "name": "stdout",
          "text": [
            "Collecting Sastrawi\n",
            "  Downloading Sastrawi-1.0.1-py2.py3-none-any.whl.metadata (909 bytes)\n",
            "Downloading Sastrawi-1.0.1-py2.py3-none-any.whl (209 kB)\n",
            "\u001b[2K   \u001b[90m━━━━━━━━━━━━━━━━━━━━━━━━━━━━━━━━━━━━━━━━\u001b[0m \u001b[32m209.7/209.7 kB\u001b[0m \u001b[31m3.4 MB/s\u001b[0m eta \u001b[36m0:00:00\u001b[0m\n",
            "\u001b[?25hInstalling collected packages: Sastrawi\n",
            "Successfully installed Sastrawi-1.0.1\n",
            "Requirement already satisfied: gdown in /usr/local/lib/python3.10/dist-packages (5.2.0)\n",
            "Requirement already satisfied: beautifulsoup4 in /usr/local/lib/python3.10/dist-packages (from gdown) (4.12.3)\n",
            "Requirement already satisfied: filelock in /usr/local/lib/python3.10/dist-packages (from gdown) (3.16.1)\n",
            "Requirement already satisfied: requests[socks] in /usr/local/lib/python3.10/dist-packages (from gdown) (2.32.3)\n",
            "Requirement already satisfied: tqdm in /usr/local/lib/python3.10/dist-packages (from gdown) (4.66.6)\n",
            "Requirement already satisfied: soupsieve>1.2 in /usr/local/lib/python3.10/dist-packages (from beautifulsoup4->gdown) (2.6)\n",
            "Requirement already satisfied: charset-normalizer<4,>=2 in /usr/local/lib/python3.10/dist-packages (from requests[socks]->gdown) (3.4.0)\n",
            "Requirement already satisfied: idna<4,>=2.5 in /usr/local/lib/python3.10/dist-packages (from requests[socks]->gdown) (3.10)\n",
            "Requirement already satisfied: urllib3<3,>=1.21.1 in /usr/local/lib/python3.10/dist-packages (from requests[socks]->gdown) (2.2.3)\n",
            "Requirement already satisfied: certifi>=2017.4.17 in /usr/local/lib/python3.10/dist-packages (from requests[socks]->gdown) (2024.8.30)\n",
            "Requirement already satisfied: PySocks!=1.5.7,>=1.5.6 in /usr/local/lib/python3.10/dist-packages (from requests[socks]->gdown) (1.7.1)\n"
          ]
        }
      ],
      "source": [
        "!pip install Sastrawi\n",
        "!pip install gdown\n",
        "\n",
        "import pandas as pd\n",
        "import numpy as np\n",
        "import matplotlib.pyplot as plt\n",
        "from sklearn.feature_extraction.text import TfidfVectorizer\n",
        "from sklearn.preprocessing import LabelEncoder\n",
        "from sklearn.neighbors import NearestNeighbors\n",
        "from sklearn.metrics.pairwise import cosine_similarity\n",
        "from sklearn.model_selection import train_test_split, GridSearchCV\n",
        "from sklearn.metrics import make_scorer\n",
        "from Sastrawi.StopWordRemover.StopWordRemoverFactory import StopWordRemoverFactory\n"
      ]
    },
    {
      "cell_type": "markdown",
      "source": [
        "Kode di atas mengimpor beberapa pustaka dan modul yang digunakan untuk analisis teks, pemrosesan data, dan evaluasi model dalam rekomendasi berbasis konten. Pertama, `Sastrawi` diinstal untuk melakukan pengolahan bahasa alami, khususnya untuk menghapus kata-kata berhenti dalam bahasa Indonesia, dan `gdown` digunakan untuk mengunduh file dari Google Drive. Pustaka seperti `pandas` dan `numpy` digunakan untuk manipulasi data dan operasi numerik, sedangkan `matplotlib.pyplot` digunakan untuk visualisasi grafik. `TfidfVectorizer` dari `sklearn.feature_extraction.text` digunakan untuk mengonversi teks menjadi representasi numerik dengan pendekatan TF-IDF. `LabelEncoder` untuk mengonversi label kategorikal menjadi angka, dan `NearestNeighbors` serta `cosine_similarity` digunakan dalam rekomendasi berbasis kesamaan antara item. `train_test_split` dan `GridSearchCV` membantu dalam pembagian data dan pencarian hyperparameter model, sementara `make_scorer` digunakan untuk membuat fungsi penilaian khusus dalam evaluasi model. Terakhir, `StopWordRemoverFactory` dari `Sastrawi` digunakan untuk menghapus kata-kata tidak berarti dalam teks bahasa Indonesia."
      ],
      "metadata": {
        "id": "crsjUtP5Trhe"
      }
    },
    {
      "cell_type": "markdown",
      "source": [
        "### 2. Download and Load Dataset"
      ],
      "metadata": {
        "id": "E9vR4h4XNTLv"
      }
    },
    {
      "cell_type": "code",
      "execution_count": 2,
      "metadata": {
        "colab": {
          "base_uri": "https://localhost:8080/",
          "height": 275
        },
        "id": "6FmqiwNx8IBp",
        "outputId": "605e9e04-9956-4e7b-f384-4f6255eae1dd"
      },
      "outputs": [
        {
          "output_type": "stream",
          "name": "stdout",
          "text": [
            "Downloading...\n",
            "From: https://drive.google.com/uc?id=15IvPCBnM0d7EdV7_j5urms9cCwnSa9v7\n",
            "To: /content/Tempat-Wisata-Toba-Preprocessing.csv\n",
            "\r  0% 0.00/8.99M [00:00<?, ?B/s]\r100% 8.99M/8.99M [00:00<00:00, 155MB/s]\n"
          ]
        },
        {
          "output_type": "execute_result",
          "data": {
            "text/plain": [
              "   Unnamed: 0.1  Unnamed: 0  \\\n",
              "0             0           0   \n",
              "1             1           1   \n",
              "2             2           2   \n",
              "3             3           3   \n",
              "4             4           4   \n",
              "\n",
              "                                             address  PlaceID  \\\n",
              "0  Jl. Sibola Hotang, Sibola Hotangsas, Kec. Bali...        0   \n",
              "1  Jl. Sibola Hotang, Sibola Hotangsas, Kec. Bali...        0   \n",
              "2  Jl. Sibola Hotang, Sibola Hotangsas, Kec. Bali...        0   \n",
              "3  Jl. Sibola Hotang, Sibola Hotangsas, Kec. Bali...        0   \n",
              "4  Jl. Sibola Hotang, Sibola Hotangsas, Kec. Bali...        0   \n",
              "\n",
              "          Nama_tempat_wisata       Category    ReviewerId  Rating  \\\n",
              "0  PASIR PUTIH LUMBAN BULBUL  Wisata Bahari  1.126030e+20     5.0   \n",
              "1  PASIR PUTIH LUMBAN BULBUL  Wisata Bahari  1.119090e+20     5.0   \n",
              "2  PASIR PUTIH LUMBAN BULBUL  Wisata Bahari  1.078860e+20     5.0   \n",
              "3  PASIR PUTIH LUMBAN BULBUL  Wisata Bahari  1.130720e+20     5.0   \n",
              "4  PASIR PUTIH LUMBAN BULBUL  Wisata Bahari  1.061730e+20     5.0   \n",
              "\n",
              "                         Reviews  \n",
              "0                            NaN  \n",
              "1                          bagus  \n",
              "2                            NaN  \n",
              "3             sangat menyenagkan  \n",
              "4  bebas foto dimana aja cuma 2k  "
            ],
            "text/html": [
              "\n",
              "  <div id=\"df-bd03e91e-3a42-4dc6-8fc6-84df45d70607\" class=\"colab-df-container\">\n",
              "    <div>\n",
              "<style scoped>\n",
              "    .dataframe tbody tr th:only-of-type {\n",
              "        vertical-align: middle;\n",
              "    }\n",
              "\n",
              "    .dataframe tbody tr th {\n",
              "        vertical-align: top;\n",
              "    }\n",
              "\n",
              "    .dataframe thead th {\n",
              "        text-align: right;\n",
              "    }\n",
              "</style>\n",
              "<table border=\"1\" class=\"dataframe\">\n",
              "  <thead>\n",
              "    <tr style=\"text-align: right;\">\n",
              "      <th></th>\n",
              "      <th>Unnamed: 0.1</th>\n",
              "      <th>Unnamed: 0</th>\n",
              "      <th>address</th>\n",
              "      <th>PlaceID</th>\n",
              "      <th>Nama_tempat_wisata</th>\n",
              "      <th>Category</th>\n",
              "      <th>ReviewerId</th>\n",
              "      <th>Rating</th>\n",
              "      <th>Reviews</th>\n",
              "    </tr>\n",
              "  </thead>\n",
              "  <tbody>\n",
              "    <tr>\n",
              "      <th>0</th>\n",
              "      <td>0</td>\n",
              "      <td>0</td>\n",
              "      <td>Jl. Sibola Hotang, Sibola Hotangsas, Kec. Bali...</td>\n",
              "      <td>0</td>\n",
              "      <td>PASIR PUTIH LUMBAN BULBUL</td>\n",
              "      <td>Wisata Bahari</td>\n",
              "      <td>1.126030e+20</td>\n",
              "      <td>5.0</td>\n",
              "      <td>NaN</td>\n",
              "    </tr>\n",
              "    <tr>\n",
              "      <th>1</th>\n",
              "      <td>1</td>\n",
              "      <td>1</td>\n",
              "      <td>Jl. Sibola Hotang, Sibola Hotangsas, Kec. Bali...</td>\n",
              "      <td>0</td>\n",
              "      <td>PASIR PUTIH LUMBAN BULBUL</td>\n",
              "      <td>Wisata Bahari</td>\n",
              "      <td>1.119090e+20</td>\n",
              "      <td>5.0</td>\n",
              "      <td>bagus</td>\n",
              "    </tr>\n",
              "    <tr>\n",
              "      <th>2</th>\n",
              "      <td>2</td>\n",
              "      <td>2</td>\n",
              "      <td>Jl. Sibola Hotang, Sibola Hotangsas, Kec. Bali...</td>\n",
              "      <td>0</td>\n",
              "      <td>PASIR PUTIH LUMBAN BULBUL</td>\n",
              "      <td>Wisata Bahari</td>\n",
              "      <td>1.078860e+20</td>\n",
              "      <td>5.0</td>\n",
              "      <td>NaN</td>\n",
              "    </tr>\n",
              "    <tr>\n",
              "      <th>3</th>\n",
              "      <td>3</td>\n",
              "      <td>3</td>\n",
              "      <td>Jl. Sibola Hotang, Sibola Hotangsas, Kec. Bali...</td>\n",
              "      <td>0</td>\n",
              "      <td>PASIR PUTIH LUMBAN BULBUL</td>\n",
              "      <td>Wisata Bahari</td>\n",
              "      <td>1.130720e+20</td>\n",
              "      <td>5.0</td>\n",
              "      <td>sangat menyenagkan</td>\n",
              "    </tr>\n",
              "    <tr>\n",
              "      <th>4</th>\n",
              "      <td>4</td>\n",
              "      <td>4</td>\n",
              "      <td>Jl. Sibola Hotang, Sibola Hotangsas, Kec. Bali...</td>\n",
              "      <td>0</td>\n",
              "      <td>PASIR PUTIH LUMBAN BULBUL</td>\n",
              "      <td>Wisata Bahari</td>\n",
              "      <td>1.061730e+20</td>\n",
              "      <td>5.0</td>\n",
              "      <td>bebas foto dimana aja cuma 2k</td>\n",
              "    </tr>\n",
              "  </tbody>\n",
              "</table>\n",
              "</div>\n",
              "    <div class=\"colab-df-buttons\">\n",
              "\n",
              "  <div class=\"colab-df-container\">\n",
              "    <button class=\"colab-df-convert\" onclick=\"convertToInteractive('df-bd03e91e-3a42-4dc6-8fc6-84df45d70607')\"\n",
              "            title=\"Convert this dataframe to an interactive table.\"\n",
              "            style=\"display:none;\">\n",
              "\n",
              "  <svg xmlns=\"http://www.w3.org/2000/svg\" height=\"24px\" viewBox=\"0 -960 960 960\">\n",
              "    <path d=\"M120-120v-720h720v720H120Zm60-500h600v-160H180v160Zm220 220h160v-160H400v160Zm0 220h160v-160H400v160ZM180-400h160v-160H180v160Zm440 0h160v-160H620v160ZM180-180h160v-160H180v160Zm440 0h160v-160H620v160Z\"/>\n",
              "  </svg>\n",
              "    </button>\n",
              "\n",
              "  <style>\n",
              "    .colab-df-container {\n",
              "      display:flex;\n",
              "      gap: 12px;\n",
              "    }\n",
              "\n",
              "    .colab-df-convert {\n",
              "      background-color: #E8F0FE;\n",
              "      border: none;\n",
              "      border-radius: 50%;\n",
              "      cursor: pointer;\n",
              "      display: none;\n",
              "      fill: #1967D2;\n",
              "      height: 32px;\n",
              "      padding: 0 0 0 0;\n",
              "      width: 32px;\n",
              "    }\n",
              "\n",
              "    .colab-df-convert:hover {\n",
              "      background-color: #E2EBFA;\n",
              "      box-shadow: 0px 1px 2px rgba(60, 64, 67, 0.3), 0px 1px 3px 1px rgba(60, 64, 67, 0.15);\n",
              "      fill: #174EA6;\n",
              "    }\n",
              "\n",
              "    .colab-df-buttons div {\n",
              "      margin-bottom: 4px;\n",
              "    }\n",
              "\n",
              "    [theme=dark] .colab-df-convert {\n",
              "      background-color: #3B4455;\n",
              "      fill: #D2E3FC;\n",
              "    }\n",
              "\n",
              "    [theme=dark] .colab-df-convert:hover {\n",
              "      background-color: #434B5C;\n",
              "      box-shadow: 0px 1px 3px 1px rgba(0, 0, 0, 0.15);\n",
              "      filter: drop-shadow(0px 1px 2px rgba(0, 0, 0, 0.3));\n",
              "      fill: #FFFFFF;\n",
              "    }\n",
              "  </style>\n",
              "\n",
              "    <script>\n",
              "      const buttonEl =\n",
              "        document.querySelector('#df-bd03e91e-3a42-4dc6-8fc6-84df45d70607 button.colab-df-convert');\n",
              "      buttonEl.style.display =\n",
              "        google.colab.kernel.accessAllowed ? 'block' : 'none';\n",
              "\n",
              "      async function convertToInteractive(key) {\n",
              "        const element = document.querySelector('#df-bd03e91e-3a42-4dc6-8fc6-84df45d70607');\n",
              "        const dataTable =\n",
              "          await google.colab.kernel.invokeFunction('convertToInteractive',\n",
              "                                                    [key], {});\n",
              "        if (!dataTable) return;\n",
              "\n",
              "        const docLinkHtml = 'Like what you see? Visit the ' +\n",
              "          '<a target=\"_blank\" href=https://colab.research.google.com/notebooks/data_table.ipynb>data table notebook</a>'\n",
              "          + ' to learn more about interactive tables.';\n",
              "        element.innerHTML = '';\n",
              "        dataTable['output_type'] = 'display_data';\n",
              "        await google.colab.output.renderOutput(dataTable, element);\n",
              "        const docLink = document.createElement('div');\n",
              "        docLink.innerHTML = docLinkHtml;\n",
              "        element.appendChild(docLink);\n",
              "      }\n",
              "    </script>\n",
              "  </div>\n",
              "\n",
              "\n",
              "<div id=\"df-daee41c9-7e78-47b4-aa50-0323ee3666ea\">\n",
              "  <button class=\"colab-df-quickchart\" onclick=\"quickchart('df-daee41c9-7e78-47b4-aa50-0323ee3666ea')\"\n",
              "            title=\"Suggest charts\"\n",
              "            style=\"display:none;\">\n",
              "\n",
              "<svg xmlns=\"http://www.w3.org/2000/svg\" height=\"24px\"viewBox=\"0 0 24 24\"\n",
              "     width=\"24px\">\n",
              "    <g>\n",
              "        <path d=\"M19 3H5c-1.1 0-2 .9-2 2v14c0 1.1.9 2 2 2h14c1.1 0 2-.9 2-2V5c0-1.1-.9-2-2-2zM9 17H7v-7h2v7zm4 0h-2V7h2v10zm4 0h-2v-4h2v4z\"/>\n",
              "    </g>\n",
              "</svg>\n",
              "  </button>\n",
              "\n",
              "<style>\n",
              "  .colab-df-quickchart {\n",
              "      --bg-color: #E8F0FE;\n",
              "      --fill-color: #1967D2;\n",
              "      --hover-bg-color: #E2EBFA;\n",
              "      --hover-fill-color: #174EA6;\n",
              "      --disabled-fill-color: #AAA;\n",
              "      --disabled-bg-color: #DDD;\n",
              "  }\n",
              "\n",
              "  [theme=dark] .colab-df-quickchart {\n",
              "      --bg-color: #3B4455;\n",
              "      --fill-color: #D2E3FC;\n",
              "      --hover-bg-color: #434B5C;\n",
              "      --hover-fill-color: #FFFFFF;\n",
              "      --disabled-bg-color: #3B4455;\n",
              "      --disabled-fill-color: #666;\n",
              "  }\n",
              "\n",
              "  .colab-df-quickchart {\n",
              "    background-color: var(--bg-color);\n",
              "    border: none;\n",
              "    border-radius: 50%;\n",
              "    cursor: pointer;\n",
              "    display: none;\n",
              "    fill: var(--fill-color);\n",
              "    height: 32px;\n",
              "    padding: 0;\n",
              "    width: 32px;\n",
              "  }\n",
              "\n",
              "  .colab-df-quickchart:hover {\n",
              "    background-color: var(--hover-bg-color);\n",
              "    box-shadow: 0 1px 2px rgba(60, 64, 67, 0.3), 0 1px 3px 1px rgba(60, 64, 67, 0.15);\n",
              "    fill: var(--button-hover-fill-color);\n",
              "  }\n",
              "\n",
              "  .colab-df-quickchart-complete:disabled,\n",
              "  .colab-df-quickchart-complete:disabled:hover {\n",
              "    background-color: var(--disabled-bg-color);\n",
              "    fill: var(--disabled-fill-color);\n",
              "    box-shadow: none;\n",
              "  }\n",
              "\n",
              "  .colab-df-spinner {\n",
              "    border: 2px solid var(--fill-color);\n",
              "    border-color: transparent;\n",
              "    border-bottom-color: var(--fill-color);\n",
              "    animation:\n",
              "      spin 1s steps(1) infinite;\n",
              "  }\n",
              "\n",
              "  @keyframes spin {\n",
              "    0% {\n",
              "      border-color: transparent;\n",
              "      border-bottom-color: var(--fill-color);\n",
              "      border-left-color: var(--fill-color);\n",
              "    }\n",
              "    20% {\n",
              "      border-color: transparent;\n",
              "      border-left-color: var(--fill-color);\n",
              "      border-top-color: var(--fill-color);\n",
              "    }\n",
              "    30% {\n",
              "      border-color: transparent;\n",
              "      border-left-color: var(--fill-color);\n",
              "      border-top-color: var(--fill-color);\n",
              "      border-right-color: var(--fill-color);\n",
              "    }\n",
              "    40% {\n",
              "      border-color: transparent;\n",
              "      border-right-color: var(--fill-color);\n",
              "      border-top-color: var(--fill-color);\n",
              "    }\n",
              "    60% {\n",
              "      border-color: transparent;\n",
              "      border-right-color: var(--fill-color);\n",
              "    }\n",
              "    80% {\n",
              "      border-color: transparent;\n",
              "      border-right-color: var(--fill-color);\n",
              "      border-bottom-color: var(--fill-color);\n",
              "    }\n",
              "    90% {\n",
              "      border-color: transparent;\n",
              "      border-bottom-color: var(--fill-color);\n",
              "    }\n",
              "  }\n",
              "</style>\n",
              "\n",
              "  <script>\n",
              "    async function quickchart(key) {\n",
              "      const quickchartButtonEl =\n",
              "        document.querySelector('#' + key + ' button');\n",
              "      quickchartButtonEl.disabled = true;  // To prevent multiple clicks.\n",
              "      quickchartButtonEl.classList.add('colab-df-spinner');\n",
              "      try {\n",
              "        const charts = await google.colab.kernel.invokeFunction(\n",
              "            'suggestCharts', [key], {});\n",
              "      } catch (error) {\n",
              "        console.error('Error during call to suggestCharts:', error);\n",
              "      }\n",
              "      quickchartButtonEl.classList.remove('colab-df-spinner');\n",
              "      quickchartButtonEl.classList.add('colab-df-quickchart-complete');\n",
              "    }\n",
              "    (() => {\n",
              "      let quickchartButtonEl =\n",
              "        document.querySelector('#df-daee41c9-7e78-47b4-aa50-0323ee3666ea button');\n",
              "      quickchartButtonEl.style.display =\n",
              "        google.colab.kernel.accessAllowed ? 'block' : 'none';\n",
              "    })();\n",
              "  </script>\n",
              "</div>\n",
              "\n",
              "    </div>\n",
              "  </div>\n"
            ],
            "application/vnd.google.colaboratory.intrinsic+json": {
              "type": "dataframe",
              "variable_name": "data",
              "summary": "{\n  \"name\": \"data\",\n  \"rows\": 43226,\n  \"fields\": [\n    {\n      \"column\": \"Unnamed: 0.1\",\n      \"properties\": {\n        \"dtype\": \"number\",\n        \"std\": 12478,\n        \"min\": 0,\n        \"max\": 43225,\n        \"num_unique_values\": 43226,\n        \"samples\": [\n          465,\n          1278,\n          15320\n        ],\n        \"semantic_type\": \"\",\n        \"description\": \"\"\n      }\n    },\n    {\n      \"column\": \"Unnamed: 0\",\n      \"properties\": {\n        \"dtype\": \"number\",\n        \"std\": 12478,\n        \"min\": 0,\n        \"max\": 43225,\n        \"num_unique_values\": 43226,\n        \"samples\": [\n          465,\n          1278,\n          15320\n        ],\n        \"semantic_type\": \"\",\n        \"description\": \"\"\n      }\n    },\n    {\n      \"column\": \"address\",\n      \"properties\": {\n        \"dtype\": \"category\",\n        \"num_unique_values\": 100,\n        \"samples\": [\n          \"WG69+M82, Tongging, Kec. Merek, Kabupaten Karo, Sumatera Utara 22173, Indonesia\",\n          \"83M7+RJ4, Napitupulu Bagasan, Kec. Balige, Toba, Sumatera Utara, Indonesia\",\n          \"Taman Eden, Ps. Lumban Julu, Kec. Lumban Julu, Toba, Sumatera Utara 22386, Indonesia\"\n        ],\n        \"semantic_type\": \"\",\n        \"description\": \"\"\n      }\n    },\n    {\n      \"column\": \"PlaceID\",\n      \"properties\": {\n        \"dtype\": \"number\",\n        \"std\": 28,\n        \"min\": 0,\n        \"max\": 101,\n        \"num_unique_values\": 102,\n        \"samples\": [\n          30,\n          67,\n          62\n        ],\n        \"semantic_type\": \"\",\n        \"description\": \"\"\n      }\n    },\n    {\n      \"column\": \"Nama_tempat_wisata\",\n      \"properties\": {\n        \"dtype\": \"category\",\n        \"num_unique_values\": 102,\n        \"samples\": [\n          \"Panatapan Tara Bunga\",\n          \"Pantai Indah Situngkir (PIS)\",\n          \"Pasar Tomok\"\n        ],\n        \"semantic_type\": \"\",\n        \"description\": \"\"\n      }\n    },\n    {\n      \"column\": \"Category\",\n      \"properties\": {\n        \"dtype\": \"category\",\n        \"num_unique_values\": 8,\n        \"samples\": [\n          \"Wisata Rohani\",\n          \"Wisata Sejarah\",\n          \"Wisata Bahari\"\n        ],\n        \"semantic_type\": \"\",\n        \"description\": \"\"\n      }\n    },\n    {\n      \"column\": \"ReviewerId\",\n      \"properties\": {\n        \"dtype\": \"number\",\n        \"std\": 5.343909672784782e+18,\n        \"min\": 1.00001e+20,\n        \"max\": 1.18446e+20,\n        \"num_unique_values\": 15011,\n        \"samples\": [\n          1.07312e+20,\n          1.03124e+20,\n          1.03245e+20\n        ],\n        \"semantic_type\": \"\",\n        \"description\": \"\"\n      }\n    },\n    {\n      \"column\": \"Rating\",\n      \"properties\": {\n        \"dtype\": \"number\",\n        \"std\": 0.9277599389462311,\n        \"min\": 1.0,\n        \"max\": 5.0,\n        \"num_unique_values\": 5,\n        \"samples\": [\n          2.0,\n          1.0,\n          3.0\n        ],\n        \"semantic_type\": \"\",\n        \"description\": \"\"\n      }\n    },\n    {\n      \"column\": \"Reviews\",\n      \"properties\": {\n        \"dtype\": \"category\",\n        \"num_unique_values\": 17992,\n        \"samples\": [\n          \"tidak ramah disabilitas tidak ada fasilitas pengguna kursi roda tidak ramah anak track berbatu cukup berbahaya\\narea parkir tidak bagus dengan biaya parkir rp10rb sangat tidak masuk akal\\nuntuk spot foto lumayan tidak lebih istimewa dibanding tempat lain di sekitar danau toba\",\n          \"keren kali buat nembak si polan cuy\\ud83d\\ude01\",\n          \"diterjemahkan oleh google bagus\\n\\nasli\\nnice\"\n        ],\n        \"semantic_type\": \"\",\n        \"description\": \"\"\n      }\n    }\n  ]\n}"
            }
          },
          "metadata": {},
          "execution_count": 2
        }
      ],
      "source": [
        "# Download the dataset and load it into a pandas DataFrame\n",
        "!gdown 15IvPCBnM0d7EdV7_j5urms9cCwnSa9v7\n",
        "\n",
        "# Load dataset\n",
        "file_path = 'Tempat-Wisata-Toba-Preprocessing.csv'\n",
        "data = pd.read_csv(file_path)\n",
        "data.head()"
      ]
    },
    {
      "cell_type": "markdown",
      "source": [
        "Kode di atas mengunduh dataset dari Google Drive menggunakan perintah `gdown` yang diikuti dengan ID file yang spesifik, dalam hal ini file dengan ID `15IvPCBnM0d7EdV7_j5urms9cCwnSa9v7`. Setelah berhasil diunduh, file CSV yang berisi data tentang tempat wisata di Toba dimuat ke dalam objek `data` menggunakan `pd.read_csv(file_path)`. Fungsi `data.head()` digunakan untuk menampilkan lima baris pertama dari dataset tersebut, sehingga kita dapat memeriksa struktur dan isi data yang telah dimuat ke dalam pandas DataFrame."
      ],
      "metadata": {
        "id": "zkrqpsTRTxXR"
      }
    },
    {
      "cell_type": "code",
      "execution_count": 3,
      "metadata": {
        "colab": {
          "base_uri": "https://localhost:8080/"
        },
        "id": "dGEJ9cCeHS5W",
        "outputId": "91289679-462e-4255-cdce-45ec0583c3b5"
      },
      "outputs": [
        {
          "output_type": "stream",
          "name": "stdout",
          "text": [
            "Index(['Unnamed: 0.1', 'Unnamed: 0', 'address', 'PlaceID',\n",
            "       'Nama_tempat_wisata', 'Category', 'ReviewerId', 'Rating', 'Reviews'],\n",
            "      dtype='object')\n",
            "(43226, 9)\n"
          ]
        }
      ],
      "source": [
        "# Display column names and dataset shape\n",
        "\n",
        "print(data.columns)\n",
        "print(data.shape)"
      ]
    },
    {
      "cell_type": "markdown",
      "source": [
        "Kode di atas digunakan untuk menampilkan nama-nama kolom dalam dataset dan bentuk (shape) dari dataset yang telah dimuat sebelumnya.\n",
        "\n",
        "- `data.columns` akan menampilkan daftar nama kolom dalam dataset `data`, sehingga kita bisa mengetahui struktur data (misalnya, apa saja fitur atau atribut yang ada dalam dataset).\n",
        "- `data.shape` akan menampilkan bentuk dataset dalam format tuple `(baris, kolom)`, yang menunjukkan jumlah baris dan kolom dalam dataset. Ini memberikan gambaran umum mengenai ukuran dataset."
      ],
      "metadata": {
        "id": "dwvwGpy-T0-8"
      }
    },
    {
      "cell_type": "markdown",
      "source": [
        "### 3. Check for Missing Values"
      ],
      "metadata": {
        "id": "38HGy8YoNf3b"
      }
    },
    {
      "cell_type": "code",
      "execution_count": 4,
      "metadata": {
        "colab": {
          "base_uri": "https://localhost:8080/"
        },
        "id": "zjByr0gEd4MM",
        "outputId": "b15e81d1-1e26-44c1-ad39-bf9e43432bde"
      },
      "outputs": [
        {
          "output_type": "stream",
          "name": "stdout",
          "text": [
            "Missing values in each column:\n",
            "Reviews       21060\n",
            "ReviewerId        1\n",
            "Rating            1\n",
            "dtype: int64\n"
          ]
        }
      ],
      "source": [
        "# Check for missing values\n",
        "def check_missing_values(df):\n",
        "    missing_values = df.isnull().sum()\n",
        "    missing_values = missing_values[missing_values > 0].sort_values(ascending=False)\n",
        "    if missing_values.empty:\n",
        "        print(\"No missing values in the DataFrame.\")\n",
        "    else:\n",
        "        print(\"Missing values in each column:\")\n",
        "        print(missing_values)\n",
        "\n",
        "check_missing_values(data)"
      ]
    },
    {
      "cell_type": "markdown",
      "source": [
        "Kode di atas bertujuan untuk memeriksa nilai yang hilang (missing values) dalam dataset `data`. Fungsi `check_missing_values(df)` menghitung jumlah nilai hilang di setiap kolom menggunakan `isnull().sum()`, kemudian menampilkan kolom yang memiliki nilai hilang jika ada. Jika tidak ada kolom dengan nilai hilang, fungsi ini akan mencetak pesan bahwa tidak ada nilai hilang. Jika ada, fungsi ini akan menampilkan jumlah nilai hilang di masing-masing kolom yang terpengaruh.\n",
        "\n",
        "Hasil pemeriksaan missing values menunjukkan bahwa kolom `Reviews` memiliki 21.060 nilai yang hilang, sementara kolom `ReviewerId` dan `Rating` masing-masing memiliki 1 nilai yang hilang. Ini mengindikasikan bahwa sebagian besar data pada kolom `Reviews` perlu ditangani, sementara kolom `ReviewerId` dan `Rating` hanya memiliki sedikit nilai hilang yang mungkin dapat diperbaiki dengan metode imputasi atau penghapusan baris terkait."
      ],
      "metadata": {
        "id": "RcxB-3JYUVbC"
      }
    },
    {
      "cell_type": "markdown",
      "source": [
        "### 4. Data Cleaning and Merging Descriptions"
      ],
      "metadata": {
        "id": "4IfOBiYuNh7Y"
      }
    },
    {
      "cell_type": "code",
      "source": [
        "# Clean data by removing unwanted columns and handle missing values\n",
        "data.drop(columns=['Unnamed: 0.1', 'Unnamed: 0'], inplace=True)\n",
        "\n",
        "# Handle missing values\n",
        "data['Reviews'] = data['Reviews'].fillna('')\n",
        "\n",
        "# Combine Category and Reviews into a single description field\n",
        "data['description'] = data['Category'] + ' ' + data['Reviews']"
      ],
      "metadata": {
        "id": "qnNgQELvOQn8"
      },
      "execution_count": 5,
      "outputs": []
    },
    {
      "cell_type": "markdown",
      "source": [
        "Pada tahap pembersihan data, kolom yang tidak diperlukan, seperti `Unnamed: 0.1` dan `Unnamed: 0`, dihapus untuk memudahkan analisis lebih lanjut. Kemudian, nilai hilang pada kolom `Reviews` diisi dengan string kosong (`''`), untuk memastikan tidak ada data yang hilang pada kolom tersebut yang dapat mengganggu pemrosesan. Selanjutnya, kolom `Category` dan `Reviews` digabungkan menjadi satu kolom baru bernama `description`, yang berisi informasi gabungan dari kategori tempat wisata dan ulasan pengguna. Langkah ini mempersiapkan data untuk analisis teks lebih lanjut, seperti ekstraksi fitur dan permodelan rekomendasi."
      ],
      "metadata": {
        "id": "uFtsMrZqUxuV"
      }
    },
    {
      "cell_type": "markdown",
      "source": [
        "### 5. Encoding Categorical Columns"
      ],
      "metadata": {
        "id": "KH3BKou8OTFi"
      }
    },
    {
      "cell_type": "code",
      "source": [
        "# Encode categorical columns using LabelEncoder\n",
        "label_encoder_place = LabelEncoder()\n",
        "data['PlaceID'] = label_encoder_place.fit_transform(data['Nama_tempat_wisata'])\n",
        "\n",
        "label_encoder_reviewer = LabelEncoder()\n",
        "data['ReviewerId'] = label_encoder_reviewer.fit_transform(data['ReviewerId'])"
      ],
      "metadata": {
        "id": "urHoMHpdOLYC"
      },
      "execution_count": 6,
      "outputs": []
    },
    {
      "cell_type": "markdown",
      "source": [
        "Pada tahap ini, kolom kategorikal dalam dataset diubah menjadi bentuk numerik menggunakan teknik *Label Encoding*. Kolom `Nama_tempat_wisata` dienkode menggunakan `LabelEncoder` untuk menghasilkan kolom baru `PlaceID`, yang berisi angka yang mewakili setiap tempat wisata unik. Hal yang sama dilakukan untuk kolom `ReviewerId`, yang juga dienkode menjadi bentuk numerik. Proses ini penting karena banyak algoritma pembelajaran mesin, termasuk model berbasis matriks dan rekomendasi, memerlukan data dalam format numerik untuk melakukan perhitungan dan pemrosesan lebih lanjut."
      ],
      "metadata": {
        "id": "fZdMsL0hVC_-"
      }
    },
    {
      "cell_type": "markdown",
      "source": [
        "### 6. Text Cleaning (Stopword Removal)"
      ],
      "metadata": {
        "id": "tZX8Sct0Orai"
      }
    },
    {
      "cell_type": "code",
      "source": [
        "# Remove stopwords from descriptions using Sastrawi\n",
        "stopword_factory = StopWordRemoverFactory()\n",
        "stopword_remover = stopword_factory.create_stop_word_remover()\n",
        "data['cleaned_description'] = data['description'].apply(stopword_remover.remove)\n"
      ],
      "metadata": {
        "id": "sD6W9MvyOp3W"
      },
      "execution_count": 7,
      "outputs": []
    },
    {
      "cell_type": "markdown",
      "source": [
        "Pada langkah ini, proses pembersihan teks dilakukan dengan menghapus kata-kata yang tidak bermakna (*stopwords*) dari kolom `description`. Stopwords adalah kata-kata umum seperti \"dan\", \"di\", \"untuk\", dan lainnya yang sering kali tidak memberikan informasi penting dalam analisis teks. Dengan menggunakan pustaka *Sastrawi*, yang merupakan pustaka pemrosesan bahasa Indonesia, stopwords dihapus dari teks dalam kolom `description`, dan hasilnya disimpan dalam kolom baru bernama `cleaned_description`. Pembersihan ini membantu meningkatkan kualitas data teks untuk analisis atau pemodelan selanjutnya, terutama dalam tugas seperti klasifikasi atau rekomendasi berbasis teks."
      ],
      "metadata": {
        "id": "pwkpmvipVTrc"
      }
    },
    {
      "cell_type": "code",
      "execution_count": 8,
      "metadata": {
        "colab": {
          "base_uri": "https://localhost:8080/",
          "height": 293
        },
        "id": "fij_zdBD00Cv",
        "outputId": "1a6ada29-1276-40fa-92a1-71e1ede5eba8"
      },
      "outputs": [
        {
          "output_type": "execute_result",
          "data": {
            "text/plain": [
              "                                             address  PlaceID  \\\n",
              "0  Jl. Sibola Hotang, Sibola Hotangsas, Kec. Bali...       51   \n",
              "1  Jl. Sibola Hotang, Sibola Hotangsas, Kec. Bali...       51   \n",
              "2  Jl. Sibola Hotang, Sibola Hotangsas, Kec. Bali...       51   \n",
              "3  Jl. Sibola Hotang, Sibola Hotangsas, Kec. Bali...       51   \n",
              "4  Jl. Sibola Hotang, Sibola Hotangsas, Kec. Bali...       51   \n",
              "\n",
              "          Nama_tempat_wisata       Category  ReviewerId  Rating  \\\n",
              "0  PASIR PUTIH LUMBAN BULBUL  Wisata Bahari       10261     5.0   \n",
              "1  PASIR PUTIH LUMBAN BULBUL  Wisata Bahari        9698     5.0   \n",
              "2  PASIR PUTIH LUMBAN BULBUL  Wisata Bahari        6433     5.0   \n",
              "3  PASIR PUTIH LUMBAN BULBUL  Wisata Bahari       10643     5.0   \n",
              "4  PASIR PUTIH LUMBAN BULBUL  Wisata Bahari        5078     5.0   \n",
              "\n",
              "                         Reviews                                  description  \\\n",
              "0                                                              Wisata Bahari    \n",
              "1                          bagus                          Wisata Bahari bagus   \n",
              "2                                                              Wisata Bahari    \n",
              "3             sangat menyenagkan             Wisata Bahari sangat menyenagkan   \n",
              "4  bebas foto dimana aja cuma 2k  Wisata Bahari bebas foto dimana aja cuma 2k   \n",
              "\n",
              "                    cleaned_description  \n",
              "0                        Wisata Bahari   \n",
              "1                   Wisata Bahari bagus  \n",
              "2                        Wisata Bahari   \n",
              "3      Wisata Bahari sangat menyenagkan  \n",
              "4  Wisata Bahari bebas foto aja cuma 2k  "
            ],
            "text/html": [
              "\n",
              "  <div id=\"df-92318878-7f5b-488e-a639-363ba17f0a09\" class=\"colab-df-container\">\n",
              "    <div>\n",
              "<style scoped>\n",
              "    .dataframe tbody tr th:only-of-type {\n",
              "        vertical-align: middle;\n",
              "    }\n",
              "\n",
              "    .dataframe tbody tr th {\n",
              "        vertical-align: top;\n",
              "    }\n",
              "\n",
              "    .dataframe thead th {\n",
              "        text-align: right;\n",
              "    }\n",
              "</style>\n",
              "<table border=\"1\" class=\"dataframe\">\n",
              "  <thead>\n",
              "    <tr style=\"text-align: right;\">\n",
              "      <th></th>\n",
              "      <th>address</th>\n",
              "      <th>PlaceID</th>\n",
              "      <th>Nama_tempat_wisata</th>\n",
              "      <th>Category</th>\n",
              "      <th>ReviewerId</th>\n",
              "      <th>Rating</th>\n",
              "      <th>Reviews</th>\n",
              "      <th>description</th>\n",
              "      <th>cleaned_description</th>\n",
              "    </tr>\n",
              "  </thead>\n",
              "  <tbody>\n",
              "    <tr>\n",
              "      <th>0</th>\n",
              "      <td>Jl. Sibola Hotang, Sibola Hotangsas, Kec. Bali...</td>\n",
              "      <td>51</td>\n",
              "      <td>PASIR PUTIH LUMBAN BULBUL</td>\n",
              "      <td>Wisata Bahari</td>\n",
              "      <td>10261</td>\n",
              "      <td>5.0</td>\n",
              "      <td></td>\n",
              "      <td>Wisata Bahari</td>\n",
              "      <td>Wisata Bahari</td>\n",
              "    </tr>\n",
              "    <tr>\n",
              "      <th>1</th>\n",
              "      <td>Jl. Sibola Hotang, Sibola Hotangsas, Kec. Bali...</td>\n",
              "      <td>51</td>\n",
              "      <td>PASIR PUTIH LUMBAN BULBUL</td>\n",
              "      <td>Wisata Bahari</td>\n",
              "      <td>9698</td>\n",
              "      <td>5.0</td>\n",
              "      <td>bagus</td>\n",
              "      <td>Wisata Bahari bagus</td>\n",
              "      <td>Wisata Bahari bagus</td>\n",
              "    </tr>\n",
              "    <tr>\n",
              "      <th>2</th>\n",
              "      <td>Jl. Sibola Hotang, Sibola Hotangsas, Kec. Bali...</td>\n",
              "      <td>51</td>\n",
              "      <td>PASIR PUTIH LUMBAN BULBUL</td>\n",
              "      <td>Wisata Bahari</td>\n",
              "      <td>6433</td>\n",
              "      <td>5.0</td>\n",
              "      <td></td>\n",
              "      <td>Wisata Bahari</td>\n",
              "      <td>Wisata Bahari</td>\n",
              "    </tr>\n",
              "    <tr>\n",
              "      <th>3</th>\n",
              "      <td>Jl. Sibola Hotang, Sibola Hotangsas, Kec. Bali...</td>\n",
              "      <td>51</td>\n",
              "      <td>PASIR PUTIH LUMBAN BULBUL</td>\n",
              "      <td>Wisata Bahari</td>\n",
              "      <td>10643</td>\n",
              "      <td>5.0</td>\n",
              "      <td>sangat menyenagkan</td>\n",
              "      <td>Wisata Bahari sangat menyenagkan</td>\n",
              "      <td>Wisata Bahari sangat menyenagkan</td>\n",
              "    </tr>\n",
              "    <tr>\n",
              "      <th>4</th>\n",
              "      <td>Jl. Sibola Hotang, Sibola Hotangsas, Kec. Bali...</td>\n",
              "      <td>51</td>\n",
              "      <td>PASIR PUTIH LUMBAN BULBUL</td>\n",
              "      <td>Wisata Bahari</td>\n",
              "      <td>5078</td>\n",
              "      <td>5.0</td>\n",
              "      <td>bebas foto dimana aja cuma 2k</td>\n",
              "      <td>Wisata Bahari bebas foto dimana aja cuma 2k</td>\n",
              "      <td>Wisata Bahari bebas foto aja cuma 2k</td>\n",
              "    </tr>\n",
              "  </tbody>\n",
              "</table>\n",
              "</div>\n",
              "    <div class=\"colab-df-buttons\">\n",
              "\n",
              "  <div class=\"colab-df-container\">\n",
              "    <button class=\"colab-df-convert\" onclick=\"convertToInteractive('df-92318878-7f5b-488e-a639-363ba17f0a09')\"\n",
              "            title=\"Convert this dataframe to an interactive table.\"\n",
              "            style=\"display:none;\">\n",
              "\n",
              "  <svg xmlns=\"http://www.w3.org/2000/svg\" height=\"24px\" viewBox=\"0 -960 960 960\">\n",
              "    <path d=\"M120-120v-720h720v720H120Zm60-500h600v-160H180v160Zm220 220h160v-160H400v160Zm0 220h160v-160H400v160ZM180-400h160v-160H180v160Zm440 0h160v-160H620v160ZM180-180h160v-160H180v160Zm440 0h160v-160H620v160Z\"/>\n",
              "  </svg>\n",
              "    </button>\n",
              "\n",
              "  <style>\n",
              "    .colab-df-container {\n",
              "      display:flex;\n",
              "      gap: 12px;\n",
              "    }\n",
              "\n",
              "    .colab-df-convert {\n",
              "      background-color: #E8F0FE;\n",
              "      border: none;\n",
              "      border-radius: 50%;\n",
              "      cursor: pointer;\n",
              "      display: none;\n",
              "      fill: #1967D2;\n",
              "      height: 32px;\n",
              "      padding: 0 0 0 0;\n",
              "      width: 32px;\n",
              "    }\n",
              "\n",
              "    .colab-df-convert:hover {\n",
              "      background-color: #E2EBFA;\n",
              "      box-shadow: 0px 1px 2px rgba(60, 64, 67, 0.3), 0px 1px 3px 1px rgba(60, 64, 67, 0.15);\n",
              "      fill: #174EA6;\n",
              "    }\n",
              "\n",
              "    .colab-df-buttons div {\n",
              "      margin-bottom: 4px;\n",
              "    }\n",
              "\n",
              "    [theme=dark] .colab-df-convert {\n",
              "      background-color: #3B4455;\n",
              "      fill: #D2E3FC;\n",
              "    }\n",
              "\n",
              "    [theme=dark] .colab-df-convert:hover {\n",
              "      background-color: #434B5C;\n",
              "      box-shadow: 0px 1px 3px 1px rgba(0, 0, 0, 0.15);\n",
              "      filter: drop-shadow(0px 1px 2px rgba(0, 0, 0, 0.3));\n",
              "      fill: #FFFFFF;\n",
              "    }\n",
              "  </style>\n",
              "\n",
              "    <script>\n",
              "      const buttonEl =\n",
              "        document.querySelector('#df-92318878-7f5b-488e-a639-363ba17f0a09 button.colab-df-convert');\n",
              "      buttonEl.style.display =\n",
              "        google.colab.kernel.accessAllowed ? 'block' : 'none';\n",
              "\n",
              "      async function convertToInteractive(key) {\n",
              "        const element = document.querySelector('#df-92318878-7f5b-488e-a639-363ba17f0a09');\n",
              "        const dataTable =\n",
              "          await google.colab.kernel.invokeFunction('convertToInteractive',\n",
              "                                                    [key], {});\n",
              "        if (!dataTable) return;\n",
              "\n",
              "        const docLinkHtml = 'Like what you see? Visit the ' +\n",
              "          '<a target=\"_blank\" href=https://colab.research.google.com/notebooks/data_table.ipynb>data table notebook</a>'\n",
              "          + ' to learn more about interactive tables.';\n",
              "        element.innerHTML = '';\n",
              "        dataTable['output_type'] = 'display_data';\n",
              "        await google.colab.output.renderOutput(dataTable, element);\n",
              "        const docLink = document.createElement('div');\n",
              "        docLink.innerHTML = docLinkHtml;\n",
              "        element.appendChild(docLink);\n",
              "      }\n",
              "    </script>\n",
              "  </div>\n",
              "\n",
              "\n",
              "<div id=\"df-5bb6d993-ab39-4b69-8dc5-fa55b7cb1195\">\n",
              "  <button class=\"colab-df-quickchart\" onclick=\"quickchart('df-5bb6d993-ab39-4b69-8dc5-fa55b7cb1195')\"\n",
              "            title=\"Suggest charts\"\n",
              "            style=\"display:none;\">\n",
              "\n",
              "<svg xmlns=\"http://www.w3.org/2000/svg\" height=\"24px\"viewBox=\"0 0 24 24\"\n",
              "     width=\"24px\">\n",
              "    <g>\n",
              "        <path d=\"M19 3H5c-1.1 0-2 .9-2 2v14c0 1.1.9 2 2 2h14c1.1 0 2-.9 2-2V5c0-1.1-.9-2-2-2zM9 17H7v-7h2v7zm4 0h-2V7h2v10zm4 0h-2v-4h2v4z\"/>\n",
              "    </g>\n",
              "</svg>\n",
              "  </button>\n",
              "\n",
              "<style>\n",
              "  .colab-df-quickchart {\n",
              "      --bg-color: #E8F0FE;\n",
              "      --fill-color: #1967D2;\n",
              "      --hover-bg-color: #E2EBFA;\n",
              "      --hover-fill-color: #174EA6;\n",
              "      --disabled-fill-color: #AAA;\n",
              "      --disabled-bg-color: #DDD;\n",
              "  }\n",
              "\n",
              "  [theme=dark] .colab-df-quickchart {\n",
              "      --bg-color: #3B4455;\n",
              "      --fill-color: #D2E3FC;\n",
              "      --hover-bg-color: #434B5C;\n",
              "      --hover-fill-color: #FFFFFF;\n",
              "      --disabled-bg-color: #3B4455;\n",
              "      --disabled-fill-color: #666;\n",
              "  }\n",
              "\n",
              "  .colab-df-quickchart {\n",
              "    background-color: var(--bg-color);\n",
              "    border: none;\n",
              "    border-radius: 50%;\n",
              "    cursor: pointer;\n",
              "    display: none;\n",
              "    fill: var(--fill-color);\n",
              "    height: 32px;\n",
              "    padding: 0;\n",
              "    width: 32px;\n",
              "  }\n",
              "\n",
              "  .colab-df-quickchart:hover {\n",
              "    background-color: var(--hover-bg-color);\n",
              "    box-shadow: 0 1px 2px rgba(60, 64, 67, 0.3), 0 1px 3px 1px rgba(60, 64, 67, 0.15);\n",
              "    fill: var(--button-hover-fill-color);\n",
              "  }\n",
              "\n",
              "  .colab-df-quickchart-complete:disabled,\n",
              "  .colab-df-quickchart-complete:disabled:hover {\n",
              "    background-color: var(--disabled-bg-color);\n",
              "    fill: var(--disabled-fill-color);\n",
              "    box-shadow: none;\n",
              "  }\n",
              "\n",
              "  .colab-df-spinner {\n",
              "    border: 2px solid var(--fill-color);\n",
              "    border-color: transparent;\n",
              "    border-bottom-color: var(--fill-color);\n",
              "    animation:\n",
              "      spin 1s steps(1) infinite;\n",
              "  }\n",
              "\n",
              "  @keyframes spin {\n",
              "    0% {\n",
              "      border-color: transparent;\n",
              "      border-bottom-color: var(--fill-color);\n",
              "      border-left-color: var(--fill-color);\n",
              "    }\n",
              "    20% {\n",
              "      border-color: transparent;\n",
              "      border-left-color: var(--fill-color);\n",
              "      border-top-color: var(--fill-color);\n",
              "    }\n",
              "    30% {\n",
              "      border-color: transparent;\n",
              "      border-left-color: var(--fill-color);\n",
              "      border-top-color: var(--fill-color);\n",
              "      border-right-color: var(--fill-color);\n",
              "    }\n",
              "    40% {\n",
              "      border-color: transparent;\n",
              "      border-right-color: var(--fill-color);\n",
              "      border-top-color: var(--fill-color);\n",
              "    }\n",
              "    60% {\n",
              "      border-color: transparent;\n",
              "      border-right-color: var(--fill-color);\n",
              "    }\n",
              "    80% {\n",
              "      border-color: transparent;\n",
              "      border-right-color: var(--fill-color);\n",
              "      border-bottom-color: var(--fill-color);\n",
              "    }\n",
              "    90% {\n",
              "      border-color: transparent;\n",
              "      border-bottom-color: var(--fill-color);\n",
              "    }\n",
              "  }\n",
              "</style>\n",
              "\n",
              "  <script>\n",
              "    async function quickchart(key) {\n",
              "      const quickchartButtonEl =\n",
              "        document.querySelector('#' + key + ' button');\n",
              "      quickchartButtonEl.disabled = true;  // To prevent multiple clicks.\n",
              "      quickchartButtonEl.classList.add('colab-df-spinner');\n",
              "      try {\n",
              "        const charts = await google.colab.kernel.invokeFunction(\n",
              "            'suggestCharts', [key], {});\n",
              "      } catch (error) {\n",
              "        console.error('Error during call to suggestCharts:', error);\n",
              "      }\n",
              "      quickchartButtonEl.classList.remove('colab-df-spinner');\n",
              "      quickchartButtonEl.classList.add('colab-df-quickchart-complete');\n",
              "    }\n",
              "    (() => {\n",
              "      let quickchartButtonEl =\n",
              "        document.querySelector('#df-5bb6d993-ab39-4b69-8dc5-fa55b7cb1195 button');\n",
              "      quickchartButtonEl.style.display =\n",
              "        google.colab.kernel.accessAllowed ? 'block' : 'none';\n",
              "    })();\n",
              "  </script>\n",
              "</div>\n",
              "\n",
              "    </div>\n",
              "  </div>\n"
            ],
            "application/vnd.google.colaboratory.intrinsic+json": {
              "type": "dataframe",
              "variable_name": "data",
              "summary": "{\n  \"name\": \"data\",\n  \"rows\": 43226,\n  \"fields\": [\n    {\n      \"column\": \"address\",\n      \"properties\": {\n        \"dtype\": \"category\",\n        \"num_unique_values\": 100,\n        \"samples\": [\n          \"WG69+M82, Tongging, Kec. Merek, Kabupaten Karo, Sumatera Utara 22173, Indonesia\",\n          \"83M7+RJ4, Napitupulu Bagasan, Kec. Balige, Toba, Sumatera Utara, Indonesia\",\n          \"Taman Eden, Ps. Lumban Julu, Kec. Lumban Julu, Toba, Sumatera Utara 22386, Indonesia\"\n        ],\n        \"semantic_type\": \"\",\n        \"description\": \"\"\n      }\n    },\n    {\n      \"column\": \"PlaceID\",\n      \"properties\": {\n        \"dtype\": \"number\",\n        \"std\": 28,\n        \"min\": 0,\n        \"max\": 101,\n        \"num_unique_values\": 102,\n        \"samples\": [\n          54,\n          58,\n          66\n        ],\n        \"semantic_type\": \"\",\n        \"description\": \"\"\n      }\n    },\n    {\n      \"column\": \"Nama_tempat_wisata\",\n      \"properties\": {\n        \"dtype\": \"category\",\n        \"num_unique_values\": 102,\n        \"samples\": [\n          \"Panatapan Tara Bunga\",\n          \"Pantai Indah Situngkir (PIS)\",\n          \"Pasar Tomok\"\n        ],\n        \"semantic_type\": \"\",\n        \"description\": \"\"\n      }\n    },\n    {\n      \"column\": \"Category\",\n      \"properties\": {\n        \"dtype\": \"category\",\n        \"num_unique_values\": 8,\n        \"samples\": [\n          \"Wisata Rohani\",\n          \"Wisata Sejarah\",\n          \"Wisata Bahari\"\n        ],\n        \"semantic_type\": \"\",\n        \"description\": \"\"\n      }\n    },\n    {\n      \"column\": \"ReviewerId\",\n      \"properties\": {\n        \"dtype\": \"number\",\n        \"std\": 4349,\n        \"min\": 0,\n        \"max\": 15011,\n        \"num_unique_values\": 15012,\n        \"samples\": [\n          10119,\n          3306,\n          6821\n        ],\n        \"semantic_type\": \"\",\n        \"description\": \"\"\n      }\n    },\n    {\n      \"column\": \"Rating\",\n      \"properties\": {\n        \"dtype\": \"number\",\n        \"std\": 0.9277599389462311,\n        \"min\": 1.0,\n        \"max\": 5.0,\n        \"num_unique_values\": 5,\n        \"samples\": [\n          2.0,\n          1.0,\n          3.0\n        ],\n        \"semantic_type\": \"\",\n        \"description\": \"\"\n      }\n    },\n    {\n      \"column\": \"Reviews\",\n      \"properties\": {\n        \"dtype\": \"category\",\n        \"num_unique_values\": 17993,\n        \"samples\": [\n          \"tempat wisata yang sangat recommended bareng keluarga pasangan maupun healing sendiri hehe kapan lagi bisa duduk di bangku yang pernah di dudukin sama pak jokowi uhuyy buat yang isi pikirannya penat harus ke sini gengss\",\n          \"sukabgt tpi klo jm 122 kesini panasnya pol ga ada angin samsek\",\n          \"bagak do bah mantap\"\n        ],\n        \"semantic_type\": \"\",\n        \"description\": \"\"\n      }\n    },\n    {\n      \"column\": \"description\",\n      \"properties\": {\n        \"dtype\": \"category\",\n        \"num_unique_values\": 18881,\n        \"samples\": [\n          \"Wisata Ziarah diterjemahkan oleh google tempat yang bagus untuk dikunjungi mitos dan acara tradisional\\n\\nasli\\na nice place to visit myth and traditional occasion\",\n          \"Wisata Bisnis pemandangan nya selalu indah\",\n          \"Wisata Bahari diterjemahkan oleh google desaku\\n\\nasli\\nkampung ku\"\n        ],\n        \"semantic_type\": \"\",\n        \"description\": \"\"\n      }\n    },\n    {\n      \"column\": \"cleaned_description\",\n      \"properties\": {\n        \"dtype\": \"category\",\n        \"num_unique_values\": 18775,\n        \"samples\": [\n          \"Wisata Pertanian tempat nya cantik buat foto2 udara sejuk pemandangan indah\",\n          \"Wisata Alam i couldnt find any words to describe this place heaven\\n\\nditerjemahkan google\\nsaya dapat menemukan katakata menggambarkan tempat surga\",\n          \"Wisata Alam pesona alam nya luar biasa indahnya sangat cocok rekreasi keluarga\"\n        ],\n        \"semantic_type\": \"\",\n        \"description\": \"\"\n      }\n    }\n  ]\n}"
            }
          },
          "metadata": {},
          "execution_count": 8
        }
      ],
      "source": [
        "data.head()"
      ]
    },
    {
      "cell_type": "markdown",
      "source": [
        "### 7. Data Split for Training, Validation, and Testing"
      ],
      "metadata": {
        "id": "A8wKI_QzO0DP"
      }
    },
    {
      "cell_type": "code",
      "execution_count": 9,
      "metadata": {
        "colab": {
          "base_uri": "https://localhost:8080/"
        },
        "id": "EEr6hWwj0_SA",
        "outputId": "cfd62950-2aed-4611-d209-34615eb99eb4"
      },
      "outputs": [
        {
          "output_type": "stream",
          "name": "stdout",
          "text": [
            "Training set count: 30258\n",
            "Validation set count: 6484\n",
            "Test set count: 6484\n"
          ]
        }
      ],
      "source": [
        "# Perform the initial random split\n",
        "train_data, temp_data = train_test_split(data, test_size=0.3, random_state=42)  # 70% Train, 30% Temp\n",
        "val_data, test_data = train_test_split(temp_data, test_size=0.5, random_state=42)  # 15% Val, 15% Test\n",
        "\n",
        "# Calculate exact counts for each split\n",
        "train_count = len(train_data)\n",
        "val_count = len(val_data)\n",
        "test_count = len(test_data)\n",
        "\n",
        "# Print adjusted counts\n",
        "print(f\"Training set count: {train_count}\")\n",
        "print(f\"Validation set count: {val_count}\")\n",
        "print(f\"Test set count: {test_count}\")\n"
      ]
    },
    {
      "cell_type": "markdown",
      "source": [
        "Pada kode ini, dataset dibagi menjadi tiga bagian: data latih (train), data validasi (val), dan data uji (test) menggunakan fungsi `train_test_split` dari `sklearn.model_selection`. Proses pembagian dilakukan secara acak dengan proporsi 70% untuk data latih, 15% untuk data validasi, dan 15% untuk data uji. Pembagian ini bertujuan untuk memastikan bahwa model dapat dilatih dengan data yang cukup besar (train), diuji performanya pada data yang belum pernah dilihat (test), dan diperbaiki atau disesuaikan pada data validasi (val) yang juga belum pernah dilihat oleh model.\n",
        "\n",
        "Hasil pembagian ini kemudian dihitung dan ditampilkan untuk memastikan jumlah data di setiap bagian. Hasilnya memberikan gambaran seberapa banyak data yang digunakan untuk setiap set, yang penting untuk memeriksa keseimbangan dan validitas pembagian data tersebut."
      ],
      "metadata": {
        "id": "Y3sFlIVCVvWm"
      }
    },
    {
      "cell_type": "markdown",
      "source": [
        "### 8. Preview Data Split"
      ],
      "metadata": {
        "id": "ltK1QXd5O3nm"
      }
    },
    {
      "cell_type": "code",
      "execution_count": 10,
      "metadata": {
        "colab": {
          "base_uri": "https://localhost:8080/"
        },
        "id": "iF27AkLQ1A5Y",
        "outputId": "22b086d9-6227-4729-a5de-dbca5ea64f04"
      },
      "outputs": [
        {
          "output_type": "stream",
          "name": "stdout",
          "text": [
            "\n",
            "Training data preview:\n",
            "                                                 address  PlaceID  \\\n",
            "3341   Parparean II, Kec. Porsea, Toba, Sumatera Utar...       63   \n",
            "23691  Danau Toba, Lintong Nihuta, Kec. Tampahan, Tob...       53   \n",
            "21011  Huta Siallagan Siallagan-Pindaraya, Ambarita, ...       13   \n",
            "33851  HJ2Q+RWQ, Turpuk Limbong, Kec. Harian, Kabupat...       46   \n",
            "10802  Aek Rangat, Kec. Pangururan, Kabupaten Samosir...        0   \n",
            "\n",
            "                                      Nama_tempat_wisata       Category  \\\n",
            "3341                        Pantai Pasir Putih Parparean  Wisata Bahari   \n",
            "23691                                     Pakkodian Toba  Wisata Bahari   \n",
            "21011  Batu Kursi Raja Siallagan ( Stone Chair of Kin...  Wisata Budaya   \n",
            "33851                                Menara Pandang Tele    Wisata Alam   \n",
            "10802                              Aek Rangat Pangururan  Wisata Bahari   \n",
            "\n",
            "       ReviewerId  Rating                                Reviews  \\\n",
            "3341        12520     5.0                                          \n",
            "23691       14410     5.0  buat pacaran asyik juga ne tempat nya   \n",
            "21011        8772     5.0                                          \n",
            "33851        6257     5.0                                          \n",
            "10802       10905     4.0     tempat berendam air belerang panas   \n",
            "\n",
            "                                             description  \\\n",
            "3341                                      Wisata Bahari    \n",
            "23691  Wisata Bahari buat pacaran asyik juga ne tempa...   \n",
            "21011                                     Wisata Budaya    \n",
            "33851                                       Wisata Alam    \n",
            "10802   Wisata Bahari tempat berendam air belerang panas   \n",
            "\n",
            "                                    cleaned_description  \n",
            "3341                                     Wisata Bahari   \n",
            "23691    Wisata Bahari buat pacaran asyik ne tempat nya  \n",
            "21011                                    Wisata Budaya   \n",
            "33851                                      Wisata Alam   \n",
            "10802  Wisata Bahari tempat berendam air belerang panas  \n",
            "\n",
            "Validation data preview:\n",
            "                                                 address  PlaceID  \\\n",
            "19925  Huta Siallagan Siallagan-Pindaraya, Ambarita, ...       13   \n",
            "30548  GPM3+RM4, Dolok Raja, Kec. Harian, Kabupaten S...       21   \n",
            "3511   Parparean II, Kec. Porsea, Toba, Sumatera Utar...       63   \n",
            "20933  Huta Siallagan Siallagan-Pindaraya, Ambarita, ...       13   \n",
            "34549  Parbaba Dolok, Kec. Pangururan, Kabupaten Samo...       62   \n",
            "\n",
            "                                      Nama_tempat_wisata       Category  \\\n",
            "19925  Batu Kursi Raja Siallagan ( Stone Chair of Kin...  Wisata Budaya   \n",
            "30548                              Bukit Holbung Samosir    Wisata Alam   \n",
            "3511                        Pantai Pasir Putih Parparean  Wisata Bahari   \n",
            "20933  Batu Kursi Raja Siallagan ( Stone Chair of Kin...  Wisata Budaya   \n",
            "34549                         Pantai Pasir Putih Parbaba  Wisata Bahari   \n",
            "\n",
            "       ReviewerId  Rating                                            Reviews  \\\n",
            "19925        3890     5.0                                              keren   \n",
            "30548        7522     5.0                                                      \n",
            "3511        13453     5.0                                                      \n",
            "20933        6813     5.0            wisata budaya dan sejarah di danau toba   \n",
            "34549         606     4.0  lokasi nya di danau toba pemandangannya sangat...   \n",
            "\n",
            "                                             description  \\\n",
            "19925                                Wisata Budaya keren   \n",
            "30548                                       Wisata Alam    \n",
            "3511                                      Wisata Bahari    \n",
            "20933  Wisata Budaya wisata budaya dan sejarah di dan...   \n",
            "34549  Wisata Bahari lokasi nya di danau toba pemanda...   \n",
            "\n",
            "                                     cleaned_description  \n",
            "19925                                Wisata Budaya keren  \n",
            "30548                                       Wisata Alam   \n",
            "3511                                      Wisata Bahari   \n",
            "20933     Wisata Budaya wisata budaya sejarah danau toba  \n",
            "34549  Wisata Bahari lokasi nya danau toba pemandanga...  \n",
            "\n",
            "Test data preview:\n",
            "                                                 address  PlaceID  \\\n",
            "19730  Toba, Sialanguan, Kec. Pangururan, Kabupaten S...       58   \n",
            "12001  8X7C+WCJ, Sitanggor, Kec. Muara, Kabupaten Tap...       77   \n",
            "21944  MR6W+CQ2, tuk tuk danau, Toba, South Siantar, ...       16   \n",
            "850    83M8+MMM, Napitupulu Bagasan, Kec. Balige, Tob...       47   \n",
            "21562  82XR+273, Lumban Silintong, Kec. Balige, Toba,...       23   \n",
            "\n",
            "                 Nama_tempat_wisata       Category  ReviewerId  Rating  \\\n",
            "19730  Pantai Indah Situngkir (PIS)  Wisata Bahari        1454     5.0   \n",
            "12001           Puncak Huta Ginjang    Wisata Alam       14588     5.0   \n",
            "21944            Bukit Beta Tuk-tuk    Wisata Alam        8502     5.0   \n",
            "850        Monumen Raja SONAKMALELA  Wisata Ziarah       12002     5.0   \n",
            "21562                  Bukit Pahoda    Wisata Alam        4631     5.0   \n",
            "\n",
            "                                                 Reviews  \\\n",
            "19730  pantainya bersih saran supaya wahana nya ditam...   \n",
            "12001  best view\\n\\nditerjemahkan oleh google\\ntampil...   \n",
            "21944                                                      \n",
            "850                                        menambah ilmu   \n",
            "21562                                 indah panorama nya   \n",
            "\n",
            "                                             description  \\\n",
            "19730  Wisata Bahari pantainya bersih saran supaya wa...   \n",
            "12001  Wisata Alam best view\\n\\nditerjemahkan oleh go...   \n",
            "21944                                       Wisata Alam    \n",
            "850                          Wisata Ziarah menambah ilmu   \n",
            "21562                     Wisata Alam indah panorama nya   \n",
            "\n",
            "                                     cleaned_description  \n",
            "19730  Wisata Bahari pantainya bersih saran wahana ny...  \n",
            "12001  Wisata Alam best view\\n\\nditerjemahkan google\\...  \n",
            "21944                                       Wisata Alam   \n",
            "850                          Wisata Ziarah menambah ilmu  \n",
            "21562                     Wisata Alam indah panorama nya  \n"
          ]
        }
      ],
      "source": [
        "# Menampilkan contoh data\n",
        "print(\"\\nTraining data preview:\")\n",
        "print(train_data.head())\n",
        "\n",
        "print(\"\\nValidation data preview:\")\n",
        "print(val_data.head())\n",
        "\n",
        "print(\"\\nTest data preview:\")\n",
        "print(test_data.head())"
      ]
    },
    {
      "cell_type": "markdown",
      "source": [
        "\n",
        "Kode ini bertujuan untuk menampilkan contoh data dari tiga set yang telah dibagi sebelumnya, yaitu data latih (training), data validasi (validation), dan data uji (test). Fungsi head() digunakan untuk menampilkan lima baris pertama dari masing-masing set data. Hal ini memungkinkan kita untuk memeriksa struktur dan konten data secara cepat setelah pembagian.\n",
        "\n",
        "Training data preview: Menampilkan lima entri pertama dari data latih yang digunakan untuk melatih model.\n",
        "Validation data preview: Menampilkan lima entri pertama dari data validasi yang digunakan untuk mengevaluasi performa model selama proses tuning atau penyesuaian.\n",
        "Test data preview: Menampilkan lima entri pertama dari data uji yang akan digunakan untuk menguji model setelah selesai dilatih."
      ],
      "metadata": {
        "id": "PpKzFwpuV5Gc"
      }
    },
    {
      "cell_type": "markdown",
      "source": [
        "### 9. TF-IDF Vectorization on Training Data"
      ],
      "metadata": {
        "id": "DvEz1uu1O62J"
      }
    },
    {
      "cell_type": "code",
      "execution_count": 11,
      "metadata": {
        "colab": {
          "base_uri": "https://localhost:8080/"
        },
        "id": "tjWUmXaZ1DrK",
        "outputId": "83b23b11-19dc-4e11-bba2-a261e42e927d"
      },
      "outputs": [
        {
          "output_type": "stream",
          "name": "stdout",
          "text": [
            "\n",
            "Contoh fitur TF-IDF:\n",
            "['000' '01' '0401' '051' '0540' '075035' '0800' '082165223972'\n",
            " '082166638598' '082175327192']\n"
          ]
        }
      ],
      "source": [
        "# Proses TF-IDF untuk data training\n",
        "tfidf = TfidfVectorizer(stop_words=stopword_factory.get_stop_words())\n",
        "tfidf_matrix_train = tfidf.fit_transform(train_data['cleaned_description'])\n",
        "\n",
        "# Menampilkan fitur yang dihasilkan TF-IDF\n",
        "print(\"\\nContoh fitur TF-IDF:\")\n",
        "print(tfidf.get_feature_names_out()[:10])"
      ]
    },
    {
      "cell_type": "markdown",
      "source": [
        "Kode di atas menggunakan **TfidfVectorizer** untuk mengonversi deskripsi teks dalam dataset pelatihan (training data) menjadi representasi numerik berbasis nilai **TF-IDF** (Term Frequency-Inverse Document Frequency). Proses ini membantu menilai pentingnya setiap kata dalam teks dengan memperhitungkan frekuensi kata dalam dokumen dan seberapa umum kata tersebut dalam seluruh dataset. Setelah melakukan transformasi, kode ini menampilkan sepuluh fitur pertama yang dihasilkan oleh **TfidfVectorizer**, yaitu kata-kata dengan nilai TF-IDF tertinggi, yang menunjukkan kata-kata yang paling relevan dalam deskripsi tempat wisata setelah penghilangan stopwords."
      ],
      "metadata": {
        "id": "zMDjXXD6Wsaz"
      }
    },
    {
      "cell_type": "markdown",
      "source": [
        "### 10. GridSearch for KNN Hyperparameter Optimization"
      ],
      "metadata": {
        "id": "uGfGVizkPAnb"
      }
    },
    {
      "cell_type": "code",
      "execution_count": 12,
      "metadata": {
        "colab": {
          "base_uri": "https://localhost:8080/"
        },
        "id": "ne0dfioj4T-6",
        "outputId": "4d85e6d8-d680-4428-b880-49bc07952d73"
      },
      "outputs": [
        {
          "output_type": "stream",
          "name": "stderr",
          "text": [
            "/usr/local/lib/python3.10/dist-packages/sklearn/model_selection/_validation.py:982: UserWarning: Scoring failed. The score on this train-test partition for these parameters will be set to nan. Details: \n",
            "Traceback (most recent call last):\n",
            "  File \"/usr/local/lib/python3.10/dist-packages/sklearn/model_selection/_validation.py\", line 969, in _score\n",
            "    scores = scorer(estimator, X_test, **score_params)\n",
            "TypeError: _BaseScorer.__call__() missing 1 required positional argument: 'y_true'\n",
            "\n",
            "  warnings.warn(\n"
          ]
        },
        {
          "output_type": "stream",
          "name": "stdout",
          "text": [
            "Best Parameters: {'metric': 'cosine', 'n_neighbors': 3}\n"
          ]
        },
        {
          "output_type": "stream",
          "name": "stderr",
          "text": [
            "/usr/local/lib/python3.10/dist-packages/sklearn/model_selection/_search.py:1103: UserWarning: One or more of the test scores are non-finite: [nan nan nan nan nan nan nan nan nan nan nan nan]\n",
            "  warnings.warn(\n"
          ]
        }
      ],
      "source": [
        "# Custom function to calculate mean similarity for GridSearchCV scoring\n",
        "def mean_similarity_scorer(estimator, X):\n",
        "    similarities, _ = estimator.kneighbors(X)\n",
        "    return np.mean(similarities)\n",
        "\n",
        "# Buat scorer menggunakan make_scorer\n",
        "custom_scorer = make_scorer(mean_similarity_scorer, greater_is_better=True)\n",
        "\n",
        "# GridSearch dengan scoring kustom\n",
        "param_grid = {'n_neighbors': [3, 5, 7, 9], 'metric': ['cosine', 'euclidean', 'manhattan']}\n",
        "grid_search = GridSearchCV(NearestNeighbors(), param_grid, cv=5, scoring=custom_scorer)\n",
        "\n",
        "# Fit GridSearch\n",
        "grid_search.fit(tfidf_matrix_train)\n",
        "\n",
        "# Ambil model terbaik\n",
        "best_knn_model = grid_search.best_estimator_\n",
        "\n",
        "print(\"Best Parameters:\", grid_search.best_params_)"
      ]
    },
    {
      "cell_type": "markdown",
      "source": [
        "Pada kode di atas, dibuat fungsi kustom `mean_similarity_scorer` untuk menghitung rata-rata kemiripan (similarity) antara item-item yang ditemukan oleh model **NearestNeighbors** selama proses **GridSearchCV**. Fungsi ini mengukur rata-rata jarak kemiripan antara data titik uji dan tetangga terdekatnya. Selanjutnya, **make_scorer** digunakan untuk mengonversi fungsi tersebut menjadi scorer yang dapat digunakan dalam **GridSearchCV**, dengan tujuan agar hasil scoringnya semakin baik jika nilai kemiripan rata-rata semakin tinggi.\n",
        "\n",
        "GridSearchCV kemudian digunakan untuk mencari kombinasi parameter terbaik untuk model **NearestNeighbors** dengan dua parameter utama: jumlah tetangga (`n_neighbors`) dan jenis metric untuk mengukur jarak (seperti **cosine**, **euclidean**, atau **manhattan**). Proses ini dijalankan dengan menggunakan **cross-validation** sebanyak 5 kali (cv=5). Setelah melakukan pencarian, model terbaik yang ditemukan oleh GridSearchCV disimpan dalam variabel `best_knn_model`, dan parameter terbaik yang digunakan dalam model tersebut ditampilkan.\n",
        "\n",
        "Hasil dari **GridSearchCV** menunjukkan bahwa kombinasi parameter terbaik untuk model **NearestNeighbors** adalah menggunakan **metric = 'cosine'** dan **n_neighbors = 3**. Ini berarti model terbaik menggunakan **metrik kosinus** untuk menghitung kemiripan antar item dan memilih **3 tetangga terdekat** dalam proses pencocokan. Dengan parameter ini, model diharapkan memberikan hasil yang lebih akurat dalam melakukan rekomendasi berdasarkan data yang telah diproses."
      ],
      "metadata": {
        "id": "HW3mJ2PiXsTn"
      }
    },
    {
      "cell_type": "markdown",
      "source": [
        "### 11. Build User Profiles"
      ],
      "metadata": {
        "id": "8kGd7komQB2Y"
      }
    },
    {
      "cell_type": "code",
      "execution_count": 13,
      "metadata": {
        "id": "REm_8s2L5Pq6"
      },
      "outputs": [],
      "source": [
        "def build_user_profiles(data, tfidf_matrix, user_col='ReviewerId', item_col='PlaceID', rating_col='Rating'):\n",
        "    \"\"\"\n",
        "    Membangun profil pengguna berdasarkan rata-rata vektor TF-IDF dari item yang telah mereka beri rating.\n",
        "    \"\"\"\n",
        "    user_profiles = {}\n",
        "    all_profiles = []\n",
        "\n",
        "    for user_id in data[user_col].unique():\n",
        "        user_data = data[data[user_col] == user_id]\n",
        "        item_indices = user_data[item_col].values\n",
        "\n",
        "        if len(item_indices) > 0:\n",
        "            item_tfidf_vectors = tfidf_matrix[item_indices]\n",
        "            user_profile = np.array(item_tfidf_vectors.mean(axis=0)).flatten()\n",
        "            all_profiles.append(user_profile)\n",
        "        else:\n",
        "            user_profile = None  # Tandai profil kosong\n",
        "\n",
        "        user_profiles[user_id] = user_profile\n",
        "\n",
        "    # Buat profil rata-rata untuk fallback\n",
        "    if all_profiles:\n",
        "        average_profile = np.mean(all_profiles, axis=0)\n",
        "    else:\n",
        "        average_profile = np.zeros(tfidf_matrix.shape[1])\n",
        "\n",
        "    # Gantikan profil None dengan rata-rata\n",
        "    for user_id, profile in user_profiles.items():\n",
        "        if profile is None:\n",
        "            user_profiles[user_id] = average_profile\n",
        "\n",
        "    return user_profiles"
      ]
    },
    {
      "cell_type": "markdown",
      "source": [
        "Fungsi **`build_user_profiles`** bertujuan untuk membangun profil pengguna dengan menghitung **vektor TF-IDF rata-rata** dari item yang telah mereka beri rating. Untuk setiap pengguna, fungsi ini mengekstrak item yang telah di-rating, lalu menghitung rata-rata vektor TF-IDF dari item-item tersebut. Jika seorang pengguna tidak memiliki item yang di-rating, profilnya akan diisi dengan **profil rata-rata** dari seluruh pengguna sebagai fallback. Hasilnya adalah sebuah dictionary yang menyimpan ID pengguna sebagai key dan vektor profil pengguna sebagai value, yang dapat digunakan dalam sistem rekomendasi berbasis kesamaan profil."
      ],
      "metadata": {
        "id": "JuQVwEF8Z4YI"
      }
    },
    {
      "cell_type": "markdown",
      "source": [
        "### 12. Recommend Items Using KNN"
      ],
      "metadata": {
        "id": "RRWzPIq_QKA-"
      }
    },
    {
      "cell_type": "code",
      "execution_count": 14,
      "metadata": {
        "id": "FnZKKH_cGZ9l"
      },
      "outputs": [],
      "source": [
        "def recommend_items(user_profiles, tfidf_matrix, user_id, best_knn_model, train_data, top_n=5):\n",
        "    \"\"\"\n",
        "    Provide item recommendations based on user profile using the best KNN model.\n",
        "    \"\"\"\n",
        "    # Ambil profil pengguna\n",
        "    user_profile = user_profiles.get(user_id)\n",
        "\n",
        "    # If profile is not found, use the average profile\n",
        "    if user_profile is None or np.all(user_profile == 0):\n",
        "        user_profile = np.mean(list(user_profiles.values()), axis=0)\n",
        "\n",
        "    distances, indices = best_knn_model.kneighbors(\n",
        "        user_profile.reshape(1, -1), n_neighbors=tfidf_matrix.shape[0]\n",
        "    )\n",
        "\n",
        "    similarity_scores = (1 - distances.flatten()).tolist()\n",
        "    recommended_indices = indices.flatten().tolist()\n",
        "\n",
        "    seen_places = set()\n",
        "    recommendations = []\n",
        "\n",
        "    for idx, score in zip(recommended_indices, similarity_scores):\n",
        "        place_id = train_data.iloc[idx]['PlaceID']\n",
        "        if place_id not in seen_places:\n",
        "            seen_places.add(place_id)\n",
        "            recommendations.append((place_id, score))\n",
        "\n",
        "        if len(recommendations) >= top_n:\n",
        "            break\n",
        "\n",
        "    return recommendations\n"
      ]
    },
    {
      "cell_type": "markdown",
      "source": [
        "Fungsi **`recommend_items`** digunakan untuk memberikan rekomendasi item berdasarkan profil pengguna yang dibangun sebelumnya, menggunakan model KNN terbaik. Fungsi ini mengambil **profil pengguna** dan menghitung **jarak (distance)** serta **kesamaan (similarity)** antara profil pengguna tersebut dengan profil item yang ada di dataset. Jika profil pengguna tidak ditemukan atau tidak memiliki informasi yang relevan, profil rata-rata seluruh pengguna digunakan sebagai pengganti. Kemudian, model KNN digunakan untuk mencari item-item yang paling mirip dengan profil pengguna dan mengurutkannya berdasarkan nilai kesamaan. Rekomendasi ini dihasilkan dengan menghindari duplikasi tempat yang sudah pernah dilihat oleh pengguna, dan hanya menyarankan item terbaik sesuai dengan nilai **top_n** yang ditentukan."
      ],
      "metadata": {
        "id": "coJYIENPaFus"
      }
    },
    {
      "cell_type": "markdown",
      "source": [
        "### 13. Display Top 5 Recommendations"
      ],
      "metadata": {
        "id": "1X3x5JuUCznC"
      }
    },
    {
      "cell_type": "code",
      "source": [
        "# Generate a random user ID from the existing user IDs\n",
        "random_user_id = np.random.choice(data['ReviewerId'].unique())\n",
        "\n",
        "# Build user profiles\n",
        "user_profiles = build_user_profiles(train_data, tfidf_matrix_train)\n",
        "\n",
        "# Get recommendations for the random user\n",
        "recommendations = recommend_items(user_profiles, tfidf_matrix_train, random_user_id, best_knn_model, train_data)\n",
        "\n",
        "# Print the top 5 recommendations\n",
        "print(f\"Top 5 recommendations for user {random_user_id}:\")\n",
        "for place_id, score in recommendations:\n",
        "    place_name = data[data['PlaceID'] == place_id]['Nama_tempat_wisata'].iloc[0]\n",
        "    print(f\"- {place_name} (Similarity Score: {score:.4f})\")"
      ],
      "metadata": {
        "colab": {
          "base_uri": "https://localhost:8080/"
        },
        "id": "3D_CLnWqB-Q_",
        "outputId": "5c00138f-c451-4c0a-9fbd-62df30a1d75c"
      },
      "execution_count": 16,
      "outputs": [
        {
          "output_type": "stream",
          "name": "stdout",
          "text": [
            "Top 5 recommendations for user 5634:\n",
            "- Pantai Lumban Bul-bul Balige (Similarity Score: 0.8638)\n",
            "- Pantai Pasir Putih Parparean (Similarity Score: 0.7032)\n",
            "- Pantai Bebas Parapat, Danau Toba (Similarity Score: 0.7032)\n",
            "- Aek Rangat Pangururan (Similarity Score: 0.7032)\n",
            "- Pantai Pasir Putih Parbaba (Similarity Score: 0.7032)\n"
          ]
        }
      ]
    },
    {
      "cell_type": "markdown",
      "source": [
        "### 14. Evaluate the model (RMSE and MAE) On Validation"
      ],
      "metadata": {
        "id": "HIxyoViDQjn0"
      }
    },
    {
      "cell_type": "code",
      "execution_count": 17,
      "metadata": {
        "colab": {
          "base_uri": "https://localhost:8080/"
        },
        "id": "NNcZWSfEcOOC",
        "outputId": "5887b627-031c-4567-b942-3d0658f29385"
      },
      "outputs": [
        {
          "output_type": "stream",
          "name": "stdout",
          "text": [
            "Validation RMSE: 0.9453610886368754\n",
            "Mean Absolute Error (MAE): 0.644478716841456\n"
          ]
        },
        {
          "output_type": "stream",
          "name": "stderr",
          "text": [
            "/usr/local/lib/python3.10/dist-packages/sklearn/metrics/_regression.py:492: FutureWarning: 'squared' is deprecated in version 1.4 and will be removed in 1.6. To calculate the root mean squared error, use the function'root_mean_squared_error'.\n",
            "  warnings.warn(\n"
          ]
        }
      ],
      "source": [
        "from sklearn.metrics import mean_squared_error, mean_absolute_error\n",
        "import numpy as np\n",
        "\n",
        "# Predictions for validation data\n",
        "val_tfidf_matrix = tfidf.transform(val_data['cleaned_description'])\n",
        "val_predictions = best_knn_model.kneighbors(val_tfidf_matrix, n_neighbors=5)\n",
        "\n",
        "# Function to predict ratings using KNN\n",
        "def predict_ratings_knn(neighbors_indices, train_data, place_col='PlaceID', rating_col='Rating'):\n",
        "    predicted_ratings = []\n",
        "    for indices in neighbors_indices:\n",
        "        neighbor_ratings = train_data.iloc[indices][rating_col].values\n",
        "        # Hitung rata-rata rating dari tetangga\n",
        "        predicted_rating = np.mean(neighbor_ratings) if len(neighbor_ratings) > 0 else 0\n",
        "        predicted_ratings.append(predicted_rating)\n",
        "    return predicted_ratings\n",
        "\n",
        "val_predicted_ratings = predict_ratings_knn(val_predictions[1], train_data)\n",
        "\n",
        "# Ground truth for validation\n",
        "val_true_ratings = val_data['Rating'].values\n",
        "\n",
        "# Calculate RMSE\n",
        "val_rmse = mean_squared_error(val_true_ratings, val_predicted_ratings, squared=False)\n",
        "print(f\"Validation RMSE: {val_rmse}\")\n",
        "\n",
        "# Calculate MAE\n",
        "val_mae = mean_absolute_error(val_true_ratings, val_predicted_ratings)\n",
        "print(f\"Mean Absolute Error (MAE): {val_mae}\")\n"
      ]
    },
    {
      "cell_type": "markdown",
      "source": [
        "Pada kode ini, proses evaluasi dilakukan untuk mengukur kinerja model KNN dalam meramalkan rating berdasarkan data validasi (validation data). Berikut adalah penjelasan dari langkah-langkah yang terjadi:\n",
        "\n",
        "1. **Prediksi untuk data validasi**:\n",
        "   - Matriks TF-IDF untuk data validasi dihitung dengan menggunakan `tfidf.transform()`. Kemudian, model KNN terbaik digunakan untuk menemukan **5 tetangga terdekat** (neighbors) dari setiap item pada data validasi.\n",
        "\n",
        "2. **Fungsi `predict_ratings_knn`**:\n",
        "   - Fungsi ini digunakan untuk memprediksi rating berdasarkan tetangga terdekat yang ditemukan oleh model KNN. Rating untuk setiap item dihitung dengan mengambil rata-rata rating dari tetangga yang ditemukan. Jika tidak ada rating dari tetangga, maka nilai 0 digunakan.\n",
        "\n",
        "3. **Perhitungan Ground Truth dan Prediksi**:\n",
        "   - Ground truth untuk data validasi diambil dari kolom `Rating` dalam dataset validasi. Prediksi rating dihitung dengan menggunakan fungsi `predict_ratings_knn`.\n",
        "\n",
        "4. **Evaluasi menggunakan RMSE dan MAE**:\n",
        "   - **Root Mean Square Error (RMSE)** dihitung untuk mengukur kesalahan prediksi secara kuadrat. Nilai RMSE dihitung dengan fungsi `mean_squared_error` dengan argumen `squared=False` untuk mendapatkan nilai akar kuadrat.\n",
        "   - **Mean Absolute Error (MAE)** dihitung untuk mengukur rata-rata dari kesalahan absolut antara rating prediksi dan rating sebenarnya.\n",
        "\n",
        "5. **Output**:\n",
        "   - Hasil RMSE dan MAE untuk data validasi dicetak untuk mengevaluasi akurasi model dalam memprediksi rating.\n",
        "\n",
        "Dengan demikian, kode ini bertujuan untuk mengukur seberapa baik model KNN dapat meramalkan rating yang diberikan oleh pengguna pada tempat wisata, menggunakan dua metrik evaluasi yang umum yaitu RMSE dan MAE."
      ],
      "metadata": {
        "id": "h07TkWVNaKkV"
      }
    },
    {
      "cell_type": "markdown",
      "source": [
        "### 15. Test Set Evaluation (RMSE and MAE)"
      ],
      "metadata": {
        "id": "ZXcgBwCBQw_I"
      }
    },
    {
      "cell_type": "code",
      "execution_count": 18,
      "metadata": {
        "colab": {
          "base_uri": "https://localhost:8080/"
        },
        "id": "QUUygvxcexVQ",
        "outputId": "4759912e-9819-499f-b930-b1e52abc088d"
      },
      "outputs": [
        {
          "output_type": "stream",
          "name": "stdout",
          "text": [
            "Test RMSE: 0.9519117858950311\n",
            "Test MAE: 0.6437760296159186\n"
          ]
        },
        {
          "output_type": "stream",
          "name": "stderr",
          "text": [
            "/usr/local/lib/python3.10/dist-packages/sklearn/metrics/_regression.py:492: FutureWarning: 'squared' is deprecated in version 1.4 and will be removed in 1.6. To calculate the root mean squared error, use the function'root_mean_squared_error'.\n",
            "  warnings.warn(\n"
          ]
        }
      ],
      "source": [
        "from sklearn.metrics import mean_squared_error, mean_absolute_error\n",
        "import numpy as np\n",
        "\n",
        "# Transformasi TF-IDF untuk test set\n",
        "test_tfidf_matrix = tfidf.transform(test_data['cleaned_description'])\n",
        "\n",
        "# Prediksi untuk test set menggunakan model KNN terbaik\n",
        "test_predictions_indices = best_knn_model.kneighbors(test_tfidf_matrix, n_neighbors=5)\n",
        "\n",
        "# Prediksi rating menggunakan rata-rata rating dari tetangga terdekat\n",
        "def predict_ratings_knn(neighbors_indices, train_data, place_col='PlaceID', rating_col='Rating'):\n",
        "    predicted_ratings = []\n",
        "    for indices in neighbors_indices:\n",
        "        neighbor_ratings = train_data.iloc[indices][rating_col].values\n",
        "        # Hitung rata-rata rating dari tetangga\n",
        "        if len(neighbor_ratings) > 0:\n",
        "            predicted_rating = np.mean(neighbor_ratings)\n",
        "        else:\n",
        "            predicted_rating = np.nan  # Jika tidak ada tetangga, berikan NaN\n",
        "        predicted_ratings.append(predicted_rating)\n",
        "    return predicted_ratings\n",
        "\n",
        "# Prediksi untuk test set\n",
        "test_predicted_ratings = predict_ratings_knn(test_predictions_indices[1], train_data)\n",
        "\n",
        "# Ground truth untuk test set\n",
        "test_true_ratings = test_data['Rating'].values\n",
        "\n",
        "# Konversi ke numpy array untuk manipulasi\n",
        "test_predicted_ratings = np.array(test_predicted_ratings)\n",
        "test_true_ratings = np.array(test_true_ratings)\n",
        "\n",
        "# Periksa dan buang pasangan dengan NaN\n",
        "valid_indices = ~np.isnan(test_predicted_ratings) & ~np.isnan(test_true_ratings)\n",
        "test_predicted_ratings = test_predicted_ratings[valid_indices]\n",
        "test_true_ratings = test_true_ratings[valid_indices]\n",
        "\n",
        "# Pastikan tidak ada nilai NaN setelah pemfilteran\n",
        "assert not np.isnan(test_predicted_ratings).any(), \"Masih ada nilai NaN di test_predicted_ratings!\"\n",
        "assert not np.isnan(test_true_ratings).any(), \"Masih ada nilai NaN di test_true_ratings!\"\n",
        "\n",
        "# Hitung RMSE pada test set\n",
        "test_rmse = mean_squared_error(test_true_ratings, test_predicted_ratings, squared=False)\n",
        "print(f\"Test RMSE: {test_rmse}\")\n",
        "\n",
        "# Hitung MAE pada test set\n",
        "test_mae = mean_absolute_error(test_true_ratings, test_predicted_ratings)\n",
        "print(f\"Test MAE: {test_mae}\")\n"
      ]
    },
    {
      "cell_type": "markdown",
      "source": [
        "Pada kode ini, dilakukan evaluasi model KNN menggunakan dua metrik, yaitu **RMSE (Root Mean Square Error)** dan **MAE (Mean Absolute Error)**, dengan data pada **test set**. Berikut penjelasan langkah-langkah yang terjadi:\n",
        "\n",
        "1. **Transformasi TF-IDF untuk test set**:\n",
        "   - Seperti pada data pelatihan, `tfidf.transform()` digunakan untuk mengubah deskripsi dalam data test menjadi matriks fitur TF-IDF.\n",
        "\n",
        "2. **Prediksi menggunakan KNN**:\n",
        "   - Model KNN terbaik yang telah ditentukan sebelumnya digunakan untuk menemukan **5 tetangga terdekat** (neighbors) dari setiap item pada test set.\n",
        "\n",
        "3. **Prediksi rating dengan rata-rata tetangga**:\n",
        "   - Fungsi `predict_ratings_knn` digunakan untuk menghitung rating prediksi untuk setiap item pada test set. Rating dihitung sebagai rata-rata rating dari tetangga yang ditemukan untuk setiap item.\n",
        "\n",
        "4. **Mengambil Ground Truth**:\n",
        "   - Ground truth untuk test set adalah nilai `Rating` yang ada pada dataset test.\n",
        "\n",
        "5. **Mengatasi NaN dalam Prediksi**:\n",
        "   - Jika tidak ada tetangga yang ditemukan (tetangga yang memiliki rating), maka nilai prediksi akan diberi NaN. Setelah itu, pasangan data yang mengandung NaN pada prediksi atau ground truth dibuang dengan melakukan filter pada `valid_indices`.\n",
        "\n",
        "6. **Validasi NaN**:\n",
        "   - Setelah pemfilteran, dilakukan pemeriksaan menggunakan `assert` untuk memastikan bahwa tidak ada lagi nilai NaN dalam data prediksi dan data ground truth.\n",
        "\n",
        "7. **Menghitung Evaluasi**:\n",
        "   - **RMSE** dihitung dengan menggunakan fungsi `mean_squared_error` dari scikit-learn dengan opsi `squared=False` untuk mendapatkan akar kuadrat dari MSE.\n",
        "   - **MAE** dihitung dengan menggunakan fungsi `mean_absolute_error` untuk mendapatkan rata-rata dari selisih mutlak antara nilai prediksi dan nilai sesungguhnya.\n",
        "\n",
        "8. **Output**:\n",
        "   - Hasil perhitungan RMSE dan MAE pada test set dicetak untuk mengevaluasi seberapa baik model KNN dalam memprediksi rating pada data yang belum pernah dilihat sebelumnya.\n",
        "\n",
        "Secara keseluruhan, kode ini mengukur kinerja model KNN pada test set dan memberikan gambaran tentang akurasi prediksi rating menggunakan dua metrik kesalahan yang umum digunakan, yaitu RMSE dan MAE."
      ],
      "metadata": {
        "id": "8OmJUY09av0W"
      }
    },
    {
      "cell_type": "markdown",
      "source": [
        "### 16. Model Evaluation Metrics: RMSE and MAE on Test Set"
      ],
      "metadata": {
        "id": "NuxKZnSdR2sn"
      }
    },
    {
      "cell_type": "code",
      "source": [
        "# Assuming test_rmse and test_mae are already calculated\n",
        "# Example values (replace with your actual values)\n",
        "test_rmse = mean_squared_error(test_true_ratings, test_predicted_ratings, squared=False)\n",
        "test_mae = mean_absolute_error(test_true_ratings, test_predicted_ratings)\n",
        "\n",
        "# Create a DataFrame for the metrics\n",
        "metrics_data = {\n",
        "    \"Metric\": [\"RMSE\", \"MAE\"],\n",
        "    \"Value\": [test_rmse, test_mae]\n",
        "}\n",
        "metrics_df = pd.DataFrame(metrics_data)\n",
        "\n",
        "# Visualize RMSE and MAE with improved colorblind-friendly palette\n",
        "plt.figure(figsize=(8, 5))\n",
        "bars = plt.bar(metrics_df[\"Metric\"], metrics_df[\"Value\"], color=['#0072B2', '#D55E00']) # Qualitative colorblind-safe palette\n",
        "plt.title(\"Model Evaluation Metrics (RMSE and MAE) on Test Set\")\n",
        "plt.ylabel(\"Error Value\")\n",
        "\n",
        "# Set y-axis limit dynamically\n",
        "plt.ylim(0, max(metrics_df[\"Value\"]) * 1.2)\n",
        "\n",
        "# Add value labels above the bars\n",
        "for bar in bars:\n",
        "    yval = bar.get_height()\n",
        "    plt.text(bar.get_x() + bar.get_width()/2, yval, round(yval, 2), ha='center', va='bottom')\n",
        "\n",
        "# Add a horizontal grid for better readability\n",
        "plt.grid(axis='y', linestyle='--', alpha=0.7)\n",
        "\n",
        "plt.show()\n",
        "\n",
        "# Display the DataFrame as a table\n",
        "print(\"Model Evaluation Metrics (RMSE and MAE):\")\n",
        "metrics_df"
      ],
      "metadata": {
        "colab": {
          "base_uri": "https://localhost:8080/",
          "height": 648
        },
        "id": "REa63p2KEOM9",
        "outputId": "7ab83ee5-a77f-4f02-e32c-f50944b6d34f"
      },
      "execution_count": 20,
      "outputs": [
        {
          "output_type": "stream",
          "name": "stderr",
          "text": [
            "/usr/local/lib/python3.10/dist-packages/sklearn/metrics/_regression.py:492: FutureWarning: 'squared' is deprecated in version 1.4 and will be removed in 1.6. To calculate the root mean squared error, use the function'root_mean_squared_error'.\n",
            "  warnings.warn(\n"
          ]
        },
        {
          "output_type": "display_data",
          "data": {
            "text/plain": [
              "<Figure size 800x500 with 1 Axes>"
            ],
            "image/png": "[encoded data removed]"
          },
          "metadata": {}
        },
        {
          "output_type": "stream",
          "name": "stdout",
          "text": [
            "Model Evaluation Metrics (RMSE and MAE):\n"
          ]
        },
        {
          "output_type": "execute_result",
          "data": {
            "text/plain": [
              "  Metric     Value\n",
              "0   RMSE  0.951912\n",
              "1    MAE  0.643776"
            ],
            "text/html": [
              "\n",
              "  <div id=\"df-9ac0e7c9-a515-41d8-a2b4-8bafb7866c7c\" class=\"colab-df-container\">\n",
              "    <div>\n",
              "<style scoped>\n",
              "    .dataframe tbody tr th:only-of-type {\n",
              "        vertical-align: middle;\n",
              "    }\n",
              "\n",
              "    .dataframe tbody tr th {\n",
              "        vertical-align: top;\n",
              "    }\n",
              "\n",
              "    .dataframe thead th {\n",
              "        text-align: right;\n",
              "    }\n",
              "</style>\n",
              "<table border=\"1\" class=\"dataframe\">\n",
              "  <thead>\n",
              "    <tr style=\"text-align: right;\">\n",
              "      <th></th>\n",
              "      <th>Metric</th>\n",
              "      <th>Value</th>\n",
              "    </tr>\n",
              "  </thead>\n",
              "  <tbody>\n",
              "    <tr>\n",
              "      <th>0</th>\n",
              "      <td>RMSE</td>\n",
              "      <td>0.951912</td>\n",
              "    </tr>\n",
              "    <tr>\n",
              "      <th>1</th>\n",
              "      <td>MAE</td>\n",
              "      <td>0.643776</td>\n",
              "    </tr>\n",
              "  </tbody>\n",
              "</table>\n",
              "</div>\n",
              "    <div class=\"colab-df-buttons\">\n",
              "\n",
              "  <div class=\"colab-df-container\">\n",
              "    <button class=\"colab-df-convert\" onclick=\"convertToInteractive('df-9ac0e7c9-a515-41d8-a2b4-8bafb7866c7c')\"\n",
              "            title=\"Convert this dataframe to an interactive table.\"\n",
              "            style=\"display:none;\">\n",
              "\n",
              "  <svg xmlns=\"http://www.w3.org/2000/svg\" height=\"24px\" viewBox=\"0 -960 960 960\">\n",
              "    <path d=\"M120-120v-720h720v720H120Zm60-500h600v-160H180v160Zm220 220h160v-160H400v160Zm0 220h160v-160H400v160ZM180-400h160v-160H180v160Zm440 0h160v-160H620v160ZM180-180h160v-160H180v160Zm440 0h160v-160H620v160Z\"/>\n",
              "  </svg>\n",
              "    </button>\n",
              "\n",
              "  <style>\n",
              "    .colab-df-container {\n",
              "      display:flex;\n",
              "      gap: 12px;\n",
              "    }\n",
              "\n",
              "    .colab-df-convert {\n",
              "      background-color: #E8F0FE;\n",
              "      border: none;\n",
              "      border-radius: 50%;\n",
              "      cursor: pointer;\n",
              "      display: none;\n",
              "      fill: #1967D2;\n",
              "      height: 32px;\n",
              "      padding: 0 0 0 0;\n",
              "      width: 32px;\n",
              "    }\n",
              "\n",
              "    .colab-df-convert:hover {\n",
              "      background-color: #E2EBFA;\n",
              "      box-shadow: 0px 1px 2px rgba(60, 64, 67, 0.3), 0px 1px 3px 1px rgba(60, 64, 67, 0.15);\n",
              "      fill: #174EA6;\n",
              "    }\n",
              "\n",
              "    .colab-df-buttons div {\n",
              "      margin-bottom: 4px;\n",
              "    }\n",
              "\n",
              "    [theme=dark] .colab-df-convert {\n",
              "      background-color: #3B4455;\n",
              "      fill: #D2E3FC;\n",
              "    }\n",
              "\n",
              "    [theme=dark] .colab-df-convert:hover {\n",
              "      background-color: #434B5C;\n",
              "      box-shadow: 0px 1px 3px 1px rgba(0, 0, 0, 0.15);\n",
              "      filter: drop-shadow(0px 1px 2px rgba(0, 0, 0, 0.3));\n",
              "      fill: #FFFFFF;\n",
              "    }\n",
              "  </style>\n",
              "\n",
              "    <script>\n",
              "      const buttonEl =\n",
              "        document.querySelector('#df-9ac0e7c9-a515-41d8-a2b4-8bafb7866c7c button.colab-df-convert');\n",
              "      buttonEl.style.display =\n",
              "        google.colab.kernel.accessAllowed ? 'block' : 'none';\n",
              "\n",
              "      async function convertToInteractive(key) {\n",
              "        const element = document.querySelector('#df-9ac0e7c9-a515-41d8-a2b4-8bafb7866c7c');\n",
              "        const dataTable =\n",
              "          await google.colab.kernel.invokeFunction('convertToInteractive',\n",
              "                                                    [key], {});\n",
              "        if (!dataTable) return;\n",
              "\n",
              "        const docLinkHtml = 'Like what you see? Visit the ' +\n",
              "          '<a target=\"_blank\" href=https://colab.research.google.com/notebooks/data_table.ipynb>data table notebook</a>'\n",
              "          + ' to learn more about interactive tables.';\n",
              "        element.innerHTML = '';\n",
              "        dataTable['output_type'] = 'display_data';\n",
              "        await google.colab.output.renderOutput(dataTable, element);\n",
              "        const docLink = document.createElement('div');\n",
              "        docLink.innerHTML = docLinkHtml;\n",
              "        element.appendChild(docLink);\n",
              "      }\n",
              "    </script>\n",
              "  </div>\n",
              "\n",
              "\n",
              "<div id=\"df-a05feceb-9710-482a-b0bd-e15bbf6fd005\">\n",
              "  <button class=\"colab-df-quickchart\" onclick=\"quickchart('df-a05feceb-9710-482a-b0bd-e15bbf6fd005')\"\n",
              "            title=\"Suggest charts\"\n",
              "            style=\"display:none;\">\n",
              "\n",
              "<svg xmlns=\"http://www.w3.org/2000/svg\" height=\"24px\"viewBox=\"0 0 24 24\"\n",
              "     width=\"24px\">\n",
              "    <g>\n",
              "        <path d=\"M19 3H5c-1.1 0-2 .9-2 2v14c0 1.1.9 2 2 2h14c1.1 0 2-.9 2-2V5c0-1.1-.9-2-2-2zM9 17H7v-7h2v7zm4 0h-2V7h2v10zm4 0h-2v-4h2v4z\"/>\n",
              "    </g>\n",
              "</svg>\n",
              "  </button>\n",
              "\n",
              "<style>\n",
              "  .colab-df-quickchart {\n",
              "      --bg-color: #E8F0FE;\n",
              "      --fill-color: #1967D2;\n",
              "      --hover-bg-color: #E2EBFA;\n",
              "      --hover-fill-color: #174EA6;\n",
              "      --disabled-fill-color: #AAA;\n",
              "      --disabled-bg-color: #DDD;\n",
              "  }\n",
              "\n",
              "  [theme=dark] .colab-df-quickchart {\n",
              "      --bg-color: #3B4455;\n",
              "      --fill-color: #D2E3FC;\n",
              "      --hover-bg-color: #434B5C;\n",
              "      --hover-fill-color: #FFFFFF;\n",
              "      --disabled-bg-color: #3B4455;\n",
              "      --disabled-fill-color: #666;\n",
              "  }\n",
              "\n",
              "  .colab-df-quickchart {\n",
              "    background-color: var(--bg-color);\n",
              "    border: none;\n",
              "    border-radius: 50%;\n",
              "    cursor: pointer;\n",
              "    display: none;\n",
              "    fill: var(--fill-color);\n",
              "    height: 32px;\n",
              "    padding: 0;\n",
              "    width: 32px;\n",
              "  }\n",
              "\n",
              "  .colab-df-quickchart:hover {\n",
              "    background-color: var(--hover-bg-color);\n",
              "    box-shadow: 0 1px 2px rgba(60, 64, 67, 0.3), 0 1px 3px 1px rgba(60, 64, 67, 0.15);\n",
              "    fill: var(--button-hover-fill-color);\n",
              "  }\n",
              "\n",
              "  .colab-df-quickchart-complete:disabled,\n",
              "  .colab-df-quickchart-complete:disabled:hover {\n",
              "    background-color: var(--disabled-bg-color);\n",
              "    fill: var(--disabled-fill-color);\n",
              "    box-shadow: none;\n",
              "  }\n",
              "\n",
              "  .colab-df-spinner {\n",
              "    border: 2px solid var(--fill-color);\n",
              "    border-color: transparent;\n",
              "    border-bottom-color: var(--fill-color);\n",
              "    animation:\n",
              "      spin 1s steps(1) infinite;\n",
              "  }\n",
              "\n",
              "  @keyframes spin {\n",
              "    0% {\n",
              "      border-color: transparent;\n",
              "      border-bottom-color: var(--fill-color);\n",
              "      border-left-color: var(--fill-color);\n",
              "    }\n",
              "    20% {\n",
              "      border-color: transparent;\n",
              "      border-left-color: var(--fill-color);\n",
              "      border-top-color: var(--fill-color);\n",
              "    }\n",
              "    30% {\n",
              "      border-color: transparent;\n",
              "      border-left-color: var(--fill-color);\n",
              "      border-top-color: var(--fill-color);\n",
              "      border-right-color: var(--fill-color);\n",
              "    }\n",
              "    40% {\n",
              "      border-color: transparent;\n",
              "      border-right-color: var(--fill-color);\n",
              "      border-top-color: var(--fill-color);\n",
              "    }\n",
              "    60% {\n",
              "      border-color: transparent;\n",
              "      border-right-color: var(--fill-color);\n",
              "    }\n",
              "    80% {\n",
              "      border-color: transparent;\n",
              "      border-right-color: var(--fill-color);\n",
              "      border-bottom-color: var(--fill-color);\n",
              "    }\n",
              "    90% {\n",
              "      border-color: transparent;\n",
              "      border-bottom-color: var(--fill-color);\n",
              "    }\n",
              "  }\n",
              "</style>\n",
              "\n",
              "  <script>\n",
              "    async function quickchart(key) {\n",
              "      const quickchartButtonEl =\n",
              "        document.querySelector('#' + key + ' button');\n",
              "      quickchartButtonEl.disabled = true;  // To prevent multiple clicks.\n",
              "      quickchartButtonEl.classList.add('colab-df-spinner');\n",
              "      try {\n",
              "        const charts = await google.colab.kernel.invokeFunction(\n",
              "            'suggestCharts', [key], {});\n",
              "      } catch (error) {\n",
              "        console.error('Error during call to suggestCharts:', error);\n",
              "      }\n",
              "      quickchartButtonEl.classList.remove('colab-df-spinner');\n",
              "      quickchartButtonEl.classList.add('colab-df-quickchart-complete');\n",
              "    }\n",
              "    (() => {\n",
              "      let quickchartButtonEl =\n",
              "        document.querySelector('#df-a05feceb-9710-482a-b0bd-e15bbf6fd005 button');\n",
              "      quickchartButtonEl.style.display =\n",
              "        google.colab.kernel.accessAllowed ? 'block' : 'none';\n",
              "    })();\n",
              "  </script>\n",
              "</div>\n",
              "\n",
              "  <div id=\"id_1a1db771-eea9-43bf-801c-cef755bcee81\">\n",
              "    <style>\n",
              "      .colab-df-generate {\n",
              "        background-color: #E8F0FE;\n",
              "        border: none;\n",
              "        border-radius: 50%;\n",
              "        cursor: pointer;\n",
              "        display: none;\n",
              "        fill: #1967D2;\n",
              "        height: 32px;\n",
              "        padding: 0 0 0 0;\n",
              "        width: 32px;\n",
              "      }\n",
              "\n",
              "      .colab-df-generate:hover {\n",
              "        background-color: #E2EBFA;\n",
              "        box-shadow: 0px 1px 2px rgba(60, 64, 67, 0.3), 0px 1px 3px 1px rgba(60, 64, 67, 0.15);\n",
              "        fill: #174EA6;\n",
              "      }\n",
              "\n",
              "      [theme=dark] .colab-df-generate {\n",
              "        background-color: #3B4455;\n",
              "        fill: #D2E3FC;\n",
              "      }\n",
              "\n",
              "      [theme=dark] .colab-df-generate:hover {\n",
              "        background-color: #434B5C;\n",
              "        box-shadow: 0px 1px 3px 1px rgba(0, 0, 0, 0.15);\n",
              "        filter: drop-shadow(0px 1px 2px rgba(0, 0, 0, 0.3));\n",
              "        fill: #FFFFFF;\n",
              "      }\n",
              "    </style>\n",
              "    <button class=\"colab-df-generate\" onclick=\"generateWithVariable('metrics_df')\"\n",
              "            title=\"Generate code using this dataframe.\"\n",
              "            style=\"display:none;\">\n",
              "\n",
              "  <svg xmlns=\"http://www.w3.org/2000/svg\" height=\"24px\"viewBox=\"0 0 24 24\"\n",
              "       width=\"24px\">\n",
              "    <path d=\"M7,19H8.4L18.45,9,17,7.55,7,17.6ZM5,21V16.75L18.45,3.32a2,2,0,0,1,2.83,0l1.4,1.43a1.91,1.91,0,0,1,.58,1.4,1.91,1.91,0,0,1-.58,1.4L9.25,21ZM18.45,9,17,7.55Zm-12,3A5.31,5.31,0,0,0,4.9,8.1,5.31,5.31,0,0,0,1,6.5,5.31,5.31,0,0,0,4.9,4.9,5.31,5.31,0,0,0,6.5,1,5.31,5.31,0,0,0,8.1,4.9,5.31,5.31,0,0,0,12,6.5,5.46,5.46,0,0,0,6.5,12Z\"/>\n",
              "  </svg>\n",
              "    </button>\n",
              "    <script>\n",
              "      (() => {\n",
              "      const buttonEl =\n",
              "        document.querySelector('#id_1a1db771-eea9-43bf-801c-cef755bcee81 button.colab-df-generate');\n",
              "      buttonEl.style.display =\n",
              "        google.colab.kernel.accessAllowed ? 'block' : 'none';\n",
              "\n",
              "      buttonEl.onclick = () => {\n",
              "        google.colab.notebook.generateWithVariable('metrics_df');\n",
              "      }\n",
              "      })();\n",
              "    </script>\n",
              "  </div>\n",
              "\n",
              "    </div>\n",
              "  </div>\n"
            ],
            "application/vnd.google.colaboratory.intrinsic+json": {
              "type": "dataframe",
              "variable_name": "metrics_df",
              "summary": "{\n  \"name\": \"metrics_df\",\n  \"rows\": 2,\n  \"fields\": [\n    {\n      \"column\": \"Metric\",\n      \"properties\": {\n        \"dtype\": \"string\",\n        \"num_unique_values\": 2,\n        \"samples\": [\n          \"MAE\",\n          \"RMSE\"\n        ],\n        \"semantic_type\": \"\",\n        \"description\": \"\"\n      }\n    },\n    {\n      \"column\": \"Value\",\n      \"properties\": {\n        \"dtype\": \"number\",\n        \"std\": 0.21788488279100574,\n        \"min\": 0.6437760296159186,\n        \"max\": 0.9519117858950311,\n        \"num_unique_values\": 2,\n        \"samples\": [\n          0.6437760296159186,\n          0.9519117858950311\n        ],\n        \"semantic_type\": \"\",\n        \"description\": \"\"\n      }\n    }\n  ]\n}"
            }
          },
          "metadata": {},
          "execution_count": 20
        }
      ]
    },
    {
      "cell_type": "markdown",
      "source": [
        "Pada kode ini, dilakukan evaluasi terhadap model KNN dengan menghitung dua metrik kesalahan, yaitu **RMSE** (Root Mean Squared Error) dan **MAE** (Mean Absolute Error), untuk mengukur performa prediksi pada test set. RMSE dihitung untuk memberikan gambaran seberapa besar kesalahan rata-rata prediksi model dalam satuan aslinya, sedangkan MAE mengukur rata-rata perbedaan absolut antara nilai prediksi dan nilai sebenarnya. Hasil evaluasi ini kemudian disimpan dalam sebuah DataFrame yang mencatat nama metrik dan nilainya. Untuk memberikan gambaran visual yang lebih jelas, hasil RMSE dan MAE divisualisasikan dalam bentuk diagram batang menggunakan `matplotlib`, dengan nilai metrik yang ditampilkan di atas setiap batang untuk memudahkan perbandingan. Selain itu, DataFrame yang berisi nilai-nilai metrik juga ditampilkan untuk memberikan informasi yang lebih terstruktur. Dengan pendekatan ini, kita dapat dengan mudah menilai performa model berdasarkan kedua metrik kesalahan tersebut."
      ],
      "metadata": {
        "id": "kUe_EhLtFct6"
      }
    },
    {
      "cell_type": "markdown",
      "source": [
        "### 17. Evaluation Metrics: Precision@K, Recall@K, and Mean Average Precision (MAP)@K"
      ],
      "metadata": {
        "id": "bfQp1L5TSMUT"
      }
    },
    {
      "cell_type": "code",
      "execution_count": 21,
      "metadata": {
        "id": "priAe5OnfMMq"
      },
      "outputs": [],
      "source": [
        "from sklearn.metrics import precision_score, recall_score\n",
        "import numpy as np\n",
        "\n",
        "# Function untuk menghitung metrik evaluasi\n",
        "def precision_at_k(actual, predicted, k):\n",
        "    \"\"\"\n",
        "    Menghitung Precision@K.\n",
        "    \"\"\"\n",
        "    actual_set = set(actual)\n",
        "    predicted_set = set(predicted[:k])\n",
        "    return len(actual_set & predicted_set) / k\n",
        "\n",
        "def recall_at_k(actual, predicted, k):\n",
        "    \"\"\"\n",
        "    Menghitung Recall@K.\n",
        "    \"\"\"\n",
        "    actual_set = set(actual)\n",
        "    predicted_set = set(predicted[:k])\n",
        "    return len(actual_set & predicted_set) / len(actual_set) if len(actual_set) > 0 else 0\n",
        "\n",
        "def average_precision_at_k(actual, predicted, k):\n",
        "    \"\"\"\n",
        "    Menghitung Mean Average Precision (MAP)@K.\n",
        "    \"\"\"\n",
        "    score, hits = 0.0, 0\n",
        "    for i, p in enumerate(predicted[:k]):\n",
        "        if p in actual:\n",
        "            hits += 1\n",
        "            score += hits / (i + 1.0)\n",
        "    return score / min(len(actual), k) if len(actual) > 0 else 0.0\n"
      ]
    },
    {
      "cell_type": "markdown",
      "source": [
        "Pada kode ini, tiga fungsi utama digunakan untuk menghitung metrik evaluasi dalam konteks rekomendasi berbasis peringkat, dengan fokus pada **Precision@K**, **Recall@K**, dan **Mean Average Precision (MAP)@K**.\n",
        "\n",
        "1. **Precision@K**: Mengukur berapa banyak item yang relevan (sesuai dengan preferensi pengguna) yang ada dalam K rekomendasi teratas. Fungsi `precision_at_k` menerima dua parameter: `actual` (item yang relevan menurut ground truth) dan `predicted` (rekomendasi model). Precision dihitung sebagai rasio jumlah item relevan yang terdaftar di dalam `predicted[:k]` terhadap K.\n",
        "\n",
        "2. **Recall@K**: Mengukur seberapa banyak item relevan yang berhasil ditemukan dalam K rekomendasi teratas dari seluruh item relevan yang tersedia. Fungsi `recall_at_k` menghitung recall dengan membandingkan jumlah item relevan yang ada di dalam K rekomendasi dengan jumlah total item relevan dalam data aktual.\n",
        "\n",
        "3. **Mean Average Precision (MAP)@K**: Menghitung rata-rata dari Precision yang dihitung untuk setiap posisi item relevan dalam rekomendasi. Fungsi `average_precision_at_k` menghitung MAP dengan menjumlahkan nilai Precision setiap kali item relevan ditemukan di dalam rekomendasi, kemudian membaginya dengan jumlah relevan yang tersedia.\n",
        "\n",
        "Ketiga metrik ini sangat berguna untuk menilai kualitas model rekomendasi, karena mereka mempertimbangkan baik relevansi (Precision) maupun kelengkapan (Recall) rekomendasi yang diberikan."
      ],
      "metadata": {
        "id": "Vfd-GTNZb7At"
      }
    },
    {
      "cell_type": "code",
      "execution_count": 22,
      "metadata": {
        "id": "EAiP2iUShECM"
      },
      "outputs": [],
      "source": [
        "# Evaluasi Precision, Recall, MAP untuk semua user\n",
        "def evaluate_recommendations(user_profiles, tfidf_matrix, test_data, best_knn_model, train_data, top_k_values=[10]):\n",
        "    \"\"\"\n",
        "    Evaluasi Precision@K, Recall@K, dan MAP@K untuk semua pengguna dalam test_data.\n",
        "    \"\"\"\n",
        "    results = {k: {\"precision\": [], \"recall\": [], \"map\": []} for k in top_k_values}\n",
        "\n",
        "    for user_id in test_data['ReviewerId'].unique():\n",
        "        # Ambil ground truth dan rekomendasi untuk user_id\n",
        "        actual_places = test_data[test_data['ReviewerId'] == user_id]['PlaceID'].tolist()\n",
        "        recommended_items = recommend_items(user_profiles, tfidf_matrix, user_id, best_knn_model, train_data, max(top_k_values))\n",
        "        recommended_places = [item[0] for item in recommended_items]\n",
        "\n",
        "        # Evaluasi untuk setiap nilai K\n",
        "        for k in top_k_values:\n",
        "            precision = precision_at_k(actual_places, recommended_places, k)\n",
        "            recall = recall_at_k(actual_places, recommended_places, k)\n",
        "            map_score = average_precision_at_k(actual_places, recommended_places, k)\n",
        "\n",
        "            results[k][\"precision\"].append(precision)\n",
        "            results[k][\"recall\"].append(recall)\n",
        "            results[k][\"map\"].append(map_score)\n",
        "\n",
        "    # Hitung rata-rata untuk setiap K\n",
        "    summary_results = {}\n",
        "    for k in top_k_values:\n",
        "        summary_results[f\"Precision@{k}\"] = np.mean(results[k][\"precision\"])\n",
        "        summary_results[f\"Recall@{k}\"] = np.mean(results[k][\"recall\"])\n",
        "        summary_results[f\"MAP@{k}\"] = np.mean(results[k][\"map\"])\n",
        "\n",
        "    return summary_results"
      ]
    },
    {
      "cell_type": "markdown",
      "source": [
        "Fungsi `evaluate_recommendations` di atas dirancang untuk mengevaluasi kinerja sistem rekomendasi berdasarkan tiga metrik penting: **Precision@K**, **Recall@K**, dan **Mean Average Precision (MAP)@K**. Fungsi ini bekerja dengan menghitung nilai-nilai evaluasi tersebut untuk setiap pengguna dalam dataset uji (`test_data`).\n",
        "\n",
        "Berikut adalah langkah-langkah utama yang dilakukan dalam fungsi ini:\n",
        "\n",
        "1. **Inisialisasi Struktur Hasil**: Fungsi ini memulai dengan menyiapkan sebuah struktur dictionary `results` untuk menyimpan nilai Precision, Recall, dan MAP untuk setiap nilai `K` yang diberikan dalam `top_k_values`.\n",
        "\n",
        "2. **Proses Evaluasi per Pengguna**: Untuk setiap pengguna (`user_id`) yang terdapat pada dataset uji (`test_data`), fungsi ini mengambil **ground truth** atau daftar tempat yang benar-benar telah dinilai oleh pengguna (`actual_places`). Kemudian, rekomendasi item (tempat) diambil dengan memanggil fungsi `recommend_items`, yang mengembalikan K rekomendasi teratas berdasarkan profil pengguna yang dibangun sebelumnya.\n",
        "\n",
        "3. **Menghitung Metrik untuk Setiap K**: Untuk setiap nilai K yang diberikan, fungsi ini menghitung Precision, Recall, dan MAP menggunakan fungsi-fungsi yang telah didefinisikan sebelumnya (yakni `precision_at_k`, `recall_at_k`, dan `average_precision_at_k`). Hasil-hasil ini kemudian ditambahkan ke dalam dictionary `results`.\n",
        "\n",
        "4. **Ringkasan Hasil**: Setelah evaluasi untuk semua pengguna selesai, fungsi ini menghitung nilai rata-rata dari Precision, Recall, dan MAP untuk setiap nilai K yang ada, dan mengembalikannya dalam bentuk dictionary `summary_results`.\n",
        "\n",
        "Fungsi ini memberikan gambaran menyeluruh mengenai kinerja sistem rekomendasi untuk setiap nilai K, serta memudahkan analisis efektivitas rekomendasi berdasarkan metrik yang relevan."
      ],
      "metadata": {
        "id": "T0zsaaaTcALS"
      }
    },
    {
      "cell_type": "markdown",
      "source": [
        "### 18. Generating User Profiles and Evaluating Recommendation Metrics for Top-5 and Top-10"
      ],
      "metadata": {
        "id": "RidWECt_S7ds"
      }
    },
    {
      "cell_type": "code",
      "execution_count": 23,
      "metadata": {
        "id": "NdLB4X18lPGu"
      },
      "outputs": [],
      "source": [
        "user_profiles = build_user_profiles(data=train_data, tfidf_matrix=tfidf_matrix_train)\n",
        "\n",
        "metrics = evaluate_recommendations(\n",
        "    user_profiles=user_profiles,\n",
        "    tfidf_matrix=tfidf_matrix_train,\n",
        "    test_data=test_data,\n",
        "    best_knn_model=best_knn_model,\n",
        "    train_data=train_data,\n",
        "    top_k_values=[5, 10]  # Evaluasi untuk Top-5 dan Top-10\n",
        ")\n"
      ]
    },
    {
      "cell_type": "markdown",
      "source": [
        "Pada kode di atas, dua langkah utama dilakukan untuk mengevaluasi kinerja sistem rekomendasi:\n",
        "\n",
        "1. **Membangun Profil Pengguna**:\n",
        "   - Fungsi `build_user_profiles` dipanggil dengan data pelatihan (`train_data`) dan matriks TF-IDF (`tfidf_matrix_train`) untuk membangun profil pengguna berdasarkan rata-rata vektor TF-IDF dari item (tempat wisata) yang telah mereka beri rating.\n",
        "   - Profil pengguna ini akan digunakan untuk membandingkan preferensi masing-masing pengguna terhadap item-item yang ada dalam sistem rekomendasi.\n",
        "\n",
        "2. **Evaluasi Sistem Rekomendasi**:\n",
        "   - Fungsi `evaluate_recommendations` dipanggil dengan berbagai parameter:\n",
        "     - `user_profiles`: Profil pengguna yang telah dibangun sebelumnya.\n",
        "     - `tfidf_matrix`: Matriks TF-IDF untuk data pelatihan.\n",
        "     - `test_data`: Data uji yang berisi feedback atau rating pengguna terhadap item.\n",
        "     - `best_knn_model`: Model KNN terbaik yang diperoleh dari GridSearchCV, digunakan untuk menemukan rekomendasi berdasarkan kedekatan antara profil pengguna dan item.\n",
        "     - `train_data`: Data pelatihan yang berisi informasi mengenai item (tempat wisata) dan rating yang diberikan oleh pengguna.\n",
        "     - `top_k_values=[5, 10]`: Menentukan bahwa evaluasi dilakukan untuk Top-5 dan Top-10 rekomendasi.\n",
        "\n",
        "   Fungsi ini akan mengembalikan hasil evaluasi berupa metrik **Precision@K**, **Recall@K**, dan **MAP@K** untuk setiap nilai K yang ditentukan. Ini memberikan gambaran tentang seberapa efektif sistem rekomendasi dalam memberikan rekomendasi yang relevan untuk pengguna berdasarkan data uji."
      ],
      "metadata": {
        "id": "MH4EBYa9cNCQ"
      }
    },
    {
      "cell_type": "markdown",
      "source": [
        "### 19. Evaluation Results for Precision, Recall, and MAP at Top-5 and Top-10"
      ],
      "metadata": {
        "id": "pPJb8Hw2TBqE"
      }
    },
    {
      "cell_type": "code",
      "execution_count": 24,
      "metadata": {
        "id": "jZWSfjkpQ1sZ",
        "colab": {
          "base_uri": "https://localhost:8080/"
        },
        "outputId": "52c9d725-25b9-44a1-adad-8b26599a288b"
      },
      "outputs": [
        {
          "output_type": "stream",
          "name": "stdout",
          "text": [
            "Average Precision at 5: 0.03494728621632175\n",
            "Average Recall at 5: 0.14091500715866198\n",
            "Mean Average Precision at 5: 0.07539844461798777\n",
            "Average Precision at 10: 0.02994923857868021\n",
            "Average Recall at 10: 0.24129463317280575\n",
            "Mean Average Precision at 10: 0.08889018788130462\n"
          ]
        }
      ],
      "source": [
        "# Evaluasi dan tampilkan hasil untuk Top-5 dan Top-10\n",
        "print(f\"Average Precision at 5: {metrics['Precision@5']:.17f}\")\n",
        "print(f\"Average Recall at 5: {metrics['Recall@5']:.17f}\")\n",
        "print(f\"Mean Average Precision at 5: {metrics['MAP@5']:.17f}\")\n",
        "\n",
        "print(f\"Average Precision at 10: {metrics['Precision@10']:.17f}\")\n",
        "print(f\"Average Recall at 10: {metrics['Recall@10']:.17f}\")\n",
        "print(f\"Mean Average Precision at 10: {metrics['MAP@10']:.17f}\")\n"
      ]
    },
    {
      "cell_type": "markdown",
      "source": [
        "Pada bagian kode ini, Anda menampilkan hasil evaluasi dari model rekomendasi yang dihitung sebelumnya menggunakan metrik Precision@K, Recall@K, dan Mean Average Precision (MAP)@K untuk nilai K = 5 dan K = 10.\n",
        "\n",
        "Precision@K menunjukkan proporsi item yang relevan di antara K rekomendasi teratas yang diberikan kepada pengguna.\n",
        "Recall@K mengukur proporsi item relevan yang berhasil ditemukan dalam K rekomendasi teratas dibandingkan dengan total item relevan yang tersedia untuk pengguna.\n",
        "MAP@K adalah rata-rata dari precision pada setiap posisi dalam daftar rekomendasi, memberikan gambaran tentang kualitas posisi rekomendasi tersebut.\n",
        "Kode ini akan mencetak hasil evaluasi untuk kedua nilai K (5 dan 10) dengan format yang lebih presisi, hingga 17 angka desimal.\n",
        "\n",
        "Hasil evaluasi menunjukkan bahwa model rekomendasi memiliki **Average Precision@5** sebesar **0.0349** dan **Average Recall@5** sebesar **0.1409**, sementara **Mean Average Precision@5 (MAP@5)** tercatat sebesar **0.0754**. Untuk **Top-10**, nilai **Average Precision@10** adalah **0.0299**, **Average Recall@10** adalah **0.2413**, dan **MAP@10** adalah **0.0889**.\n",
        "\n",
        "Nilai-nilai ini menunjukkan bahwa model memiliki tingkat presisi yang relatif rendah, yang berarti hanya sebagian kecil dari rekomendasi yang benar-benar relevan dengan preferensi pengguna. Namun, nilai **Recall@10** yang lebih tinggi menunjukkan bahwa model mampu menemukan lebih banyak item relevan jika lebih banyak rekomendasi (10 item) dipertimbangkan. **MAP@K** yang lebih rendah menunjukkan bahwa meskipun model menemukan beberapa item yang relevan, posisi mereka dalam daftar rekomendasi mungkin tidak optimal."
      ],
      "metadata": {
        "id": "Vx4cBJRycgWE"
      }
    },
    {
      "cell_type": "markdown",
      "source": [
        "### 20. Visualization of Evaluation Metrics for Top-5 and Top-10 Recommendations"
      ],
      "metadata": {
        "id": "pRWy7BwaTJYV"
      }
    },
    {
      "cell_type": "code",
      "source": [
        "# Data evaluasi\n",
        "precision_at_5 = metrics['Precision@5']\n",
        "recall_at_5 = metrics['Recall@5']\n",
        "map_at_5 = metrics['MAP@5']\n",
        "\n",
        "precision_at_10 = metrics['Precision@10']\n",
        "recall_at_10 = metrics['Recall@10']\n",
        "map_at_10 = metrics['MAP@10']\n",
        "\n",
        "metrics_names = ['Precision@5', 'Recall@5', 'MAP@5', 'Precision@10', 'Recall@10', 'MAP@10']\n",
        "metrics_values = [precision_at_5, recall_at_5, map_at_5, precision_at_10, recall_at_10, map_at_10]\n",
        "\n",
        "# Warna yang ramah untuk orang buta warna\n",
        "colors = ['#0072B2', '#D55E00', '#009E73', '#CC79A7', '#56B4E9', '#E69F00']\n",
        "\n",
        "# Membuat diagram batang\n",
        "plt.figure(figsize=(10, 6))\n",
        "bars = plt.bar(metrics_names, metrics_values, color=colors)\n",
        "\n",
        "# Menambahkan nilai di atas batang\n",
        "for bar in bars:\n",
        "    yval = bar.get_height()\n",
        "    plt.text(bar.get_x() + bar.get_width()/2, yval, round(yval, 4), ha='center', va='bottom')\n",
        "\n",
        "# Memberikan judul dan label\n",
        "plt.title('Evaluation Metrics for Top-5 and Top-10 Recommendations', fontsize=14)\n",
        "plt.ylabel('Score', fontsize=12)\n",
        "plt.xlabel('Metrics', fontsize=12)\n",
        "plt.ylim(0, max(metrics_values) * 1.2)  # Menyesuaikan skala y-axis\n",
        "plt.xticks(rotation=45, ha='right', fontsize=10) # Rotasi label sumbu x\n",
        "plt.grid(axis='y', linestyle='--', alpha=0.7)\n",
        "plt.tight_layout() # Menyesuaikan tata letak agar label tidak tumpang tindih\n",
        "plt.show()"
      ],
      "metadata": {
        "colab": {
          "base_uri": "https://localhost:8080/",
          "height": 607
        },
        "id": "P_ytGrNjFnUr",
        "outputId": "026bb7df-6eb5-4292-f0c1-1e71ac1bca1c"
      },
      "execution_count": 27,
      "outputs": [
        {
          "output_type": "display_data",
          "data": {
            "text/plain": [
              "<Figure size 1000x600 with 1 Axes>"
            ],
            "image/png": "[encoded data removed]"
          },
          "metadata": {}
        }
      ]
    },
    {
      "cell_type": "markdown",
      "source": [
        "Kode di atas digunakan untuk memvisualisasikan hasil evaluasi model rekomendasi dengan membuat diagram batang yang menggambarkan kinerja model berdasarkan tiga metrik utama: **Precision@K**, **Recall@K**, dan **MAP@K** untuk **Top-5** dan **Top-10** rekomendasi. Data evaluasi, yang mencakup nilai-nilai metrik tersebut, dipersiapkan terlebih dahulu dalam dua daftar, yaitu nama metrik dan nilainya. Selanjutnya, diagram batang dibuat dengan menggunakan `plt.bar`, di mana setiap batang mewakili satu metrik, dengan warna yang berbeda untuk membedakan metrik-metrik tersebut. Nilai masing-masing metrik ditampilkan di atas batang untuk mempermudah pembacaan hasil. Diagram ini kemudian dilengkapi dengan judul dan label pada sumbu Y, dengan skala sumbu Y disesuaikan antara 0 dan 1 untuk memudahkan perbandingan antar metrik. Visualisasi ini memberikan gambaran yang jelas mengenai kinerja model dalam memberikan rekomendasi pada dua tingkat Top-5 dan Top-10, memungkinkan untuk analisis lebih lanjut dan potensi perbaikan model."
      ],
      "metadata": {
        "id": "rSCBGlfZJi0o"
      }
    }
  ],
  "metadata": {
    "colab": {
      "provenance": []
    },
    "kernelspec": {
      "display_name": "Python 3",
      "name": "python3"
    },
    "language_info": {
      "name": "python"
    }
  },
  "nbformat": 4,
  "nbformat_minor": 0
}