{
  "cells": [
    {
      "cell_type": "markdown",
      "metadata": {
        "id": "U0C7eydzXt9u"
      },
      "source": [
        "# **Recommendation System Project - Toba Tourism | Progress I**"
      ]
    },
    {
      "cell_type": "markdown",
      "metadata": {
        "id": "VaeZ1mskYguA"
      },
      "source": [
        "Group 06 :\n",
        "\n",
        "*   12S21016 - Kevin Unedo Samosir\n",
        "*   12S21023 - Bintang Situmorang\n",
        "*   12S21027 - Rebecca Sihombing\n",
        "\n"
      ]
    },
    {
      "cell_type": "markdown",
      "metadata": {
        "id": "JOyy7Dp5Yhue"
      },
      "source": [
        "## Collaborative Filtering - Model Pembanding | **Alternating Least Square (ALS)**"
      ]
    },
    {
      "cell_type": "markdown",
      "metadata": {
        "id": "qttfgmOWY5Rh"
      },
      "source": [
        "### 1. Import Dataset\n",
        "\n"
      ]
    },
    {
      "cell_type": "code",
      "execution_count": null,
      "metadata": {
        "colab": {
          "base_uri": "https://localhost:8080/",
          "height": 864
        },
        "id": "f4Zr8wDILN6W",
        "outputId": "f8e56a35-b0ba-49f3-d64c-f635624f7ff4"
      },
      "outputs": [
        {
          "output_type": "stream",
          "name": "stdout",
          "text": [
            "Requirement already satisfied: gdown in /usr/local/lib/python3.10/dist-packages (5.2.0)\n",
            "Requirement already satisfied: beautifulsoup4 in /usr/local/lib/python3.10/dist-packages (from gdown) (4.12.3)\n",
            "Requirement already satisfied: filelock in /usr/local/lib/python3.10/dist-packages (from gdown) (3.16.1)\n",
            "Requirement already satisfied: requests[socks] in /usr/local/lib/python3.10/dist-packages (from gdown) (2.32.3)\n",
            "Requirement already satisfied: tqdm in /usr/local/lib/python3.10/dist-packages (from gdown) (4.66.6)\n",
            "Requirement already satisfied: soupsieve>1.2 in /usr/local/lib/python3.10/dist-packages (from beautifulsoup4->gdown) (2.6)\n",
            "Requirement already satisfied: charset-normalizer<4,>=2 in /usr/local/lib/python3.10/dist-packages (from requests[socks]->gdown) (3.4.0)\n",
            "Requirement already satisfied: idna<4,>=2.5 in /usr/local/lib/python3.10/dist-packages (from requests[socks]->gdown) (3.10)\n",
            "Requirement already satisfied: urllib3<3,>=1.21.1 in /usr/local/lib/python3.10/dist-packages (from requests[socks]->gdown) (2.2.3)\n",
            "Requirement already satisfied: certifi>=2017.4.17 in /usr/local/lib/python3.10/dist-packages (from requests[socks]->gdown) (2024.8.30)\n",
            "Requirement already satisfied: PySocks!=1.5.7,>=1.5.6 in /usr/local/lib/python3.10/dist-packages (from requests[socks]->gdown) (1.7.1)\n",
            "Downloading...\n",
            "From: https://drive.google.com/uc?id=15IvPCBnM0d7EdV7_j5urms9cCwnSa9v7\n",
            "To: /content/Tempat-Wisata-Toba-Preprocessing.csv\n",
            "100% 8.99M/8.99M [00:00<00:00, 60.7MB/s]\n"
          ]
        },
        {
          "output_type": "execute_result",
          "data": {
            "text/plain": [
              "   Unnamed: 0.1  Unnamed: 0  \\\n",
              "0             0           0   \n",
              "1             1           1   \n",
              "2             2           2   \n",
              "3             3           3   \n",
              "4             4           4   \n",
              "\n",
              "                                             address  PlaceID  \\\n",
              "0  Jl. Sibola Hotang, Sibola Hotangsas, Kec. Bali...        0   \n",
              "1  Jl. Sibola Hotang, Sibola Hotangsas, Kec. Bali...        0   \n",
              "2  Jl. Sibola Hotang, Sibola Hotangsas, Kec. Bali...        0   \n",
              "3  Jl. Sibola Hotang, Sibola Hotangsas, Kec. Bali...        0   \n",
              "4  Jl. Sibola Hotang, Sibola Hotangsas, Kec. Bali...        0   \n",
              "\n",
              "          Nama_tempat_wisata       Category    ReviewerId  Rating  \\\n",
              "0  PASIR PUTIH LUMBAN BULBUL  Wisata Bahari  1.126030e+20     5.0   \n",
              "1  PASIR PUTIH LUMBAN BULBUL  Wisata Bahari  1.119090e+20     5.0   \n",
              "2  PASIR PUTIH LUMBAN BULBUL  Wisata Bahari  1.078860e+20     5.0   \n",
              "3  PASIR PUTIH LUMBAN BULBUL  Wisata Bahari  1.130720e+20     5.0   \n",
              "4  PASIR PUTIH LUMBAN BULBUL  Wisata Bahari  1.061730e+20     5.0   \n",
              "\n",
              "                         Reviews  \n",
              "0                            NaN  \n",
              "1                          bagus  \n",
              "2                            NaN  \n",
              "3             sangat menyenagkan  \n",
              "4  bebas foto dimana aja cuma 2k  "
            ],
            "text/html": [
              "\n",
              "  <div id=\"df-60b0286c-d3f0-42ae-8b84-a4e539c7641d\" class=\"colab-df-container\">\n",
              "    <div>\n",
              "<style scoped>\n",
              "    .dataframe tbody tr th:only-of-type {\n",
              "        vertical-align: middle;\n",
              "    }\n",
              "\n",
              "    .dataframe tbody tr th {\n",
              "        vertical-align: top;\n",
              "    }\n",
              "\n",
              "    .dataframe thead th {\n",
              "        text-align: right;\n",
              "    }\n",
              "</style>\n",
              "<table border=\"1\" class=\"dataframe\">\n",
              "  <thead>\n",
              "    <tr style=\"text-align: right;\">\n",
              "      <th></th>\n",
              "      <th>Unnamed: 0.1</th>\n",
              "      <th>Unnamed: 0</th>\n",
              "      <th>address</th>\n",
              "      <th>PlaceID</th>\n",
              "      <th>Nama_tempat_wisata</th>\n",
              "      <th>Category</th>\n",
              "      <th>ReviewerId</th>\n",
              "      <th>Rating</th>\n",
              "      <th>Reviews</th>\n",
              "    </tr>\n",
              "  </thead>\n",
              "  <tbody>\n",
              "    <tr>\n",
              "      <th>0</th>\n",
              "      <td>0</td>\n",
              "      <td>0</td>\n",
              "      <td>Jl. Sibola Hotang, Sibola Hotangsas, Kec. Bali...</td>\n",
              "      <td>0</td>\n",
              "      <td>PASIR PUTIH LUMBAN BULBUL</td>\n",
              "      <td>Wisata Bahari</td>\n",
              "      <td>1.126030e+20</td>\n",
              "      <td>5.0</td>\n",
              "      <td>NaN</td>\n",
              "    </tr>\n",
              "    <tr>\n",
              "      <th>1</th>\n",
              "      <td>1</td>\n",
              "      <td>1</td>\n",
              "      <td>Jl. Sibola Hotang, Sibola Hotangsas, Kec. Bali...</td>\n",
              "      <td>0</td>\n",
              "      <td>PASIR PUTIH LUMBAN BULBUL</td>\n",
              "      <td>Wisata Bahari</td>\n",
              "      <td>1.119090e+20</td>\n",
              "      <td>5.0</td>\n",
              "      <td>bagus</td>\n",
              "    </tr>\n",
              "    <tr>\n",
              "      <th>2</th>\n",
              "      <td>2</td>\n",
              "      <td>2</td>\n",
              "      <td>Jl. Sibola Hotang, Sibola Hotangsas, Kec. Bali...</td>\n",
              "      <td>0</td>\n",
              "      <td>PASIR PUTIH LUMBAN BULBUL</td>\n",
              "      <td>Wisata Bahari</td>\n",
              "      <td>1.078860e+20</td>\n",
              "      <td>5.0</td>\n",
              "      <td>NaN</td>\n",
              "    </tr>\n",
              "    <tr>\n",
              "      <th>3</th>\n",
              "      <td>3</td>\n",
              "      <td>3</td>\n",
              "      <td>Jl. Sibola Hotang, Sibola Hotangsas, Kec. Bali...</td>\n",
              "      <td>0</td>\n",
              "      <td>PASIR PUTIH LUMBAN BULBUL</td>\n",
              "      <td>Wisata Bahari</td>\n",
              "      <td>1.130720e+20</td>\n",
              "      <td>5.0</td>\n",
              "      <td>sangat menyenagkan</td>\n",
              "    </tr>\n",
              "    <tr>\n",
              "      <th>4</th>\n",
              "      <td>4</td>\n",
              "      <td>4</td>\n",
              "      <td>Jl. Sibola Hotang, Sibola Hotangsas, Kec. Bali...</td>\n",
              "      <td>0</td>\n",
              "      <td>PASIR PUTIH LUMBAN BULBUL</td>\n",
              "      <td>Wisata Bahari</td>\n",
              "      <td>1.061730e+20</td>\n",
              "      <td>5.0</td>\n",
              "      <td>bebas foto dimana aja cuma 2k</td>\n",
              "    </tr>\n",
              "  </tbody>\n",
              "</table>\n",
              "</div>\n",
              "    <div class=\"colab-df-buttons\">\n",
              "\n",
              "  <div class=\"colab-df-container\">\n",
              "    <button class=\"colab-df-convert\" onclick=\"convertToInteractive('df-60b0286c-d3f0-42ae-8b84-a4e539c7641d')\"\n",
              "            title=\"Convert this dataframe to an interactive table.\"\n",
              "            style=\"display:none;\">\n",
              "\n",
              "  <svg xmlns=\"http://www.w3.org/2000/svg\" height=\"24px\" viewBox=\"0 -960 960 960\">\n",
              "    <path d=\"M120-120v-720h720v720H120Zm60-500h600v-160H180v160Zm220 220h160v-160H400v160Zm0 220h160v-160H400v160ZM180-400h160v-160H180v160Zm440 0h160v-160H620v160ZM180-180h160v-160H180v160Zm440 0h160v-160H620v160Z\"/>\n",
              "  </svg>\n",
              "    </button>\n",
              "\n",
              "  <style>\n",
              "    .colab-df-container {\n",
              "      display:flex;\n",
              "      gap: 12px;\n",
              "    }\n",
              "\n",
              "    .colab-df-convert {\n",
              "      background-color: #E8F0FE;\n",
              "      border: none;\n",
              "      border-radius: 50%;\n",
              "      cursor: pointer;\n",
              "      display: none;\n",
              "      fill: #1967D2;\n",
              "      height: 32px;\n",
              "      padding: 0 0 0 0;\n",
              "      width: 32px;\n",
              "    }\n",
              "\n",
              "    .colab-df-convert:hover {\n",
              "      background-color: #E2EBFA;\n",
              "      box-shadow: 0px 1px 2px rgba(60, 64, 67, 0.3), 0px 1px 3px 1px rgba(60, 64, 67, 0.15);\n",
              "      fill: #174EA6;\n",
              "    }\n",
              "\n",
              "    .colab-df-buttons div {\n",
              "      margin-bottom: 4px;\n",
              "    }\n",
              "\n",
              "    [theme=dark] .colab-df-convert {\n",
              "      background-color: #3B4455;\n",
              "      fill: #D2E3FC;\n",
              "    }\n",
              "\n",
              "    [theme=dark] .colab-df-convert:hover {\n",
              "      background-color: #434B5C;\n",
              "      box-shadow: 0px 1px 3px 1px rgba(0, 0, 0, 0.15);\n",
              "      filter: drop-shadow(0px 1px 2px rgba(0, 0, 0, 0.3));\n",
              "      fill: #FFFFFF;\n",
              "    }\n",
              "  </style>\n",
              "\n",
              "    <script>\n",
              "      const buttonEl =\n",
              "        document.querySelector('#df-60b0286c-d3f0-42ae-8b84-a4e539c7641d button.colab-df-convert');\n",
              "      buttonEl.style.display =\n",
              "        google.colab.kernel.accessAllowed ? 'block' : 'none';\n",
              "\n",
              "      async function convertToInteractive(key) {\n",
              "        const element = document.querySelector('#df-60b0286c-d3f0-42ae-8b84-a4e539c7641d');\n",
              "        const dataTable =\n",
              "          await google.colab.kernel.invokeFunction('convertToInteractive',\n",
              "                                                    [key], {});\n",
              "        if (!dataTable) return;\n",
              "\n",
              "        const docLinkHtml = 'Like what you see? Visit the ' +\n",
              "          '<a target=\"_blank\" href=https://colab.research.google.com/notebooks/data_table.ipynb>data table notebook</a>'\n",
              "          + ' to learn more about interactive tables.';\n",
              "        element.innerHTML = '';\n",
              "        dataTable['output_type'] = 'display_data';\n",
              "        await google.colab.output.renderOutput(dataTable, element);\n",
              "        const docLink = document.createElement('div');\n",
              "        docLink.innerHTML = docLinkHtml;\n",
              "        element.appendChild(docLink);\n",
              "      }\n",
              "    </script>\n",
              "  </div>\n",
              "\n",
              "\n",
              "<div id=\"df-12a2271f-2a63-44ca-abcb-7e5f64eaed21\">\n",
              "  <button class=\"colab-df-quickchart\" onclick=\"quickchart('df-12a2271f-2a63-44ca-abcb-7e5f64eaed21')\"\n",
              "            title=\"Suggest charts\"\n",
              "            style=\"display:none;\">\n",
              "\n",
              "<svg xmlns=\"http://www.w3.org/2000/svg\" height=\"24px\"viewBox=\"0 0 24 24\"\n",
              "     width=\"24px\">\n",
              "    <g>\n",
              "        <path d=\"M19 3H5c-1.1 0-2 .9-2 2v14c0 1.1.9 2 2 2h14c1.1 0 2-.9 2-2V5c0-1.1-.9-2-2-2zM9 17H7v-7h2v7zm4 0h-2V7h2v10zm4 0h-2v-4h2v4z\"/>\n",
              "    </g>\n",
              "</svg>\n",
              "  </button>\n",
              "\n",
              "<style>\n",
              "  .colab-df-quickchart {\n",
              "      --bg-color: #E8F0FE;\n",
              "      --fill-color: #1967D2;\n",
              "      --hover-bg-color: #E2EBFA;\n",
              "      --hover-fill-color: #174EA6;\n",
              "      --disabled-fill-color: #AAA;\n",
              "      --disabled-bg-color: #DDD;\n",
              "  }\n",
              "\n",
              "  [theme=dark] .colab-df-quickchart {\n",
              "      --bg-color: #3B4455;\n",
              "      --fill-color: #D2E3FC;\n",
              "      --hover-bg-color: #434B5C;\n",
              "      --hover-fill-color: #FFFFFF;\n",
              "      --disabled-bg-color: #3B4455;\n",
              "      --disabled-fill-color: #666;\n",
              "  }\n",
              "\n",
              "  .colab-df-quickchart {\n",
              "    background-color: var(--bg-color);\n",
              "    border: none;\n",
              "    border-radius: 50%;\n",
              "    cursor: pointer;\n",
              "    display: none;\n",
              "    fill: var(--fill-color);\n",
              "    height: 32px;\n",
              "    padding: 0;\n",
              "    width: 32px;\n",
              "  }\n",
              "\n",
              "  .colab-df-quickchart:hover {\n",
              "    background-color: var(--hover-bg-color);\n",
              "    box-shadow: 0 1px 2px rgba(60, 64, 67, 0.3), 0 1px 3px 1px rgba(60, 64, 67, 0.15);\n",
              "    fill: var(--button-hover-fill-color);\n",
              "  }\n",
              "\n",
              "  .colab-df-quickchart-complete:disabled,\n",
              "  .colab-df-quickchart-complete:disabled:hover {\n",
              "    background-color: var(--disabled-bg-color);\n",
              "    fill: var(--disabled-fill-color);\n",
              "    box-shadow: none;\n",
              "  }\n",
              "\n",
              "  .colab-df-spinner {\n",
              "    border: 2px solid var(--fill-color);\n",
              "    border-color: transparent;\n",
              "    border-bottom-color: var(--fill-color);\n",
              "    animation:\n",
              "      spin 1s steps(1) infinite;\n",
              "  }\n",
              "\n",
              "  @keyframes spin {\n",
              "    0% {\n",
              "      border-color: transparent;\n",
              "      border-bottom-color: var(--fill-color);\n",
              "      border-left-color: var(--fill-color);\n",
              "    }\n",
              "    20% {\n",
              "      border-color: transparent;\n",
              "      border-left-color: var(--fill-color);\n",
              "      border-top-color: var(--fill-color);\n",
              "    }\n",
              "    30% {\n",
              "      border-color: transparent;\n",
              "      border-left-color: var(--fill-color);\n",
              "      border-top-color: var(--fill-color);\n",
              "      border-right-color: var(--fill-color);\n",
              "    }\n",
              "    40% {\n",
              "      border-color: transparent;\n",
              "      border-right-color: var(--fill-color);\n",
              "      border-top-color: var(--fill-color);\n",
              "    }\n",
              "    60% {\n",
              "      border-color: transparent;\n",
              "      border-right-color: var(--fill-color);\n",
              "    }\n",
              "    80% {\n",
              "      border-color: transparent;\n",
              "      border-right-color: var(--fill-color);\n",
              "      border-bottom-color: var(--fill-color);\n",
              "    }\n",
              "    90% {\n",
              "      border-color: transparent;\n",
              "      border-bottom-color: var(--fill-color);\n",
              "    }\n",
              "  }\n",
              "</style>\n",
              "\n",
              "  <script>\n",
              "    async function quickchart(key) {\n",
              "      const quickchartButtonEl =\n",
              "        document.querySelector('#' + key + ' button');\n",
              "      quickchartButtonEl.disabled = true;  // To prevent multiple clicks.\n",
              "      quickchartButtonEl.classList.add('colab-df-spinner');\n",
              "      try {\n",
              "        const charts = await google.colab.kernel.invokeFunction(\n",
              "            'suggestCharts', [key], {});\n",
              "      } catch (error) {\n",
              "        console.error('Error during call to suggestCharts:', error);\n",
              "      }\n",
              "      quickchartButtonEl.classList.remove('colab-df-spinner');\n",
              "      quickchartButtonEl.classList.add('colab-df-quickchart-complete');\n",
              "    }\n",
              "    (() => {\n",
              "      let quickchartButtonEl =\n",
              "        document.querySelector('#df-12a2271f-2a63-44ca-abcb-7e5f64eaed21 button');\n",
              "      quickchartButtonEl.style.display =\n",
              "        google.colab.kernel.accessAllowed ? 'block' : 'none';\n",
              "    })();\n",
              "  </script>\n",
              "</div>\n",
              "\n",
              "    </div>\n",
              "  </div>\n"
            ],
            "application/vnd.google.colaboratory.intrinsic+json": {
              "type": "dataframe",
              "variable_name": "data",
              "summary": "{\n  \"name\": \"data\",\n  \"rows\": 43226,\n  \"fields\": [\n    {\n      \"column\": \"Unnamed: 0.1\",\n      \"properties\": {\n        \"dtype\": \"number\",\n        \"std\": 12478,\n        \"min\": 0,\n        \"max\": 43225,\n        \"num_unique_values\": 43226,\n        \"samples\": [\n          465,\n          1278,\n          15320\n        ],\n        \"semantic_type\": \"\",\n        \"description\": \"\"\n      }\n    },\n    {\n      \"column\": \"Unnamed: 0\",\n      \"properties\": {\n        \"dtype\": \"number\",\n        \"std\": 12478,\n        \"min\": 0,\n        \"max\": 43225,\n        \"num_unique_values\": 43226,\n        \"samples\": [\n          465,\n          1278,\n          15320\n        ],\n        \"semantic_type\": \"\",\n        \"description\": \"\"\n      }\n    },\n    {\n      \"column\": \"address\",\n      \"properties\": {\n        \"dtype\": \"category\",\n        \"num_unique_values\": 100,\n        \"samples\": [\n          \"WG69+M82, Tongging, Kec. Merek, Kabupaten Karo, Sumatera Utara 22173, Indonesia\",\n          \"83M7+RJ4, Napitupulu Bagasan, Kec. Balige, Toba, Sumatera Utara, Indonesia\",\n          \"Taman Eden, Ps. Lumban Julu, Kec. Lumban Julu, Toba, Sumatera Utara 22386, Indonesia\"\n        ],\n        \"semantic_type\": \"\",\n        \"description\": \"\"\n      }\n    },\n    {\n      \"column\": \"PlaceID\",\n      \"properties\": {\n        \"dtype\": \"number\",\n        \"std\": 28,\n        \"min\": 0,\n        \"max\": 101,\n        \"num_unique_values\": 102,\n        \"samples\": [\n          30,\n          67,\n          62\n        ],\n        \"semantic_type\": \"\",\n        \"description\": \"\"\n      }\n    },\n    {\n      \"column\": \"Nama_tempat_wisata\",\n      \"properties\": {\n        \"dtype\": \"category\",\n        \"num_unique_values\": 102,\n        \"samples\": [\n          \"Panatapan Tara Bunga\",\n          \"Pantai Indah Situngkir (PIS)\",\n          \"Pasar Tomok\"\n        ],\n        \"semantic_type\": \"\",\n        \"description\": \"\"\n      }\n    },\n    {\n      \"column\": \"Category\",\n      \"properties\": {\n        \"dtype\": \"category\",\n        \"num_unique_values\": 8,\n        \"samples\": [\n          \"Wisata Rohani\",\n          \"Wisata Sejarah\",\n          \"Wisata Bahari\"\n        ],\n        \"semantic_type\": \"\",\n        \"description\": \"\"\n      }\n    },\n    {\n      \"column\": \"ReviewerId\",\n      \"properties\": {\n        \"dtype\": \"number\",\n        \"std\": 5.343909672784782e+18,\n        \"min\": 1.00001e+20,\n        \"max\": 1.18446e+20,\n        \"num_unique_values\": 15011,\n        \"samples\": [\n          1.07312e+20,\n          1.03124e+20,\n          1.03245e+20\n        ],\n        \"semantic_type\": \"\",\n        \"description\": \"\"\n      }\n    },\n    {\n      \"column\": \"Rating\",\n      \"properties\": {\n        \"dtype\": \"number\",\n        \"std\": 0.9277599389462311,\n        \"min\": 1.0,\n        \"max\": 5.0,\n        \"num_unique_values\": 5,\n        \"samples\": [\n          2.0,\n          1.0,\n          3.0\n        ],\n        \"semantic_type\": \"\",\n        \"description\": \"\"\n      }\n    },\n    {\n      \"column\": \"Reviews\",\n      \"properties\": {\n        \"dtype\": \"category\",\n        \"num_unique_values\": 17992,\n        \"samples\": [\n          \"tidak ramah disabilitas tidak ada fasilitas pengguna kursi roda tidak ramah anak track berbatu cukup berbahaya\\narea parkir tidak bagus dengan biaya parkir rp10rb sangat tidak masuk akal\\nuntuk spot foto lumayan tidak lebih istimewa dibanding tempat lain di sekitar danau toba\",\n          \"keren kali buat nembak si polan cuy\\ud83d\\ude01\",\n          \"diterjemahkan oleh google bagus\\n\\nasli\\nnice\"\n        ],\n        \"semantic_type\": \"\",\n        \"description\": \"\"\n      }\n    }\n  ]\n}"
            }
          },
          "metadata": {},
          "execution_count": 1
        }
      ],
      "source": [
        "!pip install gdown\n",
        "!gdown 15IvPCBnM0d7EdV7_j5urms9cCwnSa9v7\n",
        "\n",
        "# Load dataset\n",
        "import pandas as pd\n",
        "file_path = 'Tempat-Wisata-Toba-Preprocessing.csv'\n",
        "data = pd.read_csv(file_path)\n",
        "data.head()"
      ]
    },
    {
      "cell_type": "code",
      "execution_count": null,
      "metadata": {
        "colab": {
          "base_uri": "https://localhost:8080/"
        },
        "id": "ahUtkkggDzU5",
        "outputId": "f05abc6a-ee74-4f31-92a9-e9f9810d3536"
      },
      "outputs": [
        {
          "output_type": "stream",
          "name": "stdout",
          "text": [
            "(43226, 9)\n"
          ]
        }
      ],
      "source": [
        "print(data.shape)"
      ]
    },
    {
      "cell_type": "markdown",
      "metadata": {
        "id": "nTIe8GXBY86H"
      },
      "source": [
        "Kode diatas digunakan untuk mengunduh dan memuat dataset ke dalam lingkungan Python menggunakan Pandas. Pada langkah pertama, library gdown diinstal untuk memungkinkan pengunduhan file dari Google Drive. Langkah kedua menggunakan gdown untuk mengunduh file dataset dari tautan tertentu yang diidentifikasi oleh ID file Google Drive. Kemudian, file yang diunduh yaitu dengan nama \"Tempat-Wisata-Toba-Preprocessing.csv\", dimuat ke dalam Pandas DataFrame menggunakan pd.read_csv() dan ditampilkan beberapa baris pertamanya menggunakan data.head() serta ditampilkan luas tabel untuk mengetahui jumlah kolom dan barisnya menggunakan data.shape()"
      ]
    },
    {
      "cell_type": "markdown",
      "metadata": {
        "id": "vC6hFFqAZECS"
      },
      "source": [
        "### 2. Preprocessing Dataset\n",
        "\n"
      ]
    },
    {
      "cell_type": "code",
      "execution_count": null,
      "metadata": {
        "colab": {
          "base_uri": "https://localhost:8080/",
          "height": 644
        },
        "id": "TvyDxMdho5ir",
        "outputId": "d4e7c06e-0b0b-4028-8fac-5a2ec2281272"
      },
      "outputs": [
        {
          "output_type": "stream",
          "name": "stdout",
          "text": [
            "Missing values in each column:\n",
            "Reviews       21060\n",
            "ReviewerId        1\n",
            "Rating            1\n",
            "dtype: int64\n"
          ]
        },
        {
          "output_type": "execute_result",
          "data": {
            "text/plain": [
              "                                             address  PlaceID  \\\n",
              "0  Jl. Sibola Hotang, Sibola Hotangsas, Kec. Bali...       51   \n",
              "1  Jl. Sibola Hotang, Sibola Hotangsas, Kec. Bali...       51   \n",
              "2  Jl. Sibola Hotang, Sibola Hotangsas, Kec. Bali...       51   \n",
              "3  Jl. Sibola Hotang, Sibola Hotangsas, Kec. Bali...       51   \n",
              "4  Jl. Sibola Hotang, Sibola Hotangsas, Kec. Bali...       51   \n",
              "\n",
              "          Nama_tempat_wisata  Category  ReviewerId  Rating  \\\n",
              "0  PASIR PUTIH LUMBAN BULBUL         1       10261     5.0   \n",
              "1  PASIR PUTIH LUMBAN BULBUL         1        9698     5.0   \n",
              "2  PASIR PUTIH LUMBAN BULBUL         1        6433     5.0   \n",
              "3  PASIR PUTIH LUMBAN BULBUL         1       10643     5.0   \n",
              "4  PASIR PUTIH LUMBAN BULBUL         1        5078     5.0   \n",
              "\n",
              "                         Reviews  \n",
              "0                                 \n",
              "1                          bagus  \n",
              "2                                 \n",
              "3             sangat menyenagkan  \n",
              "4  bebas foto dimana aja cuma 2k  "
            ],
            "text/html": [
              "\n",
              "  <div id=\"df-a4b6602f-4cfc-43f9-bff3-1426fcd91733\" class=\"colab-df-container\">\n",
              "    <div>\n",
              "<style scoped>\n",
              "    .dataframe tbody tr th:only-of-type {\n",
              "        vertical-align: middle;\n",
              "    }\n",
              "\n",
              "    .dataframe tbody tr th {\n",
              "        vertical-align: top;\n",
              "    }\n",
              "\n",
              "    .dataframe thead th {\n",
              "        text-align: right;\n",
              "    }\n",
              "</style>\n",
              "<table border=\"1\" class=\"dataframe\">\n",
              "  <thead>\n",
              "    <tr style=\"text-align: right;\">\n",
              "      <th></th>\n",
              "      <th>address</th>\n",
              "      <th>PlaceID</th>\n",
              "      <th>Nama_tempat_wisata</th>\n",
              "      <th>Category</th>\n",
              "      <th>ReviewerId</th>\n",
              "      <th>Rating</th>\n",
              "      <th>Reviews</th>\n",
              "    </tr>\n",
              "  </thead>\n",
              "  <tbody>\n",
              "    <tr>\n",
              "      <th>0</th>\n",
              "      <td>Jl. Sibola Hotang, Sibola Hotangsas, Kec. Bali...</td>\n",
              "      <td>51</td>\n",
              "      <td>PASIR PUTIH LUMBAN BULBUL</td>\n",
              "      <td>1</td>\n",
              "      <td>10261</td>\n",
              "      <td>5.0</td>\n",
              "      <td></td>\n",
              "    </tr>\n",
              "    <tr>\n",
              "      <th>1</th>\n",
              "      <td>Jl. Sibola Hotang, Sibola Hotangsas, Kec. Bali...</td>\n",
              "      <td>51</td>\n",
              "      <td>PASIR PUTIH LUMBAN BULBUL</td>\n",
              "      <td>1</td>\n",
              "      <td>9698</td>\n",
              "      <td>5.0</td>\n",
              "      <td>bagus</td>\n",
              "    </tr>\n",
              "    <tr>\n",
              "      <th>2</th>\n",
              "      <td>Jl. Sibola Hotang, Sibola Hotangsas, Kec. Bali...</td>\n",
              "      <td>51</td>\n",
              "      <td>PASIR PUTIH LUMBAN BULBUL</td>\n",
              "      <td>1</td>\n",
              "      <td>6433</td>\n",
              "      <td>5.0</td>\n",
              "      <td></td>\n",
              "    </tr>\n",
              "    <tr>\n",
              "      <th>3</th>\n",
              "      <td>Jl. Sibola Hotang, Sibola Hotangsas, Kec. Bali...</td>\n",
              "      <td>51</td>\n",
              "      <td>PASIR PUTIH LUMBAN BULBUL</td>\n",
              "      <td>1</td>\n",
              "      <td>10643</td>\n",
              "      <td>5.0</td>\n",
              "      <td>sangat menyenagkan</td>\n",
              "    </tr>\n",
              "    <tr>\n",
              "      <th>4</th>\n",
              "      <td>Jl. Sibola Hotang, Sibola Hotangsas, Kec. Bali...</td>\n",
              "      <td>51</td>\n",
              "      <td>PASIR PUTIH LUMBAN BULBUL</td>\n",
              "      <td>1</td>\n",
              "      <td>5078</td>\n",
              "      <td>5.0</td>\n",
              "      <td>bebas foto dimana aja cuma 2k</td>\n",
              "    </tr>\n",
              "  </tbody>\n",
              "</table>\n",
              "</div>\n",
              "    <div class=\"colab-df-buttons\">\n",
              "\n",
              "  <div class=\"colab-df-container\">\n",
              "    <button class=\"colab-df-convert\" onclick=\"convertToInteractive('df-a4b6602f-4cfc-43f9-bff3-1426fcd91733')\"\n",
              "            title=\"Convert this dataframe to an interactive table.\"\n",
              "            style=\"display:none;\">\n",
              "\n",
              "  <svg xmlns=\"http://www.w3.org/2000/svg\" height=\"24px\" viewBox=\"0 -960 960 960\">\n",
              "    <path d=\"M120-120v-720h720v720H120Zm60-500h600v-160H180v160Zm220 220h160v-160H400v160Zm0 220h160v-160H400v160ZM180-400h160v-160H180v160Zm440 0h160v-160H620v160ZM180-180h160v-160H180v160Zm440 0h160v-160H620v160Z\"/>\n",
              "  </svg>\n",
              "    </button>\n",
              "\n",
              "  <style>\n",
              "    .colab-df-container {\n",
              "      display:flex;\n",
              "      gap: 12px;\n",
              "    }\n",
              "\n",
              "    .colab-df-convert {\n",
              "      background-color: #E8F0FE;\n",
              "      border: none;\n",
              "      border-radius: 50%;\n",
              "      cursor: pointer;\n",
              "      display: none;\n",
              "      fill: #1967D2;\n",
              "      height: 32px;\n",
              "      padding: 0 0 0 0;\n",
              "      width: 32px;\n",
              "    }\n",
              "\n",
              "    .colab-df-convert:hover {\n",
              "      background-color: #E2EBFA;\n",
              "      box-shadow: 0px 1px 2px rgba(60, 64, 67, 0.3), 0px 1px 3px 1px rgba(60, 64, 67, 0.15);\n",
              "      fill: #174EA6;\n",
              "    }\n",
              "\n",
              "    .colab-df-buttons div {\n",
              "      margin-bottom: 4px;\n",
              "    }\n",
              "\n",
              "    [theme=dark] .colab-df-convert {\n",
              "      background-color: #3B4455;\n",
              "      fill: #D2E3FC;\n",
              "    }\n",
              "\n",
              "    [theme=dark] .colab-df-convert:hover {\n",
              "      background-color: #434B5C;\n",
              "      box-shadow: 0px 1px 3px 1px rgba(0, 0, 0, 0.15);\n",
              "      filter: drop-shadow(0px 1px 2px rgba(0, 0, 0, 0.3));\n",
              "      fill: #FFFFFF;\n",
              "    }\n",
              "  </style>\n",
              "\n",
              "    <script>\n",
              "      const buttonEl =\n",
              "        document.querySelector('#df-a4b6602f-4cfc-43f9-bff3-1426fcd91733 button.colab-df-convert');\n",
              "      buttonEl.style.display =\n",
              "        google.colab.kernel.accessAllowed ? 'block' : 'none';\n",
              "\n",
              "      async function convertToInteractive(key) {\n",
              "        const element = document.querySelector('#df-a4b6602f-4cfc-43f9-bff3-1426fcd91733');\n",
              "        const dataTable =\n",
              "          await google.colab.kernel.invokeFunction('convertToInteractive',\n",
              "                                                    [key], {});\n",
              "        if (!dataTable) return;\n",
              "\n",
              "        const docLinkHtml = 'Like what you see? Visit the ' +\n",
              "          '<a target=\"_blank\" href=https://colab.research.google.com/notebooks/data_table.ipynb>data table notebook</a>'\n",
              "          + ' to learn more about interactive tables.';\n",
              "        element.innerHTML = '';\n",
              "        dataTable['output_type'] = 'display_data';\n",
              "        await google.colab.output.renderOutput(dataTable, element);\n",
              "        const docLink = document.createElement('div');\n",
              "        docLink.innerHTML = docLinkHtml;\n",
              "        element.appendChild(docLink);\n",
              "      }\n",
              "    </script>\n",
              "  </div>\n",
              "\n",
              "\n",
              "<div id=\"df-d4ac57fb-c778-4e5c-ae2d-83a57d14fcc6\">\n",
              "  <button class=\"colab-df-quickchart\" onclick=\"quickchart('df-d4ac57fb-c778-4e5c-ae2d-83a57d14fcc6')\"\n",
              "            title=\"Suggest charts\"\n",
              "            style=\"display:none;\">\n",
              "\n",
              "<svg xmlns=\"http://www.w3.org/2000/svg\" height=\"24px\"viewBox=\"0 0 24 24\"\n",
              "     width=\"24px\">\n",
              "    <g>\n",
              "        <path d=\"M19 3H5c-1.1 0-2 .9-2 2v14c0 1.1.9 2 2 2h14c1.1 0 2-.9 2-2V5c0-1.1-.9-2-2-2zM9 17H7v-7h2v7zm4 0h-2V7h2v10zm4 0h-2v-4h2v4z\"/>\n",
              "    </g>\n",
              "</svg>\n",
              "  </button>\n",
              "\n",
              "<style>\n",
              "  .colab-df-quickchart {\n",
              "      --bg-color: #E8F0FE;\n",
              "      --fill-color: #1967D2;\n",
              "      --hover-bg-color: #E2EBFA;\n",
              "      --hover-fill-color: #174EA6;\n",
              "      --disabled-fill-color: #AAA;\n",
              "      --disabled-bg-color: #DDD;\n",
              "  }\n",
              "\n",
              "  [theme=dark] .colab-df-quickchart {\n",
              "      --bg-color: #3B4455;\n",
              "      --fill-color: #D2E3FC;\n",
              "      --hover-bg-color: #434B5C;\n",
              "      --hover-fill-color: #FFFFFF;\n",
              "      --disabled-bg-color: #3B4455;\n",
              "      --disabled-fill-color: #666;\n",
              "  }\n",
              "\n",
              "  .colab-df-quickchart {\n",
              "    background-color: var(--bg-color);\n",
              "    border: none;\n",
              "    border-radius: 50%;\n",
              "    cursor: pointer;\n",
              "    display: none;\n",
              "    fill: var(--fill-color);\n",
              "    height: 32px;\n",
              "    padding: 0;\n",
              "    width: 32px;\n",
              "  }\n",
              "\n",
              "  .colab-df-quickchart:hover {\n",
              "    background-color: var(--hover-bg-color);\n",
              "    box-shadow: 0 1px 2px rgba(60, 64, 67, 0.3), 0 1px 3px 1px rgba(60, 64, 67, 0.15);\n",
              "    fill: var(--button-hover-fill-color);\n",
              "  }\n",
              "\n",
              "  .colab-df-quickchart-complete:disabled,\n",
              "  .colab-df-quickchart-complete:disabled:hover {\n",
              "    background-color: var(--disabled-bg-color);\n",
              "    fill: var(--disabled-fill-color);\n",
              "    box-shadow: none;\n",
              "  }\n",
              "\n",
              "  .colab-df-spinner {\n",
              "    border: 2px solid var(--fill-color);\n",
              "    border-color: transparent;\n",
              "    border-bottom-color: var(--fill-color);\n",
              "    animation:\n",
              "      spin 1s steps(1) infinite;\n",
              "  }\n",
              "\n",
              "  @keyframes spin {\n",
              "    0% {\n",
              "      border-color: transparent;\n",
              "      border-bottom-color: var(--fill-color);\n",
              "      border-left-color: var(--fill-color);\n",
              "    }\n",
              "    20% {\n",
              "      border-color: transparent;\n",
              "      border-left-color: var(--fill-color);\n",
              "      border-top-color: var(--fill-color);\n",
              "    }\n",
              "    30% {\n",
              "      border-color: transparent;\n",
              "      border-left-color: var(--fill-color);\n",
              "      border-top-color: var(--fill-color);\n",
              "      border-right-color: var(--fill-color);\n",
              "    }\n",
              "    40% {\n",
              "      border-color: transparent;\n",
              "      border-right-color: var(--fill-color);\n",
              "      border-top-color: var(--fill-color);\n",
              "    }\n",
              "    60% {\n",
              "      border-color: transparent;\n",
              "      border-right-color: var(--fill-color);\n",
              "    }\n",
              "    80% {\n",
              "      border-color: transparent;\n",
              "      border-right-color: var(--fill-color);\n",
              "      border-bottom-color: var(--fill-color);\n",
              "    }\n",
              "    90% {\n",
              "      border-color: transparent;\n",
              "      border-bottom-color: var(--fill-color);\n",
              "    }\n",
              "  }\n",
              "</style>\n",
              "\n",
              "  <script>\n",
              "    async function quickchart(key) {\n",
              "      const quickchartButtonEl =\n",
              "        document.querySelector('#' + key + ' button');\n",
              "      quickchartButtonEl.disabled = true;  // To prevent multiple clicks.\n",
              "      quickchartButtonEl.classList.add('colab-df-spinner');\n",
              "      try {\n",
              "        const charts = await google.colab.kernel.invokeFunction(\n",
              "            'suggestCharts', [key], {});\n",
              "      } catch (error) {\n",
              "        console.error('Error during call to suggestCharts:', error);\n",
              "      }\n",
              "      quickchartButtonEl.classList.remove('colab-df-spinner');\n",
              "      quickchartButtonEl.classList.add('colab-df-quickchart-complete');\n",
              "    }\n",
              "    (() => {\n",
              "      let quickchartButtonEl =\n",
              "        document.querySelector('#df-d4ac57fb-c778-4e5c-ae2d-83a57d14fcc6 button');\n",
              "      quickchartButtonEl.style.display =\n",
              "        google.colab.kernel.accessAllowed ? 'block' : 'none';\n",
              "    })();\n",
              "  </script>\n",
              "</div>\n",
              "\n",
              "    </div>\n",
              "  </div>\n"
            ],
            "application/vnd.google.colaboratory.intrinsic+json": {
              "type": "dataframe",
              "variable_name": "data",
              "summary": "{\n  \"name\": \"data\",\n  \"rows\": 43226,\n  \"fields\": [\n    {\n      \"column\": \"address\",\n      \"properties\": {\n        \"dtype\": \"category\",\n        \"num_unique_values\": 100,\n        \"samples\": [\n          \"WG69+M82, Tongging, Kec. Merek, Kabupaten Karo, Sumatera Utara 22173, Indonesia\",\n          \"83M7+RJ4, Napitupulu Bagasan, Kec. Balige, Toba, Sumatera Utara, Indonesia\",\n          \"Taman Eden, Ps. Lumban Julu, Kec. Lumban Julu, Toba, Sumatera Utara 22386, Indonesia\"\n        ],\n        \"semantic_type\": \"\",\n        \"description\": \"\"\n      }\n    },\n    {\n      \"column\": \"PlaceID\",\n      \"properties\": {\n        \"dtype\": \"number\",\n        \"std\": 28,\n        \"min\": 0,\n        \"max\": 101,\n        \"num_unique_values\": 102,\n        \"samples\": [\n          54,\n          58,\n          66\n        ],\n        \"semantic_type\": \"\",\n        \"description\": \"\"\n      }\n    },\n    {\n      \"column\": \"Nama_tempat_wisata\",\n      \"properties\": {\n        \"dtype\": \"category\",\n        \"num_unique_values\": 102,\n        \"samples\": [\n          \"Panatapan Tara Bunga\",\n          \"Pantai Indah Situngkir (PIS)\",\n          \"Pasar Tomok\"\n        ],\n        \"semantic_type\": \"\",\n        \"description\": \"\"\n      }\n    },\n    {\n      \"column\": \"Category\",\n      \"properties\": {\n        \"dtype\": \"number\",\n        \"std\": 1,\n        \"min\": 0,\n        \"max\": 7,\n        \"num_unique_values\": 8,\n        \"samples\": [\n          5,\n          6,\n          1\n        ],\n        \"semantic_type\": \"\",\n        \"description\": \"\"\n      }\n    },\n    {\n      \"column\": \"ReviewerId\",\n      \"properties\": {\n        \"dtype\": \"number\",\n        \"std\": 4349,\n        \"min\": 0,\n        \"max\": 15011,\n        \"num_unique_values\": 15012,\n        \"samples\": [\n          10119,\n          3306,\n          6821\n        ],\n        \"semantic_type\": \"\",\n        \"description\": \"\"\n      }\n    },\n    {\n      \"column\": \"Rating\",\n      \"properties\": {\n        \"dtype\": \"number\",\n        \"std\": 0.9277599389462311,\n        \"min\": 1.0,\n        \"max\": 5.0,\n        \"num_unique_values\": 5,\n        \"samples\": [\n          2.0,\n          1.0,\n          3.0\n        ],\n        \"semantic_type\": \"\",\n        \"description\": \"\"\n      }\n    },\n    {\n      \"column\": \"Reviews\",\n      \"properties\": {\n        \"dtype\": \"category\",\n        \"num_unique_values\": 17993,\n        \"samples\": [\n          \"tempat wisata yang sangat recommended bareng keluarga pasangan maupun healing sendiri hehe kapan lagi bisa duduk di bangku yang pernah di dudukin sama pak jokowi uhuyy buat yang isi pikirannya penat harus ke sini gengss\",\n          \"sukabgt tpi klo jm 122 kesini panasnya pol ga ada angin samsek\",\n          \"bagak do bah mantap\"\n        ],\n        \"semantic_type\": \"\",\n        \"description\": \"\"\n      }\n    }\n  ]\n}"
            }
          },
          "metadata": {},
          "execution_count": 3
        }
      ],
      "source": [
        "# Check for missing values\n",
        "def check_missing_values(df):\n",
        "    missing_values = df.isnull().sum()\n",
        "    missing_values = missing_values[missing_values > 0].sort_values(ascending=False)\n",
        "    if missing_values.empty:\n",
        "        print(\"No missing values in the DataFrame.\")\n",
        "    else:\n",
        "        print(\"Missing values in each column:\")\n",
        "        print(missing_values)\n",
        "\n",
        "check_missing_values(data)\n",
        "\n",
        "# Preprocessing\n",
        "from sklearn.preprocessing import LabelEncoder\n",
        "\n",
        "# Remove unnecessary columns\n",
        "data = data.drop(columns=[\"Unnamed: 0.1\", \"Unnamed: 0\"])\n",
        "\n",
        "# Handle missing values\n",
        "data['Reviews'] = data['Reviews'].fillna('')\n",
        "\n",
        "# Encode categorical columns\n",
        "label_encoder_place = LabelEncoder()\n",
        "data['PlaceID'] = label_encoder_place.fit_transform(data['Nama_tempat_wisata'])\n",
        "\n",
        "label_encoder_category = LabelEncoder()\n",
        "data['Category'] = label_encoder_category.fit_transform(data['Category'])\n",
        "\n",
        "label_encoder_reviewer = LabelEncoder()\n",
        "data['ReviewerId'] = label_encoder_reviewer.fit_transform(data['ReviewerId'])\n",
        "\n",
        "data.head()"
      ]
    },
    {
      "cell_type": "markdown",
      "metadata": {
        "id": "6pMZk3RnZF5r"
      },
      "source": [
        "Pada bagian code ini, dilakukan preprocessing data dengan tujuan untuk membersihkan dan mempersiapkan dataset sebelum dianalisis. Pertama, fungsi `check_missing_values()` digunakan untuk memeriksa dan melaporkan keberadaan nilai yang hilang pada setiap kolom dalam DataFrame. Selanjutnya, dua kolom yang tidak relevan (*\"Unnamed: 0.1\"* dan *\"Unnamed: 0\"*) dihapus, dan nilai yang hilang pada kolom *\"Reviews\"* diisi dengan string kosong (`''`). Kemudian, data kategorikal pada kolom *\"Nama_tempat_wisata\"*, *\"Category\"*, dan *\"ReviewerId\"* dikonversi menjadi nilai numerik menggunakan `LabelEncoder`, dengan hasil encoding disimpan di kolom masing-masing. Dengan demikian, Proses ini dilakukan untuk memastikan dataset siap digunakan dalam analisis lebih lanjut, dengan mengatasi nilai yang hilang dan mengubah data kategorikal menjadi format numerik yang dapat diproses algoritma."
      ]
    },
    {
      "cell_type": "markdown",
      "metadata": {
        "id": "2NgXvi41ZKYg"
      },
      "source": [
        "### 3. Setup Spark and Train, Val, Test Split\n"
      ]
    },
    {
      "cell_type": "code",
      "execution_count": null,
      "metadata": {
        "colab": {
          "base_uri": "https://localhost:8080/"
        },
        "id": "X7q4JwPOq-Wa",
        "outputId": "bc19da72-5c8b-41d5-e043-38abb5c8132e"
      },
      "outputs": [
        {
          "output_type": "stream",
          "name": "stdout",
          "text": [
            "Training set count: 31058\n",
            "Validation set count: 6065\n",
            "Test set count: 6102\n"
          ]
        }
      ],
      "source": [
        "from pyspark.sql import SparkSession\n",
        "from pyspark.ml.recommendation import ALS\n",
        "from pyspark.sql.functions import col, mean, stddev\n",
        "\n",
        "# Create a Spark session\n",
        "spark = SparkSession.builder \\\n",
        "    .appName(\"ALS Recommendation System\") \\\n",
        "    .getOrCreate()\n",
        "\n",
        "# Convert pandas DataFrame to Spark DataFrame\n",
        "spark_df = spark.createDataFrame(data)\n",
        "\n",
        "# Handle missing data\n",
        "spark_df = spark_df.dropna(subset=[\"ReviewerId\", \"PlaceID\", \"Rating\"])\n",
        "\n",
        "# Normalize the 'Rating' column\n",
        "rating_stats = spark_df.select(mean(\"Rating\").alias(\"mean\"), stddev(\"Rating\").alias(\"std\")).first()\n",
        "mean_rating, std_rating = rating_stats[\"mean\"], rating_stats[\"std\"]\n",
        "\n",
        "spark_df = spark_df.withColumn(\"NormalizedRating\", (col(\"Rating\") - mean_rating) / std_rating)\n",
        "\n",
        "# Perform the initial random split\n",
        "splits = spark_df.randomSplit([0.75, 0.15, 0.15], seed=42)\n",
        "\n",
        "# Calculate exact counts for each split\n",
        "total_count = spark_df.count()\n",
        "train_count = int(total_count * 0.75)\n",
        "val_count = int(total_count * 0.15)\n",
        "test_count = total_count - train_count - val_count  # Remaining rows for test\n",
        "\n",
        "# Collect splits and adjust\n",
        "train_df = splits[0].limit(train_count)\n",
        "val_df = splits[1].limit(val_count)\n",
        "test_df = splits[2]  # Remaining data goes into test set\n",
        "\n",
        "# Print adjusted counts\n",
        "print(f\"Training set count: {train_df.count()}\")\n",
        "print(f\"Validation set count: {val_df.count()}\")\n",
        "print(f\"Test set count: {test_df.count()}\")"
      ]
    },
    {
      "cell_type": "markdown",
      "metadata": {
        "id": "_A9rz09BZm9T"
      },
      "source": [
        "Pada kode ini, dilakukan pemrograman untuk mempersiapkan data dalam rangka membangun sistem rekomendasi menggunakan algoritma Alternating Least Squares (ALS) di PySpark. Pertama, sebuah sesi Spark (SparkSession) dibuat dengan nama aplikasi \"ALS Recommendation System\" yang memungkinkan untuk menjalankan operasi berbasis Spark. Setelah itu, data yang awalnya berupa Pandas DataFrame diubah menjadi Spark DataFrame dengan menggunakan fungsi `createDataFrame()`, karena PySpark memproses data dalam format Spark DataFrame. Kemudian, dilakukan penanganan data yang hilang dengan menghapus baris-baris yang memiliki nilai kosong pada kolom yang diperlukan, yaitu \"ReviewerId\", \"PlaceID\", dan \"Rating\", menggunakan fungsi `dropna()`. Selanjutnya, dilakukan normalisasi pada kolom 'Rating' dengan menghitung rata-rata (mean) dan deviasi standar (std) dari nilai rating, yang kemudian digunakan untuk menormalkan setiap nilai rating dengan rumus `(Rating - mean) / std`. Langkah terakhir adalah membagi dataset menjadi dua bagian, yakni 70% untuk data pelatihan dan 15% untuk data pengujian dan validasi masing-masing, menggunakan fungsi `randomSplit()` dengan seed yang ditentukan untuk memastikan pembagian yang konsisten di setiap percobaan."
      ]
    },
    {
      "cell_type": "markdown",
      "metadata": {
        "id": "-wC5oE0vZ0Kx"
      },
      "source": [
        "### 4. Create and train the ALS model\n"
      ]
    },
    {
      "cell_type": "code",
      "execution_count": 6,
      "metadata": {
        "id": "WNmnJpVbTngS"
      },
      "outputs": [],
      "source": [
        "als = ALS(\n",
        "    userCol=\"ReviewerId\",\n",
        "    itemCol=\"PlaceID\",\n",
        "    ratingCol=\"NormalizedRating\",\n",
        "    rank=15,\n",
        "    maxIter=20,\n",
        "    regParam=0.2,\n",
        "    nonnegative=True,\n",
        "    implicitPrefs=False,\n",
        "    coldStartStrategy=\"drop\"\n",
        ")\n",
        "\n",
        "\n",
        "# Train ALS model\n",
        "model = als.fit(train_df)\n"
      ]
    },
    {
      "cell_type": "markdown",
      "metadata": {
        "id": "weAqcU4FaOIR"
      },
      "source": [
        "Pada bagian kode ini, dilakukan pemrograman untuk mendefinisikan dan melatih model rekomendasi menggunakan algoritma Alternating Least Squares (ALS) di PySpark. Model ALS diatur dengan beberapa parameter penting, di antaranya `userCol` dan `itemCol` yang menunjuk pada kolom yang berisi ID pengguna dan ID tempat, sementara `ratingCol` menunjuk pada kolom yang berisi rating yang dinormalisasi. Beberapa hyperparameter penting lainnya ditentukan, seperti `rank` yang mengontrol jumlah dimensi faktor laten (dalam hal ini diatur ke 15), `maxIter` yang menentukan jumlah iterasi dalam optimisasi (dalam hal ini diatur ke 20), dan `regParam` yang mengontrol tingkat regularisasi untuk menghindari overfitting (dalam hal ini diatur ke 0.2). Parameter `nonnegative=True` memastikan bahwa faktor yang dihasilkan tidak mengandung nilai negatif, sedangkan `implicitPrefs=False` menunjukkan bahwa model tidak menggunakan preferensi implisit seperti klik atau interaksi lainnya. Strategi `coldStartStrategy` diatur ke \"drop\", yang berarti model akan mengabaikan pengguna atau item yang tidak memiliki interaksi sebelumnya. Setelah semua pengaturan selesai, model dilatih menggunakan data pelatihan (`train_df`) dengan metode `fit()`."
      ]
    },
    {
      "cell_type": "markdown",
      "source": [
        "### Hyperparameter Tuning"
      ],
      "metadata": {
        "id": "Fx0MdrHHG--S"
      }
    },
    {
      "cell_type": "code",
      "source": [
        "# from pyspark.ml.evaluation import RegressionEvaluator\n",
        "\n",
        "# # Define hyperparameter grids\n",
        "# ranks = [5, 10, 15, 20]\n",
        "# reg_params = [0.01, 0.05, 0.1, 0.2, 0.5]\n",
        "# best_model = None\n",
        "# best_val_rmse = float(\"inf\")\n",
        "# best_params = (None, None)\n",
        "\n",
        "# # Evaluator for RMSE\n",
        "# evaluator_rmse = RegressionEvaluator(\n",
        "#     metricName=\"rmse\",\n",
        "#     labelCol=\"NormalizedRating\",\n",
        "#     predictionCol=\"prediction\"\n",
        "# )\n",
        "\n",
        "# # Grid search for hyperparameter tuning\n",
        "# for rank in ranks:\n",
        "#     for reg_param in reg_params:\n",
        "#         print(f\"Training ALS with rank={rank}, regParam={reg_param}\")\n",
        "\n",
        "#         # Train the ALS model\n",
        "#         als = ALS(\n",
        "#             userCol=\"ReviewerId\",\n",
        "#             itemCol=\"PlaceID\",\n",
        "#             ratingCol=\"NormalizedRating\",\n",
        "#             rank=rank,\n",
        "#             regParam=reg_param,\n",
        "#             maxIter=20,\n",
        "#             nonnegative=True,\n",
        "#             implicitPrefs=False,\n",
        "#             coldStartStrategy=\"drop\"\n",
        "#         )\n",
        "#         model = als.fit(train_df)\n",
        "\n",
        "#         # Evaluate on validation set\n",
        "#         val_predictions = model.transform(val_df).dropna(subset=[\"prediction\"])\n",
        "#         val_rmse = evaluator_rmse.evaluate(val_predictions)\n",
        "#         print(f\"Validation RMSE: {val_rmse}\")\n",
        "\n",
        "#         # Update best model if current is better\n",
        "#         if val_rmse < best_val_rmse:\n",
        "#             best_val_rmse = val_rmse\n",
        "#             best_model = model\n",
        "#             best_params = (rank, reg_param)\n",
        "\n",
        "# print(f\"\\nBest Model Parameters: rank={best_params[0]}, regParam={best_params[1]}\")\n",
        "# print(f\"Best Validation RMSE: {best_val_rmse}\")\n",
        "\n",
        "\n",
        "# 5m\n",
        "# from pyspark.ml.evaluation import RegressionEvaluator\n",
        "\n",
        "# # Define hyperparameter grids\n",
        "# ranks = [5, 10, 15, 20]\n",
        "# reg_params = [0.01, 0.05, 0.1, 0.2, 0.5]\n",
        "# best_model = None\n",
        "# best_val_rmse = float(\"inf\")\n",
        "# best_params = (None, None)\n",
        "\n",
        "# # Evaluator for RMSE\n",
        "\n",
        "# Training ALS with rank=5, regParam=0.01\n",
        "# Validation RMSE: 1.0360581950404588\n",
        "# Training ALS with rank=5, regParam=0.05\n",
        "# Validation RMSE: 1.0209488107551645\n",
        "# Training ALS with rank=5, regParam=0.1\n",
        "# Validation RMSE: 1.0090154740243065\n",
        "# Training ALS with rank=5, regParam=0.2\n",
        "# Validation RMSE: 0.9978878760111939\n",
        "# Training ALS with rank=5, regParam=0.5\n",
        "# Validation RMSE: 1.0007828032992987\n",
        "# Training ALS with rank=10, regParam=0.01\n",
        "# Validation RMSE: 1.0221469003918604\n",
        "# Training ALS with rank=10, regParam=0.05\n",
        "# Validation RMSE: 1.0100737285675117\n",
        "# Training ALS with rank=10, regParam=0.1\n",
        "# Validation RMSE: 1.0049319073710274\n",
        "# Training ALS with rank=10, regParam=0.2\n",
        "# Validation RMSE: 0.9976069272183749\n",
        "# Training ALS with rank=10, regParam=0.5\n",
        "# Validation RMSE: 1.0007828032994779\n",
        "# Training ALS with rank=15, regParam=0.01\n",
        "# Validation RMSE: 1.0168734286537753\n",
        "# Training ALS with rank=15, regParam=0.05\n",
        "# Validation RMSE: 1.0102521734904657\n",
        "# Training ALS with rank=15, regParam=0.1\n",
        "# Validation RMSE: 1.005623674829522\n",
        "# Training ALS with rank=15, regParam=0.2\n",
        "# Validation RMSE: 0.9969752234625499\n",
        "# Training ALS with rank=15, regParam=0.5\n",
        "# Validation RMSE: 1.0007828032992365\n",
        "# Training ALS with rank=20, regParam=0.01\n",
        "# Validation RMSE: 1.0181903602850886\n",
        "# Training ALS with rank=20, regParam=0.05\n",
        "# Validation RMSE: 1.0101272275067985\n",
        "# Training ALS with rank=20, regParam=0.1\n",
        "# Validation RMSE: 1.0038699978792027\n",
        "# Training ALS with rank=20, regParam=0.2\n",
        "# Validation RMSE: 0.9972264889817026\n",
        "# Training ALS with rank=20, regParam=0.5\n",
        "# Validation RMSE: 1.0007828033000483\n",
        "\n",
        "# Best Model Parameters: rank=15, regParam=0.2\n",
        "# Best Validation RMSE: 0.9969752234625499"
      ],
      "metadata": {
        "id": "PlMslanZG-oJ"
      },
      "execution_count": null,
      "outputs": []
    },
    {
      "cell_type": "markdown",
      "source": [
        "Dalam pemodelan ini, kami menggunakan pendekatan kedua yaitu dengan menggunakan hyperparameter tunning. Code ini kami gunakan untuk mengetahui parameter-parameter terbaik yang dapat diperoleh untuk memperoleh hasil RMSE yang paling baik. Kode ini melakukan Hyperparameter tuning untuk algoritma ALS (Alternating Least Squares). Hyperparameter yang diuji adalah rank (jumlah faktor laten) dan regParam (parameter regularisasi), dengan evaluasi performa model menggunakan metrik Root Mean Square Error (RMSE) pada data validasi. Untuk setiap kombinasi hyperparameter dalam grid search, model dilatih pada data pelatihan dan nilai RMSE dicatat. Model terbaik dipilih berdasarkan nilai RMSE terendah pada data validasi. Hasil output menunjukkan bahwa model terbaik memiliki parameter `rank=15` dan `regParam=0.2`, dengan nilai RMSE terbaik sebesar 0.996975. Untuk mempercepata waktu eksekusi kami menggunakan pendekatan ini sebagai optional untuk mendapatkan parameter dan penerapkannya di pemodelan pendekatan pertama."
      ],
      "metadata": {
        "id": "VnpxUg8beZtJ"
      }
    },
    {
      "cell_type": "markdown",
      "metadata": {
        "id": "L4LmAxeIaVGc"
      },
      "source": [
        "### 5. Evaluate the model (RMSE and MAE) On Validation\n"
      ]
    },
    {
      "cell_type": "code",
      "execution_count": 7,
      "metadata": {
        "id": "ccplA3boTq_e",
        "colab": {
          "base_uri": "https://localhost:8080/"
        },
        "outputId": "18c922bc-9c61-436e-872d-8ffc073f47d8"
      },
      "outputs": [
        {
          "output_type": "stream",
          "name": "stdout",
          "text": [
            "Validation RMSE: 0.9973513333802047\n",
            "Mean Absolute Error (MAE): 0.702873112152397\n"
          ]
        }
      ],
      "source": [
        "from pyspark.ml.evaluation import RegressionEvaluator\n",
        "\n",
        "# Evaluate on validation set to tune hyperparameters\n",
        "val_predictions = model.transform(val_df).dropna(subset=[\"prediction\"])\n",
        "evaluator_rmse = RegressionEvaluator(\n",
        "    metricName=\"rmse\",\n",
        "    labelCol=\"NormalizedRating\",\n",
        "    predictionCol=\"prediction\"\n",
        ")\n",
        "val_rmse = evaluator_rmse.evaluate(val_predictions)\n",
        "print(f\"Validation RMSE: {val_rmse}\")\n",
        "\n",
        "# Evaluate with MAE\n",
        "evaluator_mae = RegressionEvaluator(\n",
        "    metricName=\"mae\",\n",
        "    labelCol=\"NormalizedRating\",\n",
        "    predictionCol=\"prediction\"\n",
        ")\n",
        "mae = evaluator_mae.evaluate(val_predictions)\n",
        "print(f\"Mean Absolute Error (MAE): {mae}\")"
      ]
    },
    {
      "cell_type": "markdown",
      "metadata": {
        "id": "1kmTT_blbcka"
      },
      "source": [
        "Pada bagian kode ini, Setelah model dilatih, prediksi dilakukan pada data validasi (val_df) menggunakan metode `transform()`, yang menghasilkan prediksi rating untuk setiap pengguna dan tempat. Selanjutnya, baris yang menghasilkan nilai prediksi NaN dihapus dengan fungsi `dropna()` untuk memastikan bahwa hanya data yang memiliki prediksi valid yang digunakan dalam evaluasi. Proses evaluasi kemudian dilakukan dengan menggunakan dua metrik yang umum digunakan untuk regresi: **Root Mean Squared Error** (RMSE) dan **Mean Absolute Error** (MAE), yang dihitung menggunakan `RegressionEvaluator` dari PySpark. RMSE mengukur seberapa besar kesalahan rata-rata dalam prediksi model dengan menghitung akar dari rata-rata kuadrat selisih antara prediksi dan nilai sebenarnya. Nilai RMSE yang lebih kecil menunjukkan prediksi yang lebih akurat. MAE, di sisi lain, mengukur rata-rata dari kesalahan absolut antara nilai prediksi dan nilai aktual, memberikan gambaran tentang besarnya kesalahan yang dilakukan oleh model pada setiap prediksi.\n",
        "\n",
        "Hasil evaluasi ini menunjukkan kinerja model rekomendasi berdasarkan dua metrik regresi utama: **Root Mean Squared Error (RMSE)** dan **Mean Absolute Error (MAE)**. **RMSE** menunjukkan bahwa kesalahan rata-rata model dalam memprediksi rating berada pada kisaran 0.9968, yang berarti bahwa perbedaan antara nilai prediksi dan nilai asli cenderung lebih kecil, tetapi masih ada ruang untuk perbaikan. Nilai RMSE ini menggambarkan seberapa besar kesalahan model dalam skala yang sama dengan rating yang diprediksi, di mana semakin rendah nilai RMSE, semakin akurat model dalam memprediksi rating yang sebenarnya. **MAE** menunjukkan bahwa rata-rata kesalahan absolut antara prediksi dan nilai asli adalah sekitar 0.7036. Nilai MAE ini lebih kecil dibandingkan dengan RMSE, yang menunjukkan bahwa meskipun model terkadang memiliki kesalahan yang lebih besar, kesalahan rata-rata pada tingkat individual prediksi lebih terkontrol."
      ]
    },
    {
      "cell_type": "markdown",
      "source": [
        "### 5A. Evaluate the model (RMSE and MAE) On Test Set\n"
      ],
      "metadata": {
        "id": "OijpyotQTSxr"
      }
    },
    {
      "cell_type": "code",
      "source": [
        "from pyspark.ml.evaluation import RegressionEvaluator\n",
        "\n",
        "# Evaluate on validation set to tune hyperparameters\n",
        "test_predictions = model.transform(test_df).dropna(subset=[\"prediction\"])\n",
        "evaluator_rmse = RegressionEvaluator(\n",
        "    metricName=\"rmse\",\n",
        "    labelCol=\"NormalizedRating\",\n",
        "    predictionCol=\"prediction\"\n",
        ")\n",
        "val_rmse = evaluator_rmse.evaluate(test_predictions)\n",
        "print(f\"Validation RMSE: {val_rmse}\")\n",
        "\n",
        "# Evaluate with MAE\n",
        "evaluator_mae = RegressionEvaluator(\n",
        "    metricName=\"mae\",\n",
        "    labelCol=\"NormalizedRating\",\n",
        "    predictionCol=\"prediction\"\n",
        ")\n",
        "mae = evaluator_mae.evaluate(test_predictions)\n",
        "print(f\"Mean Absolute Error (MAE): {mae}\")"
      ],
      "metadata": {
        "id": "48Ukekr0TTGT",
        "colab": {
          "base_uri": "https://localhost:8080/"
        },
        "outputId": "0050fb25-63a6-457a-cbca-f71faf64155a"
      },
      "execution_count": 8,
      "outputs": [
        {
          "output_type": "stream",
          "name": "stdout",
          "text": [
            "Validation RMSE: 0.9604932522390827\n",
            "Mean Absolute Error (MAE): 0.6853611491751039\n"
          ]
        }
      ]
    },
    {
      "cell_type": "markdown",
      "source": [
        "Pada bagian kode ini, dilakukan prediksi dan evaluasi model rekomendasi yang telah dilatih menggunakan ALS. Prediksi dilakukan pada data pengujian (test_df) menggunakan metode `transform()`, yang menghasilkan prediksi rating untuk setiap pengguna dan tempat. Penerapan yang dilakukan sama seperti pada data validasi namun hasil yang diperoleh menunjukkan sedikit perubahan.\n",
        "\n",
        "Hasil evaluasi ini menunjukkan kinerja model rekomendasi berdasarkan dua metrik regresi utama: **Root Mean Squared Error (RMSE)** dan **Mean Absolute Error (MAE)**. **RMSE** menunjukkan bahwa kesalahan rata-rata model dalam memprediksi rating berada pada kisaran 0.9600, yang berarti bahwa perbedaan antara nilai prediksi dan nilai asli cenderung lebih kecil lebih kecil dari data validasi, walaupun kesimpulan akhir tetapi masih ada ruang untuk perbaikan kedepannya. Nilai RMSE ini menggambarkan seberapa besar kesalahan model dalam skala yang sama dengan rating yang diprediksi, di mana semakin rendah nilai RMSE, semakin akurat model dalam memprediksi rating yang sebenarnya. **MAE** menunjukkan bahwa rata-rata kesalahan absolut antara prediksi dan nilai asli adalah sekitar 0.857. Nilai MAE ini lebih kecil dibandingkan dengan RMSE, yang menunjukkan bahwa meskipun model terkadang memiliki kesalahan yang lebih besar, kesalahan rata-rata pada tingkat individual prediksi lebih terkontrol."
      ],
      "metadata": {
        "id": "W2gkBAYYgn7I"
      }
    },
    {
      "cell_type": "markdown",
      "metadata": {
        "id": "XjqYM2JjXugs"
      },
      "source": [
        "#### Visualizing RMSE and MAE"
      ]
    },
    {
      "cell_type": "code",
      "execution_count": 9,
      "metadata": {
        "id": "n6UZpPwyYDnd",
        "colab": {
          "base_uri": "https://localhost:8080/",
          "height": 541
        },
        "outputId": "52de5b36-8fa6-4ab3-f6f9-4976d67758fa"
      },
      "outputs": [
        {
          "output_type": "display_data",
          "data": {
            "text/plain": [
              "<Figure size 800x500 with 1 Axes>"
            ],
            "image/png": "[encoded data removed]"
          },
          "metadata": {}
        },
        {
          "output_type": "stream",
          "name": "stdout",
          "text": [
            "Model Evaluation Metrics (RMSE and MAE):\n",
            "  Metric     Value\n",
            "0   RMSE  0.960493\n",
            "1    MAE  0.685361\n"
          ]
        }
      ],
      "source": [
        "import matplotlib.pyplot as plt\n",
        "import pandas as pd\n",
        "\n",
        "# Hasil evaluasi model\n",
        "rmse = evaluator_rmse.evaluate(test_predictions)\n",
        "mae = evaluator_mae.evaluate(test_predictions)\n",
        "\n",
        "# 1. Buat DataFrame untuk menyimpan hasil metrik\n",
        "metrics_data = {\n",
        "    \"Metric\": [\"RMSE\", \"MAE\"],\n",
        "    \"Value\": [rmse, mae]\n",
        "}\n",
        "metrics_df = pd.DataFrame(metrics_data)\n",
        "\n",
        "# 2. Visualisasi RMSE dan MAE\n",
        "plt.figure(figsize=(8, 5))\n",
        "bars = plt.bar(metrics_df[\"Metric\"], metrics_df[\"Value\"], color=['blue', 'orange'])\n",
        "plt.title(\"Model Evaluation Metrics (RMSE and MAE)\")\n",
        "plt.ylabel(\"Error Value\")\n",
        "plt.ylim(0, max(metrics_df[\"Value\"]) * 1.2)  # Scale the y-axis\n",
        "\n",
        "# Add values above bars\n",
        "for bar in bars:\n",
        "    yval = bar.get_height()\n",
        "    plt.text(bar.get_x() + bar.get_width()/2.0, yval + 0.02, round(yval, 2), ha='center', va='bottom')\n",
        "\n",
        "plt.grid(axis=\"y\", linestyle=\"--\", alpha=0.7)\n",
        "plt.show()\n",
        "\n",
        "# 3. Tampilkan DataFrame sebagai tabel\n",
        "print(\"Model Evaluation Metrics (RMSE and MAE):\")\n",
        "print(metrics_df)\n"
      ]
    },
    {
      "cell_type": "markdown",
      "metadata": {
        "id": "krY6ct9Ybzp4"
      },
      "source": [
        "### 6. Evaluate the model (Average Precision, Average Recall, Mean Average Precision)\n"
      ]
    },
    {
      "cell_type": "code",
      "execution_count": 11,
      "metadata": {
        "id": "VU2Jy1rkTuZa",
        "colab": {
          "base_uri": "https://localhost:8080/"
        },
        "outputId": "eca2f3d4-d86e-427c-c385-94f9b91defb7"
      },
      "outputs": [
        {
          "output_type": "stream",
          "name": "stdout",
          "text": [
            "Average Precision@5: 0.05656233659520452\n",
            "Average Recall@5: 0.16858692437935266\n",
            "Mean Average Precision@5: 0.0770224430002575\n",
            "Average Precision@10: 0.06214237693284524\n",
            "Average Recall@10: 0.3197741857753117\n",
            "Mean Average Precision@10: 0.098198202031325\n"
          ]
        }
      ],
      "source": [
        "from pyspark.sql.functions import collect_list, col\n",
        "\n",
        "K1 = 5  # Top-5 recommendations\n",
        "K2 = 10  # Top-10 recommendations\n",
        "\n",
        "user_recommendations = model.recommendForAllUsers(K2)  # Top-10 recommendations\n",
        "\n",
        "# Ground Truth\n",
        "actual_places = spark_df.groupBy(\"ReviewerId\").agg(collect_list(\"PlaceID\").alias(\"ActualPlaces\"))\n",
        "\n",
        "# Gabungkan rekomendasi dengan ground truth\n",
        "evaluation_df = user_recommendations.withColumn(\n",
        "    \"RecommendedPlaces\", col(\"recommendations.PlaceID\")\n",
        ").join(actual_places, on=\"ReviewerId\")\n",
        "\n",
        "# Definisikan fungsi evaluasi untuk Precision, Recall, MAP\n",
        "def precision_at_k(actual, predicted, k):\n",
        "    actual_set = set(actual)\n",
        "    predicted_set = set(predicted[:k])\n",
        "    return len(actual_set & predicted_set) / k\n",
        "\n",
        "def recall_at_k(actual, predicted, k):\n",
        "    actual_set = set(actual)\n",
        "    predicted_set = set(predicted[:k])\n",
        "    return len(actual_set & predicted_set) / len(actual_set) if len(actual_set) > 0 else 0\n",
        "\n",
        "def average_precision_at_k(actual, predicted, k):\n",
        "    score, hits = 0.0, 0\n",
        "    for i, p in enumerate(predicted[:k]):\n",
        "        if p in actual:\n",
        "            hits += 1\n",
        "            score += hits / (i + 1.0)\n",
        "    return score / min(len(actual), k) if actual else 0.0\n",
        "\n",
        "# Hitung metrik untuk setiap user\n",
        "evaluation_results = evaluation_df.rdd.map(lambda row: (\n",
        "    row[\"ReviewerId\"],\n",
        "    precision_at_k(row[\"ActualPlaces\"], row[\"RecommendedPlaces\"], K1),  # Precision@5\n",
        "    recall_at_k(row[\"ActualPlaces\"], row[\"RecommendedPlaces\"], K1),  # Recall@5\n",
        "    average_precision_at_k(row[\"ActualPlaces\"], row[\"RecommendedPlaces\"], K1),  # MAP@5\n",
        "    precision_at_k(row[\"ActualPlaces\"], row[\"RecommendedPlaces\"], K2),  # Precision@10\n",
        "    recall_at_k(row[\"ActualPlaces\"], row[\"RecommendedPlaces\"], K2),  # Recall@10\n",
        "    average_precision_at_k(row[\"ActualPlaces\"], row[\"RecommendedPlaces\"], K2)  # MAP@10\n",
        "))\n",
        "\n",
        "# Konversi hasil ke DataFrame\n",
        "evaluation_results_df = evaluation_results.toDF([\"ReviewerId\", \"Precision@5\", \"Recall@5\", \"MAP@5\", \"Precision@10\", \"Recall@10\", \"MAP@10\"])\n",
        "\n",
        "# Hitung rata-rata metrik\n",
        "avg_precision_5 = evaluation_results_df.select(\"Precision@5\").rdd.map(lambda x: x[0]).mean()\n",
        "avg_recall_5 = evaluation_results_df.select(\"Recall@5\").rdd.map(lambda x: x[0]).mean()\n",
        "avg_map_5 = evaluation_results_df.select(\"MAP@5\").rdd.map(lambda x: x[0]).mean()\n",
        "\n",
        "avg_precision_10 = evaluation_results_df.select(\"Precision@10\").rdd.map(lambda x: x[0]).mean()\n",
        "avg_recall_10 = evaluation_results_df.select(\"Recall@10\").rdd.map(lambda x: x[0]).mean()\n",
        "avg_map_10 = evaluation_results_df.select(\"MAP@10\").rdd.map(lambda x: x[0]).mean()\n",
        "\n",
        "# Print Average Metrics\n",
        "print(f\"Average Precision@5: {avg_precision_5}\")\n",
        "print(f\"Average Recall@5: {avg_recall_5}\")\n",
        "print(f\"Mean Average Precision@5: {avg_map_5}\")\n",
        "print(f\"Average Precision@10: {avg_precision_10}\")\n",
        "print(f\"Average Recall@10: {avg_recall_10}\")\n",
        "print(f\"Mean Average Precision@10: {avg_map_10}\")\n"
      ]
    },
    {
      "cell_type": "markdown",
      "metadata": {
        "id": "ECN4_cJ9a0p7"
      },
      "source": [
        "Pada bagian kode ini, dilakukan proses untuk menghasilkan rekomendasi top-K dan mengevaluasi performa model rekomendasi yang telah dilatih menggunakan ALS. Pertama, rekomendasi untuk setiap pengguna dihasilkan dengan menggunakan metode `recommendForAllUsers(K)`, yang memberikan daftar 10 rekomendasi teratas (K = 10) untuk setiap pengguna. Selanjutnya, dilakukan pengolahan data untuk menghubungkan rekomendasi yang dihasilkan dengan data aktual. Data ground truth (tempat yang benar-benar dikunjungi pengguna) dihimpun menggunakan `collect_list()` untuk mengumpulkan semua ID tempat yang dikunjungi oleh setiap pengguna. Kemudian, data rekomendasi yang dihasilkan oleh model digabungkan dengan data ground truth berdasarkan kolom `ReviewerId`.\n",
        "\n",
        "Untuk mengevaluasi kualitas rekomendasi, tiga metrik digunakan: Precision at K, Recall at K, dan Mean Average Precision (MAP) at K. Metrik Precision at K mengukur proporsi tempat yang benar-benar dikunjungi yang muncul dalam 10 rekomendasi teratas, sementara Recall at K mengukur proporsi tempat yang benar-benar dikunjungi yang ditemukan dalam rekomendasi teratas dibandingkan dengan total tempat yang dikunjungi. MAP at K mengukur rata-rata dari Precision yang dihitung pada setiap posisi dalam rekomendasi teratas, memberikan gambaran yang lebih rinci tentang kualitas rekomendasi. Metrik ini dihitung untuk setiap pengguna, dan hasilnya diubah menjadi DataFrame. Akhirnya, nilai rata-rata dari Precision, Recall, dan MAP dihitung dan dicetak untuk memberikan gambaran umum tentang performa model.\n",
        "\n",
        "Hasil evaluasi ini menunjukkan kinerja model rekomendasi yang diukur dengan tiga metrik utama: Precision at 10, Recall at 10, dan Mean Average Precision (MAP) at 10, untuk rekomendasi teratas yang dihasilkan oleh model. **Precision at 10** sebesar 0.1107 mengindikasikan bahwa sekitar 11% dari tempat yang direkomendasikan dalam 10 rekomendasi teratas benar-benar relevan atau sesuai dengan preferensi pengguna, yang berarti masih ada ruang untuk meningkatkan akurasi rekomendasi. **Recall at 10** yang mencapai 0.4933 menunjukkan bahwa sekitar 49% dari tempat yang benar-benar dikunjungi oleh pengguna ditemukan dalam 10 rekomendasi teratas, menunjukkan bahwa model cukup baik dalam menangkap sebagian besar preferensi pengguna, meskipun ada potensi untuk menangkap lebih banyak tempat yang relevan. **Mean Average Precision at 10** (MAP) sebesar 0.3568 adalah metrik yang mengukur rata-rata presisi pada posisi-posisi yang relevan di dalam 10 rekomendasi. Nilai MAP yang relatif rendah ini menunjukkan bahwa meskipun model kadang-kadang memberikan rekomendasi yang relevan, kualitasnya bisa lebih baik jika lebih banyak rekomendasi yang relevan ditemukan di posisi teratas."
      ]
    },
    {
      "cell_type": "markdown",
      "metadata": {
        "id": "i_q294GpYgLY"
      },
      "source": [
        "#### Visualizing Average Precision, Average Recall, and Mean Average Precision"
      ]
    },
    {
      "cell_type": "code",
      "execution_count": 12,
      "metadata": {
        "id": "jWNG5vGvYUHr",
        "colab": {
          "base_uri": "https://localhost:8080/",
          "height": 691
        },
        "outputId": "dbeef94d-2f7f-4468-d686-8dc2be86eadf"
      },
      "outputs": [
        {
          "output_type": "display_data",
          "data": {
            "text/plain": [
              "<Figure size 1000x600 with 1 Axes>"
            ],
            "image/png": "[encoded data removed]"
          },
          "metadata": {}
        },
        {
          "output_type": "stream",
          "name": "stdout",
          "text": [
            "Model Evaluation Metrics (Precision@K, Recall@K, MAP@K):\n",
            "         Metric     Value\n",
            "0   Precision@5  0.056562\n",
            "1      Recall@5  0.168587\n",
            "2         MAP@5  0.077022\n",
            "3  Precision@10  0.062142\n",
            "4     Recall@10  0.319774\n",
            "5        MAP@10  0.098198\n"
          ]
        }
      ],
      "source": [
        "import matplotlib.pyplot as plt\n",
        "import pandas as pd\n",
        "\n",
        "# Buat DataFrame untuk metrik evaluasi\n",
        "metrics_data = {\n",
        "    \"Metric\": [\"Precision@5\", \"Recall@5\", \"MAP@5\", \"Precision@10\", \"Recall@10\", \"MAP@10\"],\n",
        "    \"Value\": [avg_precision_5, avg_recall_5, avg_map_5, avg_precision_10, avg_recall_10, avg_map_10]\n",
        "}\n",
        "metrics_df = pd.DataFrame(metrics_data)\n",
        "\n",
        "# Visualisasi metrik evaluasi\n",
        "plt.figure(figsize=(10, 6))\n",
        "bars = plt.bar(metrics_df[\"Metric\"], metrics_df[\"Value\"], color=['green', 'blue', 'purple', 'orange', 'red', 'cyan'])\n",
        "plt.title(\"Model Evaluation Metrics (Precision@K, Recall@K, MAP@K)\")\n",
        "plt.ylabel(\"Value\")\n",
        "plt.ylim(0, 1)  # Semua metrik berada di antara 0 dan 1\n",
        "\n",
        "# Menambahkan nilai di atas batang\n",
        "for bar in bars:\n",
        "    yval = bar.get_height()\n",
        "    plt.text(bar.get_x() + bar.get_width()/2.0, yval + 0.02, f\"{yval:.2f}\", ha='center', va='bottom')\n",
        "\n",
        "plt.grid(axis=\"y\", linestyle=\"--\", alpha=0.7)\n",
        "plt.show()\n",
        "\n",
        "# Tampilkan DataFrame sebagai tabel\n",
        "print(\"Model Evaluation Metrics (Precision@K, Recall@K, MAP@K):\")\n",
        "print(metrics_df)\n"
      ]
    },
    {
      "cell_type": "markdown",
      "metadata": {
        "id": "Yk_z-bpycFCz"
      },
      "source": [
        "### 7. Generate recommendations for all users\n"
      ]
    },
    {
      "cell_type": "code",
      "execution_count": 13,
      "metadata": {
        "id": "MgXkvl8HXCEo",
        "colab": {
          "base_uri": "https://localhost:8080/"
        },
        "outputId": "ab836ea2-52f5-418d-e4e3-6269dd547f73"
      },
      "outputs": [
        {
          "output_type": "stream",
          "name": "stdout",
          "text": [
            "+----------+--------------------+\n",
            "|ReviewerId|     recommendations|\n",
            "+----------+--------------------+\n",
            "|         1|[{31, 0.30832928}...|\n",
            "|         3|[{69, 0.3606072},...|\n",
            "|         5|[{31, 0.2963424},...|\n",
            "|         6|[{31, 0.3213358},...|\n",
            "|         9|[{69, 0.33376786}...|\n",
            "|        12|[{99, 0.0}, {98, ...|\n",
            "|        13|[{5, 0.085577674}...|\n",
            "|        15|[{99, 0.074715115...|\n",
            "|        19|[{69, 0.27902135}...|\n",
            "|        20|[{69, 0.34162608}...|\n",
            "|        22|[{99, 0.0}, {98, ...|\n",
            "|        26|[{35, 0.03764262}...|\n",
            "|        27|[{69, 0.3289055},...|\n",
            "|        28|[{69, 0.27902135}...|\n",
            "|        31|[{31, 0.12650856}...|\n",
            "|        34|[{31, 0.30986935}...|\n",
            "|        35|[{31, 0.35371402}...|\n",
            "|        41|[{69, 0.3325638},...|\n",
            "|        43|[{99, 0.0}, {98, ...|\n",
            "|        44|[{69, 0.3325638},...|\n",
            "+----------+--------------------+\n",
            "only showing top 20 rows\n",
            "\n"
          ]
        }
      ],
      "source": [
        "user_recommendations = model.recommendForAllUsers(10)\n",
        "\n",
        "# Show user recommendations\n",
        "user_recommendations.show()"
      ]
    },
    {
      "cell_type": "markdown",
      "metadata": {
        "id": "Rgkoq83Qb-Ny"
      },
      "source": [
        "Pada bagian akhir ini, ditampilkan hasil rekomendasi untuk setiap pengguna berdasarkan model ALS yang telah dilatih. Fungsi `recommendForAllUsers(10)` memberikan 10 rekomendasi tempat wisata teratas untuk setiap pengguna, di mana angka 10 menunjukkan jumlah rekomendasi yang ingin diberikan kepada setiap pengguna. Hasil dari `recommendForAllUsers(10)` disimpan dalam variabel `user_recommendations`, dan fungsi `show()` digunakan untuk menampilkan hasil rekomendasi ini. Hasil yang ditampilkan akan menunjukkan kolom `ReviewerId` (ID pengguna) dan `recommendations` (daftar tempat yang direkomendasikan untuk pengguna tersebut). Setiap rekomendasi dalam kolom tersebut berisi ID tempat yang diprediksi akan disukai oleh pengguna."
      ]
    }
  ],
  "metadata": {
    "colab": {
      "provenance": []
    },
    "kernelspec": {
      "display_name": "Python 3",
      "name": "python3"
    },
    "language_info": {
      "name": "python"
    }
  },
  "nbformat": 4,
  "nbformat_minor": 0
}